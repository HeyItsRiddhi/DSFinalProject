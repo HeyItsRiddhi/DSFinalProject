{
 "cells": [
  {
   "cell_type": "code",
   "execution_count": null,
   "metadata": {
    "collapsed": true
   },
   "outputs": [],
   "source": [
    "#Some Testing of a Model moved from Make Datasets File\n",
    "df = registration\n",
    "df.columns\n",
    "remove = ['district', 'id', 'last', 'dr0p', 'first', 'garbage', \n",
    "       'dob', 'genid', 'drop2', 'idk', 'electiondate',\n",
    "       'typeofvote']\n",
    "df.drop(remove, axis = 1, inplace = True)"
   ]
  },
  {
   "cell_type": "code",
   "execution_count": null,
   "metadata": {
    "collapsed": true
   },
   "outputs": [],
   "source": [
    "df = pd.get_dummies(df, columns=['party'])"
   ]
  },
  {
   "cell_type": "code",
   "execution_count": null,
   "metadata": {
    "collapsed": true
   },
   "outputs": [],
   "source": [
    "msk = np.random.rand(len(df)) < 0.5\n",
    "train = df[msk]\n",
    "test = df[~msk]\n",
    "y_train = train['general']\n",
    "X_train = train[train.columns[train.columns != 'general']]\n",
    "y_test = test['general']\n",
    "X_test = test[test.columns[test.columns != 'general']]"
   ]
  },
  {
   "cell_type": "code",
   "execution_count": null,
   "metadata": {
    "collapsed": true
   },
   "outputs": [],
   "source": [
    "from sklearn.linear_model import LassoCV\n",
    "alpha=[0.0001, 0.001, 0.01, 0.1, 1, 10, 100, 1000, 10000]\n",
    "lasso = LassoCV(alphas=alpha, cv=10, max_iter=10000, fit_intercept=True)\n",
    "lasso.fit(X_train, y_train)\n",
    "#y_hat_pca_train = lasso.predict(X_train)\n",
    "#y_hat_pca_test = lasso.predict(X_test)\n",
    "print(lasso.score(X_train, y_train), lasso.score(X_test,\n",
    "y_test))"
   ]
  }
 ],
 "metadata": {
  "kernelspec": {
   "display_name": "Python 3",
   "language": "python",
   "name": "python3"
  },
  "language_info": {
   "codemirror_mode": {
    "name": "ipython",
    "version": 3
   },
   "file_extension": ".py",
   "mimetype": "text/x-python",
   "name": "python",
   "nbconvert_exporter": "python",
   "pygments_lexer": "ipython3",
   "version": "3.6.1"
  }
 },
 "nbformat": 4,
 "nbformat_minor": 2
}
