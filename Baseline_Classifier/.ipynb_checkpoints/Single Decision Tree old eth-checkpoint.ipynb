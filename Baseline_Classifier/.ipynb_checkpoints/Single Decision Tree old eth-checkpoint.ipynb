{
 "cells": [
  {
   "cell_type": "markdown",
   "metadata": {},
   "source": [
    "# Single Decision Tree\n",
    "CS109 Final Project"
   ]
  },
  {
   "cell_type": "code",
   "execution_count": 1,
   "metadata": {
    "collapsed": true
   },
   "outputs": [],
   "source": [
    "import numpy as np\n",
    "import pandas as pd\n",
    "import matplotlib\n",
    "import matplotlib.pyplot as plt\n",
    "import sklearn.metrics as metrics\n",
    "from sklearn.model_selection import cross_val_score\n",
    "from sklearn import tree\n",
    "from sklearn.tree import DecisionTreeClassifier\n",
    "from sklearn.ensemble import RandomForestClassifier\n",
    "from sklearn.ensemble import AdaBoostClassifier\n",
    "from sklearn.linear_model import LogisticRegressionCV\n",
    "%matplotlib inline"
   ]
  },
  {
   "cell_type": "code",
   "execution_count": 50,
   "metadata": {},
   "outputs": [],
   "source": [
    "df = pd.read_csv('age_dataset1.csv', sep='\\t')\n",
    "del df['Unnamed: 0']"
   ]
  },
  {
   "cell_type": "code",
   "execution_count": 51,
   "metadata": {},
   "outputs": [
    {
     "name": "stdout",
     "output_type": "stream",
     "text": [
      "Index(['FIRST_NAME', 'GEN16', 'LAST_NAME', 'district', 'dob', 'electiondate',\n",
      "       'female', 'id', 'party', 'regyear', 'typeofvote', 'zip', 'Prediction',\n",
      "       'Race', 'age'],\n",
      "      dtype='object') [2, 0, 2, 0, 431, 16297, 10, 0, 0, 0, 16297, 5, 2, 0, 431]\n"
     ]
    }
   ],
   "source": [
    "print(df.columns, df.isnull().sum(axis=0).tolist())"
   ]
  },
  {
   "cell_type": "code",
   "execution_count": 52,
   "metadata": {
    "collapsed": true
   },
   "outputs": [],
   "source": [
    "df['femaleis1'] = 0\n",
    "df.loc[(df['female'] == \"F\"),'femaleis1'] = \"1\"\n",
    "\n",
    "remove = ['FIRST_NAME', 'LAST_NAME', 'dob', 'electiondate',\n",
    "       'female', 'id', 'regyear', 'typeofvote', 'zip']\n",
    "        \n",
    "df.drop(remove, axis = 1, inplace = True)"
   ]
  },
  {
   "cell_type": "code",
   "execution_count": 53,
   "metadata": {},
   "outputs": [
    {
     "data": {
      "text/html": [
       "<div>\n",
       "<style scoped>\n",
       "    .dataframe tbody tr th:only-of-type {\n",
       "        vertical-align: middle;\n",
       "    }\n",
       "\n",
       "    .dataframe tbody tr th {\n",
       "        vertical-align: top;\n",
       "    }\n",
       "\n",
       "    .dataframe thead th {\n",
       "        text-align: right;\n",
       "    }\n",
       "</style>\n",
       "<table border=\"1\" class=\"dataframe\">\n",
       "  <thead>\n",
       "    <tr style=\"text-align: right;\">\n",
       "      <th></th>\n",
       "      <th>GEN16</th>\n",
       "      <th>district</th>\n",
       "      <th>party</th>\n",
       "      <th>Prediction</th>\n",
       "      <th>Race</th>\n",
       "      <th>age</th>\n",
       "      <th>femaleis1</th>\n",
       "    </tr>\n",
       "  </thead>\n",
       "  <tbody>\n",
       "    <tr>\n",
       "      <th>0</th>\n",
       "      <td>1.0</td>\n",
       "      <td>MRT</td>\n",
       "      <td>REP</td>\n",
       "      <td>Jewish</td>\n",
       "      <td>5</td>\n",
       "      <td>67.0</td>\n",
       "      <td>0</td>\n",
       "    </tr>\n",
       "    <tr>\n",
       "      <th>1</th>\n",
       "      <td>1.0</td>\n",
       "      <td>CLA</td>\n",
       "      <td>REP</td>\n",
       "      <td>Western European</td>\n",
       "      <td>5</td>\n",
       "      <td>35.0</td>\n",
       "      <td>1</td>\n",
       "    </tr>\n",
       "    <tr>\n",
       "      <th>2</th>\n",
       "      <td>0.0</td>\n",
       "      <td>HIL</td>\n",
       "      <td>DEM</td>\n",
       "      <td>Western European</td>\n",
       "      <td>3</td>\n",
       "      <td>20.0</td>\n",
       "      <td>0</td>\n",
       "    </tr>\n",
       "    <tr>\n",
       "      <th>3</th>\n",
       "      <td>1.0</td>\n",
       "      <td>MON</td>\n",
       "      <td>NPA</td>\n",
       "      <td>Western European</td>\n",
       "      <td>5</td>\n",
       "      <td>43.0</td>\n",
       "      <td>0</td>\n",
       "    </tr>\n",
       "    <tr>\n",
       "      <th>4</th>\n",
       "      <td>1.0</td>\n",
       "      <td>BAK</td>\n",
       "      <td>REP</td>\n",
       "      <td>Western European</td>\n",
       "      <td>5</td>\n",
       "      <td>52.0</td>\n",
       "      <td>0</td>\n",
       "    </tr>\n",
       "  </tbody>\n",
       "</table>\n",
       "</div>"
      ],
      "text/plain": [
       "   GEN16 district party        Prediction  Race   age femaleis1\n",
       "0    1.0      MRT   REP            Jewish     5  67.0         0\n",
       "1    1.0      CLA   REP  Western European     5  35.0         1\n",
       "2    0.0      HIL   DEM  Western European     3  20.0         0\n",
       "3    1.0      MON   NPA  Western European     5  43.0         0\n",
       "4    1.0      BAK   REP  Western European     5  52.0         0"
      ]
     },
     "execution_count": 53,
     "metadata": {},
     "output_type": "execute_result"
    }
   ],
   "source": [
    "df = df.dropna()\n",
    "df.head()"
   ]
  },
  {
   "cell_type": "code",
   "execution_count": 54,
   "metadata": {},
   "outputs": [
    {
     "data": {
      "text/plain": [
       "[0, 0, 0, 0, 0, 0, 0]"
      ]
     },
     "execution_count": 54,
     "metadata": {},
     "output_type": "execute_result"
    }
   ],
   "source": [
    "df.isnull().sum(axis=0).tolist()"
   ]
  },
  {
   "cell_type": "code",
   "execution_count": 55,
   "metadata": {
    "collapsed": true
   },
   "outputs": [],
   "source": [
    "# Create dummies\n",
    "df = pd.get_dummies(df, columns=['district','party', 'Prediction', 'Race'], drop_first=True)"
   ]
  },
  {
   "cell_type": "code",
   "execution_count": 56,
   "metadata": {},
   "outputs": [
    {
     "name": "stdout",
     "output_type": "stream",
     "text": [
      "Total Sample: 99567\n",
      "Test Sample: 49749\n",
      "Train Sample: 49818\n"
     ]
    }
   ],
   "source": [
    "# Train/test split\n",
    "msk = np.random.rand(len(df)) < 0.5\n",
    "train = df[msk]\n",
    "test = df[~msk]\n",
    "\n",
    "#standardize\n",
    "#train['age']=(train['age']-train['age'].mean())/train['age'].std()\n",
    "#test['age']=(test['age']-train['age'].mean())/train['age'].std()\n",
    "\n",
    "print (\"Total Sample:\", len (df))\n",
    "print (\"Test Sample:\", len(test))\n",
    "print (\"Train Sample:\", len(train))"
   ]
  },
  {
   "cell_type": "code",
   "execution_count": 57,
   "metadata": {
    "collapsed": true
   },
   "outputs": [],
   "source": [
    "# Create X and y split\n",
    "## Not an even sample!!! Make train even...\n",
    "\n",
    "\n",
    "\n",
    "didntshow = train[train['GEN16']==0]\n",
    "showed = train[train['GEN16']==1]\n",
    "didntshow = didntshow.sample(len(didntshow))\n",
    "showed = showed.sample(len(didntshow))\n",
    "frames = [didntshow, showed]\n",
    "train_even = pd.concat(frames)\n",
    "y_train = train_even['GEN16']\n",
    "y_test = test['GEN16']\n",
    "X_train = train_even.drop(['GEN16'], axis = 1)\n",
    "X_test = test.drop(['GEN16'], axis = 1)"
   ]
  },
  {
   "cell_type": "markdown",
   "metadata": {},
   "source": [
    "### Single Decision Tree"
   ]
  },
  {
   "cell_type": "code",
   "execution_count": 58,
   "metadata": {},
   "outputs": [],
   "source": [
    "# Fit decision tree--- Kimia's edits \n",
    "depth = []\n",
    "scores_test= []\n",
    "scores_train= []\n",
    "tree_start = 3\n",
    "tree_end = 20\n",
    "for i in range(tree_start,tree_end):\n",
    "    #dt = DecisionTreeClassifier(max_depth=i)\n",
    "    dt = tree.DecisionTreeClassifier(criterion='gini', max_depth = i)\n",
    "    # Perform 5-fold cross-validation\n",
    "    \n",
    "    dt.fit(X_train, y_train)\n",
    "    scores_train.append(dt.score(X_train, y_train))\n",
    "    scores_test.append(dt.score(X_test, y_test))\n",
    "    \n"
   ]
  },
  {
   "cell_type": "code",
   "execution_count": 59,
   "metadata": {},
   "outputs": [
    {
     "data": {
      "image/png": "[encoded data removed]",
      "text/plain": [
       "<matplotlib.figure.Figure at 0x121cdd780>"
      ]
     },
     "metadata": {},
     "output_type": "display_data"
    },
    {
     "data": {
      "text/plain": [
       "<matplotlib.figure.Figure at 0x11e041470>"
      ]
     },
     "metadata": {},
     "output_type": "display_data"
    }
   ],
   "source": [
    "plt.plot(scores_train, c='g', label=\"train\")\n",
    "plt.plot(scores_test, c='r', label=\"test\")\n",
    "plt.ylabel('score')\n",
    "plt.legend()\n",
    "plt.xlim(2, 10)\n",
    "plt.figure(figsize=(20,20))\n",
    "plt.show()"
   ]
  },
  {
   "cell_type": "code",
   "execution_count": null,
   "metadata": {
    "collapsed": true
   },
   "outputs": [],
   "source": [
    "# Nick, if you are reading this, know that standardizing age increased accuracy to about 80% at depth == 4"
   ]
  },
  {
   "cell_type": "code",
   "execution_count": 62,
   "metadata": {},
   "outputs": [
    {
     "name": "stdout",
     "output_type": "stream",
     "text": [
      "Test Accuracy: 0.701760821717\n",
      "Test Accuracy: 0.719411445456\n"
     ]
    }
   ],
   "source": [
    "# Determine accuracy on train and test set\n",
    "dt = tree.DecisionTreeClassifier(criterion='gini', max_depth = 4)\n",
    "dt_fitted = dt.fit(X_train, y_train)\n",
    "print(\"Test Accuracy:\", dt_fitted.score(X_train, y_train))\n",
    "print(\"Test Accuracy:\", dt_fitted.score(X_test, y_test))"
   ]
  },
  {
   "cell_type": "markdown",
   "metadata": {},
   "source": [
    "# Viz "
   ]
  },
  {
   "cell_type": "code",
   "execution_count": 49,
   "metadata": {},
   "outputs": [
    {
     "data": {
      "text/plain": [
       "-0.27273657237242593"
      ]
     },
     "execution_count": 49,
     "metadata": {},
     "output_type": "execute_result"
    }
   ],
   "source": []
  },
  {
   "cell_type": "code",
   "execution_count": 42,
   "metadata": {},
   "outputs": [],
   "source": [
    "export_graphviz(dt, out_file='tree91.dot', feature_names = X_train.columns, class_names=['Voted', 'DidntVote'])"
   ]
  },
  {
   "cell_type": "code",
   "execution_count": 43,
   "metadata": {
    "collapsed": true
   },
   "outputs": [],
   "source": [
    "export_graphviz(dt, out_file='tree19.dot', feature_names = X_train.columns, class_names=['Voted', 'DidntVote'])"
   ]
  },
  {
   "cell_type": "code",
   "execution_count": 61,
   "metadata": {},
   "outputs": [],
   "source": [
    "export_graphviz(dt,\n",
    "                                    out_file      = 'testingWHYnickWHY1.txt', \n",
    "                                    feature_names = X_train.columns,\n",
    "                                    class_names   = list(map(str, np.unique(list(y_train)))),\n",
    "                                    filled        = True,\n",
    "                                    rounded       = True\n",
    "                                   )"
   ]
  },
  {
   "cell_type": "code",
   "execution_count": null,
   "metadata": {
    "collapsed": true
   },
   "outputs": [],
   "source": []
  }
 ],
 "metadata": {
  "kernelspec": {
   "display_name": "Python 3",
   "language": "python",
   "name": "python3"
  },
  "language_info": {
   "codemirror_mode": {
    "name": "ipython",
    "version": 3
   },
   "file_extension": ".py",
   "mimetype": "text/x-python",
   "name": "python",
   "nbconvert_exporter": "python",
   "pygments_lexer": "ipython3",
   "version": "3.6.1"
  }
 },
 "nbformat": 4,
 "nbformat_minor": 2
}
