{
 "cells": [
  {
   "cell_type": "markdown",
   "metadata": {
    "collapsed": true
   },
   "source": [
    "# Random Forest and Boosting\n",
    "CS109 Final Project"
   ]
  },
  {
   "cell_type": "code",
   "execution_count": 1,
   "metadata": {
    "collapsed": true
   },
   "outputs": [],
   "source": [
    "import numpy as np\n",
    "import pandas as pd\n",
    "import matplotlib\n",
    "import matplotlib.pyplot as plt\n",
    "import sklearn.metrics as metrics\n",
    "from sklearn.model_selection import cross_val_score\n",
    "from sklearn import tree\n",
    "from sklearn.tree import DecisionTreeClassifier\n",
    "from sklearn.ensemble import RandomForestClassifier\n",
    "from sklearn.ensemble import AdaBoostClassifier\n",
    "from sklearn.linear_model import LogisticRegressionCV\n",
    "%matplotlib inline"
   ]
  },
  {
   "cell_type": "code",
   "execution_count": 2,
   "metadata": {},
   "outputs": [],
   "source": [
    "df = pd.read_csv('age_dataset.csv', sep='\\t')\n",
    "del df['Unnamed: 0']"
   ]
  },
  {
   "cell_type": "code",
   "execution_count": 3,
   "metadata": {
    "scrolled": true
   },
   "outputs": [
    {
     "name": "stdout",
     "output_type": "stream",
     "text": [
      "Index(['FIRST_NAME', 'GEN16', 'LAST_NAME', 'district', 'dob', 'electiondate',\n",
      "       'female', 'id', 'party', 'regyear', 'typeofvote', 'zip', 'Prediction',\n",
      "       'Race', 'age'],\n",
      "      dtype='object') [2, 0, 2, 0, 431, 16297, 10, 0, 0, 0, 16297, 5, 2, 0, 431]\n"
     ]
    }
   ],
   "source": [
    "print(df.columns, df.isnull().sum(axis=0).tolist())"
   ]
  },
  {
   "cell_type": "code",
   "execution_count": 4,
   "metadata": {},
   "outputs": [],
   "source": [
    "df['femaleis1'] = 0\n",
    "df.loc[(df['female'] == \"F\"),'femaleis1'] = \"1\"\n",
    "\n",
    "remove = ['FIRST_NAME', 'LAST_NAME', 'dob', 'electiondate',\n",
    "       'female', 'id', 'regyear', 'typeofvote', 'zip']\n",
    "        \n",
    "df.drop(remove, axis = 1, inplace = True)"
   ]
  },
  {
   "cell_type": "code",
   "execution_count": 5,
   "metadata": {
    "scrolled": true
   },
   "outputs": [
    {
     "data": {
      "text/html": [
       "<div>\n",
       "<style>\n",
       "    .dataframe thead tr:only-child th {\n",
       "        text-align: right;\n",
       "    }\n",
       "\n",
       "    .dataframe thead th {\n",
       "        text-align: left;\n",
       "    }\n",
       "\n",
       "    .dataframe tbody tr th {\n",
       "        vertical-align: top;\n",
       "    }\n",
       "</style>\n",
       "<table border=\"1\" class=\"dataframe\">\n",
       "  <thead>\n",
       "    <tr style=\"text-align: right;\">\n",
       "      <th></th>\n",
       "      <th>GEN16</th>\n",
       "      <th>district</th>\n",
       "      <th>party</th>\n",
       "      <th>Prediction</th>\n",
       "      <th>Race</th>\n",
       "      <th>age</th>\n",
       "      <th>femaleis1</th>\n",
       "    </tr>\n",
       "  </thead>\n",
       "  <tbody>\n",
       "    <tr>\n",
       "      <th>0</th>\n",
       "      <td>1.0</td>\n",
       "      <td>MRT</td>\n",
       "      <td>REP</td>\n",
       "      <td>Jewish</td>\n",
       "      <td>5</td>\n",
       "      <td>67.0</td>\n",
       "      <td>0</td>\n",
       "    </tr>\n",
       "    <tr>\n",
       "      <th>1</th>\n",
       "      <td>1.0</td>\n",
       "      <td>CLA</td>\n",
       "      <td>REP</td>\n",
       "      <td>Western European</td>\n",
       "      <td>5</td>\n",
       "      <td>35.0</td>\n",
       "      <td>1</td>\n",
       "    </tr>\n",
       "    <tr>\n",
       "      <th>2</th>\n",
       "      <td>0.0</td>\n",
       "      <td>HIL</td>\n",
       "      <td>DEM</td>\n",
       "      <td>Western European</td>\n",
       "      <td>3</td>\n",
       "      <td>20.0</td>\n",
       "      <td>0</td>\n",
       "    </tr>\n",
       "    <tr>\n",
       "      <th>3</th>\n",
       "      <td>1.0</td>\n",
       "      <td>MON</td>\n",
       "      <td>NPA</td>\n",
       "      <td>Western European</td>\n",
       "      <td>5</td>\n",
       "      <td>43.0</td>\n",
       "      <td>0</td>\n",
       "    </tr>\n",
       "    <tr>\n",
       "      <th>4</th>\n",
       "      <td>1.0</td>\n",
       "      <td>BAK</td>\n",
       "      <td>REP</td>\n",
       "      <td>Western European</td>\n",
       "      <td>5</td>\n",
       "      <td>52.0</td>\n",
       "      <td>0</td>\n",
       "    </tr>\n",
       "  </tbody>\n",
       "</table>\n",
       "</div>"
      ],
      "text/plain": [
       "   GEN16 district party        Prediction  Race   age femaleis1\n",
       "0    1.0      MRT   REP            Jewish     5  67.0         0\n",
       "1    1.0      CLA   REP  Western European     5  35.0         1\n",
       "2    0.0      HIL   DEM  Western European     3  20.0         0\n",
       "3    1.0      MON   NPA  Western European     5  43.0         0\n",
       "4    1.0      BAK   REP  Western European     5  52.0         0"
      ]
     },
     "execution_count": 5,
     "metadata": {},
     "output_type": "execute_result"
    }
   ],
   "source": [
    "df = df.dropna()\n",
    "df.head()"
   ]
  },
  {
   "cell_type": "code",
   "execution_count": 6,
   "metadata": {
    "scrolled": true
   },
   "outputs": [
    {
     "data": {
      "text/plain": [
       "[0, 0, 0, 0, 0, 0, 0]"
      ]
     },
     "execution_count": 6,
     "metadata": {},
     "output_type": "execute_result"
    }
   ],
   "source": [
    "df.isnull().sum(axis=0).tolist()"
   ]
  },
  {
   "cell_type": "code",
   "execution_count": 7,
   "metadata": {
    "collapsed": true
   },
   "outputs": [],
   "source": [
    "# Create dummies\n",
    "df = pd.get_dummies(df, columns=['district','party', 'Prediction', 'Race'], drop_first=True)"
   ]
  },
  {
   "cell_type": "code",
   "execution_count": 8,
   "metadata": {},
   "outputs": [
    {
     "name": "stdout",
     "output_type": "stream",
     "text": [
      "Total Sample: 99567\n",
      "Test Sample: 49481\n",
      "Train Sample: 50086\n"
     ]
    }
   ],
   "source": [
    "# Train/test split\n",
    "msk = np.random.rand(len(df)) < 0.5\n",
    "train = df[msk]\n",
    "test = df[~msk]\n",
    "\n",
    "print (\"Total Sample:\", len (df))\n",
    "print (\"Test Sample:\", len(test))\n",
    "print (\"Train Sample:\", len(train))"
   ]
  },
  {
   "cell_type": "code",
   "execution_count": 9,
   "metadata": {
    "collapsed": true
   },
   "outputs": [],
   "source": [
    "# Create X and y split\n",
    "X_train = train.iloc[:, train.columns != 'GEN16']\n",
    "y_train = train['GEN16']\n",
    "X_test = test.iloc[:, test.columns != 'GEN16']\n",
    "y_test = test['GEN16']"
   ]
  },
  {
   "cell_type": "markdown",
   "metadata": {},
   "source": [
    "### Random Forests"
   ]
  },
  {
   "cell_type": "code",
   "execution_count": 10,
   "metadata": {
    "collapsed": true
   },
   "outputs": [],
   "source": [
    "# Fit random forests for different numbers of trees\n",
    "train_scores = []\n",
    "test_scores = []\n",
    "trees = [2**x for x in range(1,9)]\n",
    "for n_trees in trees:\n",
    "    rf = RandomForestClassifier(n_estimators=n_trees, max_features='sqrt')\n",
    "    test_scores.append(metrics.accuracy_score(y_test, rf.fit(X_train, y_train).predict(X_test)))\n",
    "    train_scores.append(metrics.accuracy_score(y_train, rf.fit(X_train, y_train).predict(X_train)))"
   ]
  },
  {
   "cell_type": "code",
   "execution_count": 11,
   "metadata": {
    "scrolled": true
   },
   "outputs": [
    {
     "name": "stdout",
     "output_type": "stream",
     "text": [
      "Training Accuracies: [0.89623846983188915, 0.93203689653795474, 0.94593299524817309, 0.95266142235355189, 0.95591582478137604, 0.95677434812123152, 0.95691410773469632, 0.95693407339376269] \n",
      "Test Accuracies: [0.74869141690749985, 0.78381601018572788, 0.79721509266182977, 0.8013378872698611, 0.80473312988823997, 0.80548089165538284, 0.80614781431256444, 0.80744124007194684]\n"
     ]
    }
   ],
   "source": [
    "print(\"Training Accuracies:\", train_scores, \"\\nTest Accuracies:\", test_scores)"
   ]
  },
  {
   "cell_type": "code",
   "execution_count": 12,
   "metadata": {},
   "outputs": [],
   "source": [
    "# Apply 5-fold cross-validation to determine optimal number of predictors\n",
    "n = []\n",
    "predictors = [x for x in range(1, 92)]\n",
    "for n_predictors in predictors:\n",
    "    rf = RandomForestClassifier(n_estimators=4, max_features=n_predictors)\n",
    "    scores = cross_val_score(estimator=rf, X=X_train, y=y_train, cv=5, n_jobs=-1)\n",
    "    n.append((n_predictors, scores.mean()))"
   ]
  },
  {
   "cell_type": "code",
   "execution_count": 13,
   "metadata": {},
   "outputs": [
    {
     "name": "stdout",
     "output_type": "stream",
     "text": [
      "Optimal number of predictors is: 47\n"
     ]
    }
   ],
   "source": [
    "best_number = np.argmax(np.array(n)[:,1]) + 1\n",
    "print(\"Optimal number of predictors is:\", best_number)"
   ]
  },
  {
   "cell_type": "code",
   "execution_count": 14,
   "metadata": {},
   "outputs": [
    {
     "name": "stdout",
     "output_type": "stream",
     "text": [
      "Accuracy on Train: 0.956914107735\n",
      "Accuracy on Test: 0.814939067521\n"
     ]
    }
   ],
   "source": [
    "# Determine accuracy on train and test\n",
    "rf = RandomForestClassifier(n_estimators=128, max_features=best_number)\n",
    "print(\"Accuracy on Train:\", metrics.accuracy_score(y_train, rf.fit(X_train, y_train).predict(X_train)))\n",
    "print(\"Accuracy on Test:\", metrics.accuracy_score(y_test, rf.fit(X_train, y_train).predict(X_test)))"
   ]
  },
  {
   "cell_type": "markdown",
   "metadata": {},
   "source": [
    "### Boosting"
   ]
  },
  {
   "cell_type": "code",
   "execution_count": 16,
   "metadata": {},
   "outputs": [],
   "source": [
    "# Use AdaBoost with learning rate of 0.05\n",
    "accuracies_train = []\n",
    "accuracies_test = []\n",
    "trees = [2**x for x in range(1,7)]\n",
    "for md in [1,2,10,None]:\n",
    "    depth_accuracies_train = []\n",
    "    depth_accuracies_test = []\n",
    "    for n in trees:\n",
    "        ada=AdaBoostClassifier(base_estimator=DecisionTreeClassifier(max_depth=md),n_estimators=n, learning_rate=.05)\n",
    "        depth_accuracies_train.append(metrics.accuracy_score(y_train, ada.fit(X_train,y_train).predict(X_train)))\n",
    "        depth_accuracies_test.append(metrics.accuracy_score(y_test, ada.fit(X_train,y_train).predict(X_test)))\n",
    "    accuracies_train.append(depth_accuracies_train)\n",
    "    accuracies_test.append(depth_accuracies_test)"
   ]
  },
  {
   "cell_type": "code",
   "execution_count": 17,
   "metadata": {},
   "outputs": [
    {
     "data": {
      "image/png": "[encoded data removed]",
      "text/plain": [
       "<matplotlib.figure.Figure at 0x11075ceb8>"
      ]
     },
     "metadata": {},
     "output_type": "display_data"
    }
   ],
   "source": [
    "# Create plot showing how depth and number of trees relate to accuracy for training set\n",
    "for i, md in enumerate([1,2,10,None]):\n",
    "    plt.semilogx(trees, accuracies_train[i], label='Max Depth {}'.format(md))\n",
    "plt.legend(loc=4)\n",
    "plt.xlabel('Number of trees')\n",
    "plt.ylabel('Accuracy')\n",
    "plt.title('Training Set')\n",
    "plt.show()"
   ]
  },
  {
   "cell_type": "code",
   "execution_count": 18,
   "metadata": {},
   "outputs": [
    {
     "data": {
      "image/png": "[encoded data removed]",
      "text/plain": [
       "<matplotlib.figure.Figure at 0x1105c57b8>"
      ]
     },
     "metadata": {},
     "output_type": "display_data"
    }
   ],
   "source": [
    "# Create plot showing how depth and number of trees relate to accuracy for test set\n",
    "for i, md in enumerate([1,2,10,None]):\n",
    "    plt.semilogx(trees, accuracies_test[i], label='Max Depth {}'.format(md))\n",
    "plt.legend(loc=4)\n",
    "plt.xlabel('Number of trees')\n",
    "plt.ylabel('Accuracy')\n",
    "plt.title('Test Set')\n",
    "plt.show()"
   ]
  },
  {
   "cell_type": "code",
   "execution_count": 19,
   "metadata": {
    "collapsed": true
   },
   "outputs": [],
   "source": [
    "# 5-fold cross validation to choose optimal depth and number of trees\n",
    "cv_results = []\n",
    "trees = [2**x for x in range(1,7)]\n",
    "depth = [1,2,10,None]\n",
    "depth_accuracies_train = []\n",
    "depth_accuracies_test = []\n",
    "for d in depth:\n",
    "    for t in trees:\n",
    "        ada=AdaBoostClassifier(base_estimator=DecisionTreeClassifier(max_depth=d),n_estimators=t, learning_rate=.05)\n",
    "        depth_accuracies_train.append(metrics.accuracy_score(y_train, ada.fit(X_train,y_train).predict(X_train)))\n",
    "        depth_accuracies_test.append(metrics.accuracy_score(y_test, ada.fit(X_train,y_train).predict(X_test)))     \n",
    "    scores = cross_val_score(estimator=ada, X=X_train, y=y_train, cv=5, n_jobs=-1)\n",
    "    cv_results.append((d, t, scores.mean()))"
   ]
  },
  {
   "cell_type": "code",
   "execution_count": 20,
   "metadata": {},
   "outputs": [
    {
     "name": "stdout",
     "output_type": "stream",
     "text": [
      "Optimal Depth: 2 \n",
      "Optimal Trees: 64\n"
     ]
    }
   ],
   "source": [
    "position = np.argmax(np.array(cv_results)[:,2])\n",
    "print(\"Optimal Depth:\", cv_results[position][0], \"Optimal Trees:\", cv_results[position][1])"
   ]
  },
  {
   "cell_type": "code",
   "execution_count": 22,
   "metadata": {},
   "outputs": [
    {
     "name": "stdout",
     "output_type": "stream",
     "text": [
      "Train Accuracy: 0.845186279599\n",
      "Test Accuracy: 0.843576322225\n"
     ]
    }
   ],
   "source": [
    "# The optimal model has depth 2 and 64 trees\n",
    "ada=AdaBoostClassifier(base_estimator=DecisionTreeClassifier(max_depth=2),n_estimators=64, learning_rate=.05)\n",
    "print(\"Train Accuracy:\", metrics.accuracy_score(y_train, ada.fit(X_train,y_train).predict(X_train)))\n",
    "print(\"Test Accuracy:\", metrics.accuracy_score(y_test, ada.fit(X_train,y_train).predict(X_test))) "
   ]
  }
 ],
 "metadata": {
  "kernelspec": {
   "display_name": "Python 3",
   "language": "python",
   "name": "python3"
  },
  "language_info": {
   "codemirror_mode": {
    "name": "ipython",
    "version": 3
   },
   "file_extension": ".py",
   "mimetype": "text/x-python",
   "name": "python",
   "nbconvert_exporter": "python",
   "pygments_lexer": "ipython3",
   "version": "3.6.1"
  }
 },
 "nbformat": 4,
 "nbformat_minor": 2
}
