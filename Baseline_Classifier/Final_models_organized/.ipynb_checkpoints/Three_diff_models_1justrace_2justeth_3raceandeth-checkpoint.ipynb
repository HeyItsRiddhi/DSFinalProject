{
 "cells": [
  {
   "cell_type": "markdown",
   "metadata": {},
   "source": [
    "# This file contains three diff models: One with just race (from FL dataset), one with just our generated ethnicity, one with both"
   ]
  },
  {
   "cell_type": "code",
   "execution_count": 41,
   "metadata": {},
   "outputs": [],
   "source": [
    "import pandas as pd\n",
    "import numpy as np\n",
    "import datetime as DT\n",
    "\n",
    "import numpy as np\n",
    "import pandas as pd\n",
    "import matplotlib\n",
    "import matplotlib.pyplot as plt\n",
    "import statsmodels.api as sm\n",
    "from statsmodels.api import OLS\n",
    "from sklearn.decomposition import PCA\n",
    "from sklearn.linear_model import LogisticRegression\n",
    "from sklearn.linear_model import LogisticRegressionCV\n",
    "from sklearn.utils import resample\n",
    "from sklearn.model_selection import cross_val_score\n",
    "from sklearn.metrics import accuracy_score\n",
    "%matplotlib inline\n",
    "import seaborn.apionly as sns\n",
    "\n",
    "import numpy as np\n",
    "import pandas as pd\n",
    "from sklearn.preprocessing import PolynomialFeatures\n",
    "from sklearn.neighbors import KNeighborsRegressor as KNN\n",
    "from sklearn.linear_model import RidgeCV\n",
    "from sklearn.linear_model import Ridge\n",
    "from sklearn.linear_model import LinearRegression as Linear\n",
    "from bs4 import BeautifulSoup\n",
    "import urllib\n",
    "import sys\n",
    "import numpy as np\n",
    "import pandas as pd\n",
    "import matplotlib\n",
    "from sklearn.linear_model import RidgeCV\n",
    "from sklearn.linear_model import LassoCV\n",
    "import matplotlib.pyplot as plt\n",
    "from sklearn import linear_model\n",
    "from sklearn.linear_model import LogisticRegressionCV\n",
    "import matplotlib.pyplot as plt\n",
    "import statsmodels.api as sm\n",
    "from statsmodels.tools import add_constant\n",
    "from statsmodels.regression.linear_model import RegressionResults\n",
    "import seaborn as sns\n",
    "import sklearn as sk\n",
    "import collections\n",
    "from collections import Counter\n",
    "from sklearn.preprocessing import MinMaxScaler\n",
    "from sklearn.model_selection import KFold\n",
    "from sklearn import discriminant_analysis\n",
    "from sklearn.decomposition import PCA\n",
    "from sklearn import preprocessing\n",
    "from sklearn.neighbors import KNeighborsClassifier as KNN\n",
    "from sklearn.cross_validation import train_test_split\n",
    "from sklearn.linear_model import LinearRegression\n",
    "from sklearn.linear_model import LogisticRegression\n",
    "from sklearn.linear_model import Ridge\n",
    "from sklearn.linear_model import Lasso\n",
    "from sklearn.preprocessing import PolynomialFeatures\n",
    "from sklearn.neighbors import KNeighborsRegressor\n",
    "from sklearn.decomposition import PCA\n",
    "import sklearn.metrics as metrics\n",
    "from sklearn.preprocessing import PolynomialFeatures\n",
    "from sklearn.discriminant_analysis import LinearDiscriminantAnalysis\n",
    "from sklearn.discriminant_analysis import QuadraticDiscriminantAnalysis\n",
    "from sklearn.neighbors import KNeighborsClassifier\n",
    "from sklearn.tree import DecisionTreeClassifier\n",
    "from sklearn.model_selection import cross_val_score\n",
    "from sklearn import tree\n",
    "import pandas as pd\n",
    "import sys\n",
    "import numpy as np\n",
    "import scipy as sp\n",
    "import matplotlib.pyplot as plt\n",
    "import statsmodels.api as sm\n",
    "from statsmodels.tools import add_constant\n",
    "from statsmodels.regression.linear_model import RegressionResults\n",
    "import seaborn as sns\n",
    "import sklearn as sk\n",
    "from sklearn.preprocessing import MinMaxScaler\n",
    "from sklearn.model_selection import KFold\n",
    "from sklearn.linear_model import LinearRegression\n",
    "from sklearn.linear_model import Ridge\n",
    "from sklearn.linear_model import Lasso\n",
    "from sklearn.preprocessing import PolynomialFeatures\n",
    "from sklearn.neighbors import KNeighborsRegressor\n",
    "from sklearn.decomposition import PCA\n",
    "from sklearn import tree\n",
    "import numpy as np\n",
    "import scipy as sp\n",
    "import matplotlib.pyplot as plt\n",
    "import pandas as pd\n",
    "\n",
    "import seaborn as sns\n",
    "from sklearn import ensemble\n",
    "#import pydotplus\n",
    "#import io\n",
    "import collections\n",
    "from sklearn.tree import export_graphviz\n",
    "from IPython.display import Image\n",
    "from IPython.display import display\n",
    "import matplotlib.pyplot as plt\n",
    "%matplotlib inline\n",
    "\n",
    "import matplotlib\n",
    "import matplotlib.pyplot as plt\n",
    "import matplotlib.cm as cmx\n",
    "import matplotlib.colors as colors\n",
    "import matplotlib.patches as patches"
   ]
  },
  {
   "cell_type": "code",
   "execution_count": 5,
   "metadata": {},
   "outputs": [],
   "source": [
    "reg = pd.read_csv(\"age_dataset.csv\", sep=\"\\t\")"
   ]
  },
  {
   "cell_type": "code",
   "execution_count": 6,
   "metadata": {},
   "outputs": [
    {
     "data": {
      "text/html": [
       "<div>\n",
       "<style scoped>\n",
       "    .dataframe tbody tr th:only-of-type {\n",
       "        vertical-align: middle;\n",
       "    }\n",
       "\n",
       "    .dataframe tbody tr th {\n",
       "        vertical-align: top;\n",
       "    }\n",
       "\n",
       "    .dataframe thead th {\n",
       "        text-align: right;\n",
       "    }\n",
       "</style>\n",
       "<table border=\"1\" class=\"dataframe\">\n",
       "  <thead>\n",
       "    <tr style=\"text-align: right;\">\n",
       "      <th></th>\n",
       "      <th>Unnamed: 0</th>\n",
       "      <th>FIRST_NAME</th>\n",
       "      <th>GEN16</th>\n",
       "      <th>LAST_NAME</th>\n",
       "      <th>district</th>\n",
       "      <th>dob</th>\n",
       "      <th>electiondate</th>\n",
       "      <th>female</th>\n",
       "      <th>id</th>\n",
       "      <th>party</th>\n",
       "      <th>regyear</th>\n",
       "      <th>typeofvote</th>\n",
       "      <th>zip</th>\n",
       "      <th>Prediction</th>\n",
       "      <th>Race</th>\n",
       "      <th>age</th>\n",
       "    </tr>\n",
       "  </thead>\n",
       "  <tbody>\n",
       "    <tr>\n",
       "      <th>0</th>\n",
       "      <td>1</td>\n",
       "      <td>Peter</td>\n",
       "      <td>1.0</td>\n",
       "      <td>Smith</td>\n",
       "      <td>MRT</td>\n",
       "      <td>1950-08-17 00:00:00</td>\n",
       "      <td>11/08/2016</td>\n",
       "      <td>M</td>\n",
       "      <td>111768698</td>\n",
       "      <td>REP</td>\n",
       "      <td>06/13/2000</td>\n",
       "      <td>E</td>\n",
       "      <td>34997</td>\n",
       "      <td>Jewish</td>\n",
       "      <td>5</td>\n",
       "      <td>67.0</td>\n",
       "    </tr>\n",
       "    <tr>\n",
       "      <th>1</th>\n",
       "      <td>2</td>\n",
       "      <td>MELANIE</td>\n",
       "      <td>1.0</td>\n",
       "      <td>HERTL</td>\n",
       "      <td>CLA</td>\n",
       "      <td>1982-01-14 00:00:00</td>\n",
       "      <td>11/08/2016</td>\n",
       "      <td>F</td>\n",
       "      <td>102865764</td>\n",
       "      <td>REP</td>\n",
       "      <td>01/09/2001</td>\n",
       "      <td>Y</td>\n",
       "      <td>32073</td>\n",
       "      <td>Western European</td>\n",
       "      <td>5</td>\n",
       "      <td>35.0</td>\n",
       "    </tr>\n",
       "    <tr>\n",
       "      <th>2</th>\n",
       "      <td>3</td>\n",
       "      <td>Nigel</td>\n",
       "      <td>0.0</td>\n",
       "      <td>Williams</td>\n",
       "      <td>HIL</td>\n",
       "      <td>1997-05-13 00:00:00</td>\n",
       "      <td>NaN</td>\n",
       "      <td>M</td>\n",
       "      <td>122514241</td>\n",
       "      <td>DEM</td>\n",
       "      <td>05/15/2015</td>\n",
       "      <td>NaN</td>\n",
       "      <td>336124352</td>\n",
       "      <td>Western European</td>\n",
       "      <td>3</td>\n",
       "      <td>20.0</td>\n",
       "    </tr>\n",
       "    <tr>\n",
       "      <th>3</th>\n",
       "      <td>4</td>\n",
       "      <td>RYAN</td>\n",
       "      <td>1.0</td>\n",
       "      <td>STIMERS</td>\n",
       "      <td>MON</td>\n",
       "      <td>1974-12-01 00:00:00</td>\n",
       "      <td>11/08/2016</td>\n",
       "      <td>M</td>\n",
       "      <td>113936692</td>\n",
       "      <td>NPA</td>\n",
       "      <td>12/18/2001</td>\n",
       "      <td>E</td>\n",
       "      <td>33040</td>\n",
       "      <td>Western European</td>\n",
       "      <td>5</td>\n",
       "      <td>43.0</td>\n",
       "    </tr>\n",
       "    <tr>\n",
       "      <th>4</th>\n",
       "      <td>5</td>\n",
       "      <td>Benny</td>\n",
       "      <td>1.0</td>\n",
       "      <td>Bennett</td>\n",
       "      <td>BAK</td>\n",
       "      <td>1965-09-06 00:00:00</td>\n",
       "      <td>11/08/2016</td>\n",
       "      <td>M</td>\n",
       "      <td>100592058</td>\n",
       "      <td>REP</td>\n",
       "      <td>11/17/1983</td>\n",
       "      <td>Y</td>\n",
       "      <td>32087</td>\n",
       "      <td>Western European</td>\n",
       "      <td>5</td>\n",
       "      <td>52.0</td>\n",
       "    </tr>\n",
       "  </tbody>\n",
       "</table>\n",
       "</div>"
      ],
      "text/plain": [
       "   Unnamed: 0 FIRST_NAME  GEN16 LAST_NAME district                  dob  \\\n",
       "0           1      Peter    1.0     Smith      MRT  1950-08-17 00:00:00   \n",
       "1           2    MELANIE    1.0     HERTL      CLA  1982-01-14 00:00:00   \n",
       "2           3      Nigel    0.0  Williams      HIL  1997-05-13 00:00:00   \n",
       "3           4       RYAN    1.0   STIMERS      MON  1974-12-01 00:00:00   \n",
       "4           5      Benny    1.0   Bennett      BAK  1965-09-06 00:00:00   \n",
       "\n",
       "  electiondate female         id party     regyear typeofvote        zip  \\\n",
       "0   11/08/2016      M  111768698   REP  06/13/2000          E      34997   \n",
       "1   11/08/2016      F  102865764   REP  01/09/2001          Y      32073   \n",
       "2          NaN      M  122514241   DEM  05/15/2015        NaN  336124352   \n",
       "3   11/08/2016      M  113936692   NPA  12/18/2001          E      33040   \n",
       "4   11/08/2016      M  100592058   REP  11/17/1983          Y      32087   \n",
       "\n",
       "         Prediction  Race   age  \n",
       "0            Jewish     5  67.0  \n",
       "1  Western European     5  35.0  \n",
       "2  Western European     3  20.0  \n",
       "3  Western European     5  43.0  \n",
       "4  Western European     5  52.0  "
      ]
     },
     "execution_count": 6,
     "metadata": {},
     "output_type": "execute_result"
    }
   ],
   "source": [
    "reg.head()"
   ]
  },
  {
   "cell_type": "code",
   "execution_count": 7,
   "metadata": {
    "collapsed": true
   },
   "outputs": [],
   "source": [
    "del reg['Unnamed: 0']\n",
    "#del reg['Unnamed: 0.1']\n",
    "\n",
    "#del reg['general']\n",
    "### Because if they didnt vote its a 0 in GEN16\n",
    "#del reg['GEN12']\n",
    "del reg['regyear']"
   ]
  },
  {
   "cell_type": "code",
   "execution_count": 8,
   "metadata": {},
   "outputs": [
    {
     "data": {
      "text/html": [
       "<div>\n",
       "<style scoped>\n",
       "    .dataframe tbody tr th:only-of-type {\n",
       "        vertical-align: middle;\n",
       "    }\n",
       "\n",
       "    .dataframe tbody tr th {\n",
       "        vertical-align: top;\n",
       "    }\n",
       "\n",
       "    .dataframe thead th {\n",
       "        text-align: right;\n",
       "    }\n",
       "</style>\n",
       "<table border=\"1\" class=\"dataframe\">\n",
       "  <thead>\n",
       "    <tr style=\"text-align: right;\">\n",
       "      <th></th>\n",
       "      <th>FIRST_NAME</th>\n",
       "      <th>GEN16</th>\n",
       "      <th>LAST_NAME</th>\n",
       "      <th>district</th>\n",
       "      <th>dob</th>\n",
       "      <th>electiondate</th>\n",
       "      <th>female</th>\n",
       "      <th>id</th>\n",
       "      <th>party</th>\n",
       "      <th>typeofvote</th>\n",
       "      <th>zip</th>\n",
       "      <th>Prediction</th>\n",
       "      <th>Race</th>\n",
       "      <th>age</th>\n",
       "    </tr>\n",
       "  </thead>\n",
       "  <tbody>\n",
       "    <tr>\n",
       "      <th>0</th>\n",
       "      <td>Peter</td>\n",
       "      <td>1.0</td>\n",
       "      <td>Smith</td>\n",
       "      <td>MRT</td>\n",
       "      <td>1950-08-17 00:00:00</td>\n",
       "      <td>11/08/2016</td>\n",
       "      <td>M</td>\n",
       "      <td>111768698</td>\n",
       "      <td>REP</td>\n",
       "      <td>E</td>\n",
       "      <td>34997</td>\n",
       "      <td>Jewish</td>\n",
       "      <td>5</td>\n",
       "      <td>67.0</td>\n",
       "    </tr>\n",
       "    <tr>\n",
       "      <th>1</th>\n",
       "      <td>MELANIE</td>\n",
       "      <td>1.0</td>\n",
       "      <td>HERTL</td>\n",
       "      <td>CLA</td>\n",
       "      <td>1982-01-14 00:00:00</td>\n",
       "      <td>11/08/2016</td>\n",
       "      <td>F</td>\n",
       "      <td>102865764</td>\n",
       "      <td>REP</td>\n",
       "      <td>Y</td>\n",
       "      <td>32073</td>\n",
       "      <td>Western European</td>\n",
       "      <td>5</td>\n",
       "      <td>35.0</td>\n",
       "    </tr>\n",
       "    <tr>\n",
       "      <th>2</th>\n",
       "      <td>Nigel</td>\n",
       "      <td>0.0</td>\n",
       "      <td>Williams</td>\n",
       "      <td>HIL</td>\n",
       "      <td>1997-05-13 00:00:00</td>\n",
       "      <td>NaN</td>\n",
       "      <td>M</td>\n",
       "      <td>122514241</td>\n",
       "      <td>DEM</td>\n",
       "      <td>NaN</td>\n",
       "      <td>336124352</td>\n",
       "      <td>Western European</td>\n",
       "      <td>3</td>\n",
       "      <td>20.0</td>\n",
       "    </tr>\n",
       "    <tr>\n",
       "      <th>3</th>\n",
       "      <td>RYAN</td>\n",
       "      <td>1.0</td>\n",
       "      <td>STIMERS</td>\n",
       "      <td>MON</td>\n",
       "      <td>1974-12-01 00:00:00</td>\n",
       "      <td>11/08/2016</td>\n",
       "      <td>M</td>\n",
       "      <td>113936692</td>\n",
       "      <td>NPA</td>\n",
       "      <td>E</td>\n",
       "      <td>33040</td>\n",
       "      <td>Western European</td>\n",
       "      <td>5</td>\n",
       "      <td>43.0</td>\n",
       "    </tr>\n",
       "    <tr>\n",
       "      <th>4</th>\n",
       "      <td>Benny</td>\n",
       "      <td>1.0</td>\n",
       "      <td>Bennett</td>\n",
       "      <td>BAK</td>\n",
       "      <td>1965-09-06 00:00:00</td>\n",
       "      <td>11/08/2016</td>\n",
       "      <td>M</td>\n",
       "      <td>100592058</td>\n",
       "      <td>REP</td>\n",
       "      <td>Y</td>\n",
       "      <td>32087</td>\n",
       "      <td>Western European</td>\n",
       "      <td>5</td>\n",
       "      <td>52.0</td>\n",
       "    </tr>\n",
       "  </tbody>\n",
       "</table>\n",
       "</div>"
      ],
      "text/plain": [
       "  FIRST_NAME  GEN16 LAST_NAME district                  dob electiondate  \\\n",
       "0      Peter    1.0     Smith      MRT  1950-08-17 00:00:00   11/08/2016   \n",
       "1    MELANIE    1.0     HERTL      CLA  1982-01-14 00:00:00   11/08/2016   \n",
       "2      Nigel    0.0  Williams      HIL  1997-05-13 00:00:00          NaN   \n",
       "3       RYAN    1.0   STIMERS      MON  1974-12-01 00:00:00   11/08/2016   \n",
       "4      Benny    1.0   Bennett      BAK  1965-09-06 00:00:00   11/08/2016   \n",
       "\n",
       "  female         id party typeofvote        zip        Prediction  Race   age  \n",
       "0      M  111768698   REP          E      34997            Jewish     5  67.0  \n",
       "1      F  102865764   REP          Y      32073  Western European     5  35.0  \n",
       "2      M  122514241   DEM        NaN  336124352  Western European     3  20.0  \n",
       "3      M  113936692   NPA          E      33040  Western European     5  43.0  \n",
       "4      M  100592058   REP          Y      32087  Western European     5  52.0  "
      ]
     },
     "execution_count": 8,
     "metadata": {},
     "output_type": "execute_result"
    }
   ],
   "source": [
    "reg.head()"
   ]
  },
  {
   "cell_type": "code",
   "execution_count": 9,
   "metadata": {},
   "outputs": [
    {
     "name": "stdout",
     "output_type": "stream",
     "text": [
      "Index(['FIRST_NAME', 'GEN16', 'LAST_NAME', 'district', 'dob', 'electiondate',\n",
      "       'female', 'id', 'party', 'typeofvote', 'zip', 'Prediction', 'Race',\n",
      "       'age'],\n",
      "      dtype='object') [2, 0, 2, 0, 431, 16297, 10, 0, 0, 16297, 5, 2, 0, 431]\n"
     ]
    }
   ],
   "source": [
    "print(reg.columns, reg.isnull().sum(axis=0).tolist())"
   ]
  },
  {
   "cell_type": "code",
   "execution_count": 10,
   "metadata": {
    "collapsed": true
   },
   "outputs": [],
   "source": [
    "## 431 DOB are Nan or missing of 100K\n",
    "## Are these 431 evenly distributed?"
   ]
  },
  {
   "cell_type": "code",
   "execution_count": 11,
   "metadata": {
    "collapsed": true
   },
   "outputs": [],
   "source": [
    "reg['femaleis1'] = 0\n",
    "\n",
    "reg.loc[(reg['female'] == \"F\"),'femaleis1'] = \"1\""
   ]
  },
  {
   "cell_type": "code",
   "execution_count": 12,
   "metadata": {},
   "outputs": [
    {
     "data": {
      "text/html": [
       "<div>\n",
       "<style scoped>\n",
       "    .dataframe tbody tr th:only-of-type {\n",
       "        vertical-align: middle;\n",
       "    }\n",
       "\n",
       "    .dataframe tbody tr th {\n",
       "        vertical-align: top;\n",
       "    }\n",
       "\n",
       "    .dataframe thead th {\n",
       "        text-align: right;\n",
       "    }\n",
       "</style>\n",
       "<table border=\"1\" class=\"dataframe\">\n",
       "  <thead>\n",
       "    <tr style=\"text-align: right;\">\n",
       "      <th></th>\n",
       "      <th>FIRST_NAME</th>\n",
       "      <th>GEN16</th>\n",
       "      <th>LAST_NAME</th>\n",
       "      <th>district</th>\n",
       "      <th>dob</th>\n",
       "      <th>electiondate</th>\n",
       "      <th>female</th>\n",
       "      <th>id</th>\n",
       "      <th>party</th>\n",
       "      <th>typeofvote</th>\n",
       "      <th>zip</th>\n",
       "      <th>Prediction</th>\n",
       "      <th>Race</th>\n",
       "      <th>age</th>\n",
       "      <th>femaleis1</th>\n",
       "    </tr>\n",
       "  </thead>\n",
       "  <tbody>\n",
       "    <tr>\n",
       "      <th>0</th>\n",
       "      <td>Peter</td>\n",
       "      <td>1.0</td>\n",
       "      <td>Smith</td>\n",
       "      <td>MRT</td>\n",
       "      <td>1950-08-17 00:00:00</td>\n",
       "      <td>11/08/2016</td>\n",
       "      <td>M</td>\n",
       "      <td>111768698</td>\n",
       "      <td>REP</td>\n",
       "      <td>E</td>\n",
       "      <td>34997</td>\n",
       "      <td>Jewish</td>\n",
       "      <td>5</td>\n",
       "      <td>67.0</td>\n",
       "      <td>0</td>\n",
       "    </tr>\n",
       "    <tr>\n",
       "      <th>1</th>\n",
       "      <td>MELANIE</td>\n",
       "      <td>1.0</td>\n",
       "      <td>HERTL</td>\n",
       "      <td>CLA</td>\n",
       "      <td>1982-01-14 00:00:00</td>\n",
       "      <td>11/08/2016</td>\n",
       "      <td>F</td>\n",
       "      <td>102865764</td>\n",
       "      <td>REP</td>\n",
       "      <td>Y</td>\n",
       "      <td>32073</td>\n",
       "      <td>Western European</td>\n",
       "      <td>5</td>\n",
       "      <td>35.0</td>\n",
       "      <td>1</td>\n",
       "    </tr>\n",
       "    <tr>\n",
       "      <th>2</th>\n",
       "      <td>Nigel</td>\n",
       "      <td>0.0</td>\n",
       "      <td>Williams</td>\n",
       "      <td>HIL</td>\n",
       "      <td>1997-05-13 00:00:00</td>\n",
       "      <td>NaN</td>\n",
       "      <td>M</td>\n",
       "      <td>122514241</td>\n",
       "      <td>DEM</td>\n",
       "      <td>NaN</td>\n",
       "      <td>336124352</td>\n",
       "      <td>Western European</td>\n",
       "      <td>3</td>\n",
       "      <td>20.0</td>\n",
       "      <td>0</td>\n",
       "    </tr>\n",
       "    <tr>\n",
       "      <th>3</th>\n",
       "      <td>RYAN</td>\n",
       "      <td>1.0</td>\n",
       "      <td>STIMERS</td>\n",
       "      <td>MON</td>\n",
       "      <td>1974-12-01 00:00:00</td>\n",
       "      <td>11/08/2016</td>\n",
       "      <td>M</td>\n",
       "      <td>113936692</td>\n",
       "      <td>NPA</td>\n",
       "      <td>E</td>\n",
       "      <td>33040</td>\n",
       "      <td>Western European</td>\n",
       "      <td>5</td>\n",
       "      <td>43.0</td>\n",
       "      <td>0</td>\n",
       "    </tr>\n",
       "    <tr>\n",
       "      <th>4</th>\n",
       "      <td>Benny</td>\n",
       "      <td>1.0</td>\n",
       "      <td>Bennett</td>\n",
       "      <td>BAK</td>\n",
       "      <td>1965-09-06 00:00:00</td>\n",
       "      <td>11/08/2016</td>\n",
       "      <td>M</td>\n",
       "      <td>100592058</td>\n",
       "      <td>REP</td>\n",
       "      <td>Y</td>\n",
       "      <td>32087</td>\n",
       "      <td>Western European</td>\n",
       "      <td>5</td>\n",
       "      <td>52.0</td>\n",
       "      <td>0</td>\n",
       "    </tr>\n",
       "  </tbody>\n",
       "</table>\n",
       "</div>"
      ],
      "text/plain": [
       "  FIRST_NAME  GEN16 LAST_NAME district                  dob electiondate  \\\n",
       "0      Peter    1.0     Smith      MRT  1950-08-17 00:00:00   11/08/2016   \n",
       "1    MELANIE    1.0     HERTL      CLA  1982-01-14 00:00:00   11/08/2016   \n",
       "2      Nigel    0.0  Williams      HIL  1997-05-13 00:00:00          NaN   \n",
       "3       RYAN    1.0   STIMERS      MON  1974-12-01 00:00:00   11/08/2016   \n",
       "4      Benny    1.0   Bennett      BAK  1965-09-06 00:00:00   11/08/2016   \n",
       "\n",
       "  female         id party typeofvote        zip        Prediction  Race   age  \\\n",
       "0      M  111768698   REP          E      34997            Jewish     5  67.0   \n",
       "1      F  102865764   REP          Y      32073  Western European     5  35.0   \n",
       "2      M  122514241   DEM        NaN  336124352  Western European     3  20.0   \n",
       "3      M  113936692   NPA          E      33040  Western European     5  43.0   \n",
       "4      M  100592058   REP          Y      32087  Western European     5  52.0   \n",
       "\n",
       "  femaleis1  \n",
       "0         0  \n",
       "1         1  \n",
       "2         0  \n",
       "3         0  \n",
       "4         0  "
      ]
     },
     "execution_count": 12,
     "metadata": {},
     "output_type": "execute_result"
    }
   ],
   "source": [
    "reg.head()"
   ]
  },
  {
   "cell_type": "code",
   "execution_count": 13,
   "metadata": {
    "collapsed": true
   },
   "outputs": [],
   "source": [
    "remove = ['FIRST_NAME', 'LAST_NAME', 'dob', 'electiondate',\n",
    "       'female', 'id', 'typeofvote', 'zip']\n",
    "        \n",
    "reg.drop(remove, axis = 1, inplace = True)"
   ]
  },
  {
   "cell_type": "code",
   "execution_count": 14,
   "metadata": {},
   "outputs": [
    {
     "name": "stdout",
     "output_type": "stream",
     "text": [
      "Index(['GEN16', 'district', 'party', 'Prediction', 'Race', 'age', 'femaleis1'], dtype='object') [0, 0, 0, 2, 0, 431, 0]\n"
     ]
    }
   ],
   "source": [
    "reg.head()\n",
    "print(reg.columns, reg.isnull().sum(axis=0).tolist())"
   ]
  },
  {
   "cell_type": "code",
   "execution_count": 15,
   "metadata": {},
   "outputs": [
    {
     "data": {
      "text/plain": [
       "numpy.float64"
      ]
     },
     "execution_count": 15,
     "metadata": {},
     "output_type": "execute_result"
    }
   ],
   "source": [
    "type(reg['age'][0])"
   ]
  },
  {
   "cell_type": "code",
   "execution_count": 16,
   "metadata": {},
   "outputs": [
    {
     "name": "stderr",
     "output_type": "stream",
     "text": [
      "/anaconda/lib/python3.6/site-packages/ipykernel_launcher.py:2: SettingWithCopyWarning: \n",
      "A value is trying to be set on a copy of a slice from a DataFrame.\n",
      "Try using .loc[row_indexer,col_indexer] = value instead\n",
      "\n",
      "See the caveats in the documentation: http://pandas.pydata.org/pandas-docs/stable/indexing.html#indexing-view-versus-copy\n",
      "  \n"
     ]
    }
   ],
   "source": [
    "typenan = reg[reg['age'].isnull() ] \n",
    "typenan['missing'] = typenan['GEN16']\n",
    "NANdf= typenan.groupby('district', as_index=False).agg({\"missing\": \"count\"})\n",
    "total = reg.groupby('district', as_index=False).agg({\"GEN16\": \"count\"})\n",
    "result = pd.merge(NANdf, total, on='district')\n",
    "result['Percentmissing'] = result['missing']/result['GEN16']"
   ]
  },
  {
   "cell_type": "code",
   "execution_count": 17,
   "metadata": {
    "collapsed": true
   },
   "outputs": [],
   "source": [
    "del result['GEN16']"
   ]
  },
  {
   "cell_type": "code",
   "execution_count": 51,
   "metadata": {},
   "outputs": [
    {
     "data": {
      "text/html": [
       "<div>\n",
       "<style scoped>\n",
       "    .dataframe tbody tr th:only-of-type {\n",
       "        vertical-align: middle;\n",
       "    }\n",
       "\n",
       "    .dataframe tbody tr th {\n",
       "        vertical-align: top;\n",
       "    }\n",
       "\n",
       "    .dataframe thead th {\n",
       "        text-align: right;\n",
       "    }\n",
       "</style>\n",
       "<table border=\"1\" class=\"dataframe\">\n",
       "  <thead>\n",
       "    <tr style=\"text-align: right;\">\n",
       "      <th></th>\n",
       "      <th>district</th>\n",
       "      <th>Percentmissing</th>\n",
       "    </tr>\n",
       "  </thead>\n",
       "  <tbody>\n",
       "    <tr>\n",
       "      <th>0</th>\n",
       "      <td>ALA</td>\n",
       "      <td>0.003743</td>\n",
       "    </tr>\n",
       "    <tr>\n",
       "      <th>1</th>\n",
       "      <td>BAY</td>\n",
       "      <td>0.002967</td>\n",
       "    </tr>\n",
       "    <tr>\n",
       "      <th>2</th>\n",
       "      <td>BRA</td>\n",
       "      <td>0.008772</td>\n",
       "    </tr>\n",
       "    <tr>\n",
       "      <th>3</th>\n",
       "      <td>BRE</td>\n",
       "      <td>0.008552</td>\n",
       "    </tr>\n",
       "    <tr>\n",
       "      <th>4</th>\n",
       "      <td>BRO</td>\n",
       "      <td>0.002709</td>\n",
       "    </tr>\n",
       "    <tr>\n",
       "      <th>5</th>\n",
       "      <td>CAL</td>\n",
       "      <td>0.032787</td>\n",
       "    </tr>\n",
       "    <tr>\n",
       "      <th>6</th>\n",
       "      <td>CHA</td>\n",
       "      <td>0.004329</td>\n",
       "    </tr>\n",
       "    <tr>\n",
       "      <th>7</th>\n",
       "      <td>CIT</td>\n",
       "      <td>0.005967</td>\n",
       "    </tr>\n",
       "    <tr>\n",
       "      <th>8</th>\n",
       "      <td>CLA</td>\n",
       "      <td>0.010909</td>\n",
       "    </tr>\n",
       "    <tr>\n",
       "      <th>9</th>\n",
       "      <td>CLL</td>\n",
       "      <td>0.004507</td>\n",
       "    </tr>\n",
       "    <tr>\n",
       "      <th>10</th>\n",
       "      <td>CLM</td>\n",
       "      <td>0.006472</td>\n",
       "    </tr>\n",
       "    <tr>\n",
       "      <th>11</th>\n",
       "      <td>DAD</td>\n",
       "      <td>0.001712</td>\n",
       "    </tr>\n",
       "    <tr>\n",
       "      <th>12</th>\n",
       "      <td>DUV</td>\n",
       "      <td>0.004448</td>\n",
       "    </tr>\n",
       "    <tr>\n",
       "      <th>13</th>\n",
       "      <td>ESC</td>\n",
       "      <td>0.003886</td>\n",
       "    </tr>\n",
       "    <tr>\n",
       "      <th>14</th>\n",
       "      <td>FLA</td>\n",
       "      <td>0.014827</td>\n",
       "    </tr>\n",
       "    <tr>\n",
       "      <th>15</th>\n",
       "      <td>GAD</td>\n",
       "      <td>0.008969</td>\n",
       "    </tr>\n",
       "    <tr>\n",
       "      <th>16</th>\n",
       "      <td>GIL</td>\n",
       "      <td>0.021505</td>\n",
       "    </tr>\n",
       "    <tr>\n",
       "      <th>17</th>\n",
       "      <td>HER</td>\n",
       "      <td>0.007194</td>\n",
       "    </tr>\n",
       "    <tr>\n",
       "      <th>18</th>\n",
       "      <td>HIG</td>\n",
       "      <td>0.004032</td>\n",
       "    </tr>\n",
       "    <tr>\n",
       "      <th>19</th>\n",
       "      <td>HIL</td>\n",
       "      <td>0.003211</td>\n",
       "    </tr>\n",
       "    <tr>\n",
       "      <th>20</th>\n",
       "      <td>IND</td>\n",
       "      <td>0.001247</td>\n",
       "    </tr>\n",
       "    <tr>\n",
       "      <th>21</th>\n",
       "      <td>JEF</td>\n",
       "      <td>0.012821</td>\n",
       "    </tr>\n",
       "    <tr>\n",
       "      <th>22</th>\n",
       "      <td>LAK</td>\n",
       "      <td>0.004779</td>\n",
       "    </tr>\n",
       "    <tr>\n",
       "      <th>23</th>\n",
       "      <td>LEE</td>\n",
       "      <td>0.003073</td>\n",
       "    </tr>\n",
       "    <tr>\n",
       "      <th>24</th>\n",
       "      <td>LEO</td>\n",
       "      <td>0.004481</td>\n",
       "    </tr>\n",
       "    <tr>\n",
       "      <th>25</th>\n",
       "      <td>LIB</td>\n",
       "      <td>0.027778</td>\n",
       "    </tr>\n",
       "    <tr>\n",
       "      <th>26</th>\n",
       "      <td>MAD</td>\n",
       "      <td>0.011494</td>\n",
       "    </tr>\n",
       "    <tr>\n",
       "      <th>27</th>\n",
       "      <td>MAN</td>\n",
       "      <td>0.003817</td>\n",
       "    </tr>\n",
       "    <tr>\n",
       "      <th>28</th>\n",
       "      <td>MON</td>\n",
       "      <td>0.007246</td>\n",
       "    </tr>\n",
       "    <tr>\n",
       "      <th>29</th>\n",
       "      <td>MRN</td>\n",
       "      <td>0.002929</td>\n",
       "    </tr>\n",
       "    <tr>\n",
       "      <th>30</th>\n",
       "      <td>MRT</td>\n",
       "      <td>0.006772</td>\n",
       "    </tr>\n",
       "    <tr>\n",
       "      <th>31</th>\n",
       "      <td>NAS</td>\n",
       "      <td>0.008639</td>\n",
       "    </tr>\n",
       "    <tr>\n",
       "      <th>32</th>\n",
       "      <td>OKA</td>\n",
       "      <td>0.000977</td>\n",
       "    </tr>\n",
       "    <tr>\n",
       "      <th>33</th>\n",
       "      <td>OKE</td>\n",
       "      <td>0.007407</td>\n",
       "    </tr>\n",
       "    <tr>\n",
       "      <th>34</th>\n",
       "      <td>ORA</td>\n",
       "      <td>0.004440</td>\n",
       "    </tr>\n",
       "    <tr>\n",
       "      <th>35</th>\n",
       "      <td>OSC</td>\n",
       "      <td>0.008495</td>\n",
       "    </tr>\n",
       "    <tr>\n",
       "      <th>36</th>\n",
       "      <td>PAL</td>\n",
       "      <td>0.001896</td>\n",
       "    </tr>\n",
       "    <tr>\n",
       "      <th>37</th>\n",
       "      <td>PAS</td>\n",
       "      <td>0.006998</td>\n",
       "    </tr>\n",
       "    <tr>\n",
       "      <th>38</th>\n",
       "      <td>PIN</td>\n",
       "      <td>0.003421</td>\n",
       "    </tr>\n",
       "    <tr>\n",
       "      <th>39</th>\n",
       "      <td>POL</td>\n",
       "      <td>0.005964</td>\n",
       "    </tr>\n",
       "    <tr>\n",
       "      <th>40</th>\n",
       "      <td>PUT</td>\n",
       "      <td>0.003125</td>\n",
       "    </tr>\n",
       "    <tr>\n",
       "      <th>41</th>\n",
       "      <td>SAN</td>\n",
       "      <td>0.006438</td>\n",
       "    </tr>\n",
       "    <tr>\n",
       "      <th>42</th>\n",
       "      <td>SAR</td>\n",
       "      <td>0.005213</td>\n",
       "    </tr>\n",
       "    <tr>\n",
       "      <th>43</th>\n",
       "      <td>SEM</td>\n",
       "      <td>0.001842</td>\n",
       "    </tr>\n",
       "    <tr>\n",
       "      <th>44</th>\n",
       "      <td>STJ</td>\n",
       "      <td>0.014957</td>\n",
       "    </tr>\n",
       "    <tr>\n",
       "      <th>45</th>\n",
       "      <td>STL</td>\n",
       "      <td>0.004755</td>\n",
       "    </tr>\n",
       "    <tr>\n",
       "      <th>46</th>\n",
       "      <td>SUM</td>\n",
       "      <td>0.002778</td>\n",
       "    </tr>\n",
       "    <tr>\n",
       "      <th>47</th>\n",
       "      <td>UNI</td>\n",
       "      <td>0.016129</td>\n",
       "    </tr>\n",
       "    <tr>\n",
       "      <th>48</th>\n",
       "      <td>VOL</td>\n",
       "      <td>0.009342</td>\n",
       "    </tr>\n",
       "    <tr>\n",
       "      <th>49</th>\n",
       "      <td>WAK</td>\n",
       "      <td>0.006369</td>\n",
       "    </tr>\n",
       "    <tr>\n",
       "      <th>50</th>\n",
       "      <td>WAS</td>\n",
       "      <td>0.030612</td>\n",
       "    </tr>\n",
       "  </tbody>\n",
       "</table>\n",
       "</div>"
      ],
      "text/plain": [
       "   district  Percentmissing\n",
       "0       ALA        0.003743\n",
       "1       BAY        0.002967\n",
       "2       BRA        0.008772\n",
       "3       BRE        0.008552\n",
       "4       BRO        0.002709\n",
       "5       CAL        0.032787\n",
       "6       CHA        0.004329\n",
       "7       CIT        0.005967\n",
       "8       CLA        0.010909\n",
       "9       CLL        0.004507\n",
       "10      CLM        0.006472\n",
       "11      DAD        0.001712\n",
       "12      DUV        0.004448\n",
       "13      ESC        0.003886\n",
       "14      FLA        0.014827\n",
       "15      GAD        0.008969\n",
       "16      GIL        0.021505\n",
       "17      HER        0.007194\n",
       "18      HIG        0.004032\n",
       "19      HIL        0.003211\n",
       "20      IND        0.001247\n",
       "21      JEF        0.012821\n",
       "22      LAK        0.004779\n",
       "23      LEE        0.003073\n",
       "24      LEO        0.004481\n",
       "25      LIB        0.027778\n",
       "26      MAD        0.011494\n",
       "27      MAN        0.003817\n",
       "28      MON        0.007246\n",
       "29      MRN        0.002929\n",
       "30      MRT        0.006772\n",
       "31      NAS        0.008639\n",
       "32      OKA        0.000977\n",
       "33      OKE        0.007407\n",
       "34      ORA        0.004440\n",
       "35      OSC        0.008495\n",
       "36      PAL        0.001896\n",
       "37      PAS        0.006998\n",
       "38      PIN        0.003421\n",
       "39      POL        0.005964\n",
       "40      PUT        0.003125\n",
       "41      SAN        0.006438\n",
       "42      SAR        0.005213\n",
       "43      SEM        0.001842\n",
       "44      STJ        0.014957\n",
       "45      STL        0.004755\n",
       "46      SUM        0.002778\n",
       "47      UNI        0.016129\n",
       "48      VOL        0.009342\n",
       "49      WAK        0.006369\n",
       "50      WAS        0.030612"
      ]
     },
     "execution_count": 51,
     "metadata": {},
     "output_type": "execute_result"
    }
   ],
   "source": [
    "del result['missing']\n",
    "result"
   ]
  },
  {
   "cell_type": "markdown",
   "metadata": {},
   "source": [
    "# Back to creating an analysis"
   ]
  },
  {
   "cell_type": "code",
   "execution_count": 18,
   "metadata": {
    "collapsed": true
   },
   "outputs": [],
   "source": [
    "reg1 = reg.dropna(axis=0)\n",
    "## can drop since it's evenly distributed and a small amount"
   ]
  },
  {
   "cell_type": "code",
   "execution_count": 19,
   "metadata": {},
   "outputs": [
    {
     "data": {
      "text/html": [
       "<div>\n",
       "<style scoped>\n",
       "    .dataframe tbody tr th:only-of-type {\n",
       "        vertical-align: middle;\n",
       "    }\n",
       "\n",
       "    .dataframe tbody tr th {\n",
       "        vertical-align: top;\n",
       "    }\n",
       "\n",
       "    .dataframe thead th {\n",
       "        text-align: right;\n",
       "    }\n",
       "</style>\n",
       "<table border=\"1\" class=\"dataframe\">\n",
       "  <thead>\n",
       "    <tr style=\"text-align: right;\">\n",
       "      <th></th>\n",
       "      <th>GEN16</th>\n",
       "      <th>district</th>\n",
       "      <th>party</th>\n",
       "      <th>Prediction</th>\n",
       "      <th>Race</th>\n",
       "      <th>age</th>\n",
       "      <th>femaleis1</th>\n",
       "    </tr>\n",
       "  </thead>\n",
       "  <tbody>\n",
       "    <tr>\n",
       "      <th>0</th>\n",
       "      <td>1.0</td>\n",
       "      <td>MRT</td>\n",
       "      <td>REP</td>\n",
       "      <td>Jewish</td>\n",
       "      <td>5</td>\n",
       "      <td>67.0</td>\n",
       "      <td>0</td>\n",
       "    </tr>\n",
       "    <tr>\n",
       "      <th>1</th>\n",
       "      <td>1.0</td>\n",
       "      <td>CLA</td>\n",
       "      <td>REP</td>\n",
       "      <td>Western European</td>\n",
       "      <td>5</td>\n",
       "      <td>35.0</td>\n",
       "      <td>1</td>\n",
       "    </tr>\n",
       "    <tr>\n",
       "      <th>2</th>\n",
       "      <td>0.0</td>\n",
       "      <td>HIL</td>\n",
       "      <td>DEM</td>\n",
       "      <td>Western European</td>\n",
       "      <td>3</td>\n",
       "      <td>20.0</td>\n",
       "      <td>0</td>\n",
       "    </tr>\n",
       "    <tr>\n",
       "      <th>3</th>\n",
       "      <td>1.0</td>\n",
       "      <td>MON</td>\n",
       "      <td>NPA</td>\n",
       "      <td>Western European</td>\n",
       "      <td>5</td>\n",
       "      <td>43.0</td>\n",
       "      <td>0</td>\n",
       "    </tr>\n",
       "    <tr>\n",
       "      <th>4</th>\n",
       "      <td>1.0</td>\n",
       "      <td>BAK</td>\n",
       "      <td>REP</td>\n",
       "      <td>Western European</td>\n",
       "      <td>5</td>\n",
       "      <td>52.0</td>\n",
       "      <td>0</td>\n",
       "    </tr>\n",
       "  </tbody>\n",
       "</table>\n",
       "</div>"
      ],
      "text/plain": [
       "   GEN16 district party        Prediction  Race   age femaleis1\n",
       "0    1.0      MRT   REP            Jewish     5  67.0         0\n",
       "1    1.0      CLA   REP  Western European     5  35.0         1\n",
       "2    0.0      HIL   DEM  Western European     3  20.0         0\n",
       "3    1.0      MON   NPA  Western European     5  43.0         0\n",
       "4    1.0      BAK   REP  Western European     5  52.0         0"
      ]
     },
     "execution_count": 19,
     "metadata": {},
     "output_type": "execute_result"
    }
   ],
   "source": [
    "reg1.head()"
   ]
  },
  {
   "cell_type": "code",
   "execution_count": 20,
   "metadata": {},
   "outputs": [
    {
     "name": "stdout",
     "output_type": "stream",
     "text": [
      "Index(['GEN16', 'district', 'party', 'Prediction', 'Race', 'age', 'femaleis1'], dtype='object') [0, 0, 0, 0, 0, 0, 0]\n"
     ]
    }
   ],
   "source": [
    "\n",
    "print(reg1.columns, reg1.isnull().sum(axis=0).tolist())"
   ]
  },
  {
   "cell_type": "code",
   "execution_count": 21,
   "metadata": {
    "collapsed": true
   },
   "outputs": [],
   "source": [
    "# get dummies\n",
    "datamodel1 = pd.get_dummies(reg1, columns=['district','party', \"Race\"])\n",
    "#datamodel1 = pd.get_dummies(reg1, columns=['district','party', \"Prediction\", \"Race\"])"
   ]
  },
  {
   "cell_type": "code",
   "execution_count": 22,
   "metadata": {},
   "outputs": [
    {
     "data": {
      "text/plain": [
       "Index(['GEN16', 'age', 'femaleis1', 'district_ALA', 'district_BAK',\n",
       "       'district_BAY', 'district_BRA', 'district_BRE', 'district_BRO',\n",
       "       'district_CAL', 'district_CHA', 'district_CIT', 'district_CLA',\n",
       "       'district_CLL', 'district_CLM', 'district_DAD', 'district_DES',\n",
       "       'district_DIX', 'district_DUV', 'district_ESC', 'district_FLA',\n",
       "       'district_FRA', 'district_GAD', 'district_GIL', 'district_GLA',\n",
       "       'district_GUL', 'district_HAM', 'district_HAR', 'district_HEN',\n",
       "       'district_HER', 'district_HIG', 'district_HIL', 'district_HOL',\n",
       "       'district_IND', 'district_JAC', 'district_JEF', 'district_LAF',\n",
       "       'district_LAK', 'district_LEE', 'district_LEO', 'district_LEV',\n",
       "       'district_LIB', 'district_MAD', 'district_MAN', 'district_MON',\n",
       "       'district_MRN', 'district_MRT', 'district_NAS', 'district_OKA',\n",
       "       'district_OKE', 'district_ORA', 'district_OSC', 'district_PAL',\n",
       "       'district_PAS', 'district_PIN', 'district_POL', 'district_PUT',\n",
       "       'district_SAN', 'district_SAR', 'district_SEM', 'district_STJ',\n",
       "       'district_STL', 'district_SUM', 'district_SUW', 'district_TAY',\n",
       "       'district_UNI', 'district_VOL', 'district_WAK', 'district_WAL',\n",
       "       'district_WAS', 'party_AIP', 'party_CPF', 'party_DEM', 'party_ECO',\n",
       "       'party_GRE', 'party_IDP', 'party_INT', 'party_LPF', 'party_NPA',\n",
       "       'party_REF', 'party_REP', 'Race_1', 'Race_2', 'Race_3', 'Race_4',\n",
       "       'Race_5', 'Race_6', 'Race_7', 'Race_9'],\n",
       "      dtype='object')"
      ]
     },
     "execution_count": 22,
     "metadata": {},
     "output_type": "execute_result"
    }
   ],
   "source": [
    "del datamodel1[\"Prediction\"]\n",
    "datamodel1.columns"
   ]
  },
  {
   "cell_type": "code",
   "execution_count": 23,
   "metadata": {
    "collapsed": true
   },
   "outputs": [],
   "source": [
    "\n",
    "msk = np.random.rand(len(datamodel1)) < 0.5\n",
    "train = datamodel1[msk]\n",
    "test = datamodel1[~msk]\n"
   ]
  },
  {
   "cell_type": "code",
   "execution_count": 24,
   "metadata": {},
   "outputs": [
    {
     "name": "stdout",
     "output_type": "stream",
     "text": [
      "0.836471923428\n"
     ]
    }
   ],
   "source": [
    "print(np.sum(datamodel1[\"GEN16\"])/len(datamodel1[\"GEN16\"]))\n",
    "## Not an even sample!!! Make train even..."
   ]
  },
  {
   "cell_type": "code",
   "execution_count": 25,
   "metadata": {},
   "outputs": [
    {
     "name": "stdout",
     "output_type": "stream",
     "text": [
      "8186 49826\n",
      "16250\n"
     ]
    },
    {
     "data": {
      "text/plain": [
       "(None, None)"
      ]
     },
     "execution_count": 25,
     "metadata": {},
     "output_type": "execute_result"
    }
   ],
   "source": [
    "print(np.sum(train['GEN16']==0), len(train['GEN16'])), print(8125*2)"
   ]
  },
  {
   "cell_type": "code",
   "execution_count": 26,
   "metadata": {
    "collapsed": true
   },
   "outputs": [],
   "source": [
    "## Not an even sample!!! Make train even...\n",
    "\n",
    "didntshow = train[train['GEN16']==0]\n",
    "showed = train[train['GEN16']==1]\n",
    "didntshow = didntshow.sample(8124)\n",
    "showed = showed.sample(8124)\n",
    "frames = [didntshow, showed]\n",
    "train_even = pd.concat(frames)\n",
    "y_train = train_even['GEN16']\n",
    "y_test = test['GEN16']\n",
    "X_train = train_even.drop(['GEN16'], axis = 1)\n",
    "X_test = test.drop(['GEN16'], axis = 1)"
   ]
  },
  {
   "cell_type": "code",
   "execution_count": 27,
   "metadata": {
    "collapsed": true
   },
   "outputs": [],
   "source": [
    "#Log Regression using LRCV\n",
    "#cross validation values\n",
    "cvals = [1, 10, 100, 10000, 100000]\n",
    "logit = LogisticRegressionCV(Cs=cvals, penalty='l2', cv=5, scoring = \"roc_auc\")\n",
    "logit.fit(X_train, y_train)\n",
    "y_hat_train = logit.predict(X_train)\n",
    "y_hat_test = logit.predict(X_test)\n",
    "#####"
   ]
  },
  {
   "cell_type": "code",
   "execution_count": 36,
   "metadata": {},
   "outputs": [
    {
     "name": "stdout",
     "output_type": "stream",
     "text": [
      "Intercept [-2.07236357] [[ 0.04005559  0.3269129   0.4491818   0.24125567 -0.015515   -0.19814414\n",
      "   0.0986421   0.23478127  0.21474005 -0.38806837  0.07369335 -0.09739217\n",
      "   0.09006209  0.26878428 -0.27289458  0.10520635 -0.7290614   0.1954633\n",
      "   0.02835427  0.13107007  0.91512882  0.71901881  0.3626492  -0.25604502\n",
      "   0.16847806 -0.43915476 -0.24254415 -0.68184353 -0.14706308 -0.20388652\n",
      "  -0.30098635  0.1656952   0.11980398  0.099852    0.48824819  0.63875176\n",
      "   0.25583509 -0.4496341   0.58988805  0.19031326  0.09991709  0.28525611\n",
      "   0.04075344  0.09701848 -0.04168852 -0.08318804  0.30437694 -0.18993771\n",
      "  -0.78886986 -0.10430774 -0.27809728 -0.62946611 -0.1014598   0.05324208\n",
      "  -0.55610068 -0.52728943 -0.33151292 -0.26002596  0.77928182  0.12158307\n",
      "  -0.21971579 -0.19158131 -0.5734271  -0.4688725   0.32054969 -0.03623708\n",
      "   0.37406515 -0.28006681 -0.37312324 -0.239656   -0.2701087   0.321363\n",
      "  -0.28960597 -0.61636885 -0.86976823 -0.01311834  0.72121351 -0.38269152\n",
      "  -0.15041817  0.65289914 -0.11842459 -0.30150687 -0.06996538 -0.24258282\n",
      "   0.1265856  -0.06326772 -0.14725773 -0.31984062]]\n"
     ]
    }
   ],
   "source": [
    "print(\"Intercept\", logit.intercept_, logit.coef_)\n"
   ]
  },
  {
   "cell_type": "code",
   "execution_count": 42,
   "metadata": {},
   "outputs": [
    {
     "name": "stdout",
     "output_type": "stream",
     "text": [
      "logit all predictors accuracy in train = 0.704\n",
      "logit all predictors accuracy in test = 0.699\n"
     ]
    }
   ],
   "source": [
    "y_hat_logregmul_train = logit.predict_proba(X_train)[:,1]\n",
    "y_hat_logregmul_test = logit.predict_proba(X_test)[:,1]\n",
    "\n",
    "# accuracy\n",
    "print(\"logit all predictors accuracy in train = %0.3f\" % accuracy_score(y_train, y_hat_logregmul_train>0.5))\n",
    "print(\"logit all predictors accuracy in test = %0.3f\" % accuracy_score(y_test, y_hat_logregmul_test>0.5))\n"
   ]
  },
  {
   "cell_type": "code",
   "execution_count": 43,
   "metadata": {},
   "outputs": [
    {
     "data": {
      "text/html": [
       "<div>\n",
       "<style scoped>\n",
       "    .dataframe tbody tr th:only-of-type {\n",
       "        vertical-align: middle;\n",
       "    }\n",
       "\n",
       "    .dataframe tbody tr th {\n",
       "        vertical-align: top;\n",
       "    }\n",
       "\n",
       "    .dataframe thead th {\n",
       "        text-align: right;\n",
       "    }\n",
       "</style>\n",
       "<table border=\"1\" class=\"dataframe\">\n",
       "  <thead>\n",
       "    <tr style=\"text-align: right;\">\n",
       "      <th></th>\n",
       "      <th>0</th>\n",
       "      <th>1</th>\n",
       "      <th>2</th>\n",
       "      <th>3</th>\n",
       "      <th>4</th>\n",
       "      <th>5</th>\n",
       "      <th>6</th>\n",
       "      <th>7</th>\n",
       "      <th>8</th>\n",
       "      <th>9</th>\n",
       "      <th>...</th>\n",
       "      <th>79</th>\n",
       "      <th>80</th>\n",
       "      <th>81</th>\n",
       "      <th>82</th>\n",
       "      <th>83</th>\n",
       "      <th>84</th>\n",
       "      <th>85</th>\n",
       "      <th>86</th>\n",
       "      <th>87</th>\n",
       "      <th>88</th>\n",
       "    </tr>\n",
       "  </thead>\n",
       "  <tbody>\n",
       "    <tr>\n",
       "      <th>0</th>\n",
       "      <td>GEN16</td>\n",
       "      <td>age</td>\n",
       "      <td>femaleis1</td>\n",
       "      <td>district_ALA</td>\n",
       "      <td>district_BAK</td>\n",
       "      <td>district_BAY</td>\n",
       "      <td>district_BRA</td>\n",
       "      <td>district_BRE</td>\n",
       "      <td>district_BRO</td>\n",
       "      <td>district_CAL</td>\n",
       "      <td>...</td>\n",
       "      <td>party_REF</td>\n",
       "      <td>party_REP</td>\n",
       "      <td>Race_1</td>\n",
       "      <td>Race_2</td>\n",
       "      <td>Race_3</td>\n",
       "      <td>Race_4</td>\n",
       "      <td>Race_5</td>\n",
       "      <td>Race_6</td>\n",
       "      <td>Race_7</td>\n",
       "      <td>Race_9</td>\n",
       "    </tr>\n",
       "  </tbody>\n",
       "</table>\n",
       "<p>1 rows × 89 columns</p>\n",
       "</div>"
      ],
      "text/plain": [
       "      0    1          2             3             4             5   \\\n",
       "0  GEN16  age  femaleis1  district_ALA  district_BAK  district_BAY   \n",
       "\n",
       "             6             7             8             9    ...           79  \\\n",
       "0  district_BRA  district_BRE  district_BRO  district_CAL   ...    party_REF   \n",
       "\n",
       "          80      81      82      83      84      85      86      87      88  \n",
       "0  party_REP  Race_1  Race_2  Race_3  Race_4  Race_5  Race_6  Race_7  Race_9  \n",
       "\n",
       "[1 rows x 89 columns]"
      ]
     },
     "execution_count": 43,
     "metadata": {},
     "output_type": "execute_result"
    }
   ],
   "source": [
    "pd.DataFrame([train.columns, ])"
   ]
  },
  {
   "cell_type": "code",
   "execution_count": 28,
   "metadata": {},
   "outputs": [
    {
     "data": {
      "image/png": "[encoded data removed]",
      "text/plain": [
       "<matplotlib.figure.Figure at 0x11c3ec7b8>"
      ]
     },
     "metadata": {},
     "output_type": "display_data"
    },
    {
     "name": "stdout",
     "output_type": "stream",
     "text": [
      "The Area under the curve is:  0.768559836886\n"
     ]
    }
   ],
   "source": [
    "\n",
    "preds = logit.predict_proba(X_test)[:,1]\n",
    "fpr, tpr, thresholds = metrics.roc_curve(y_test, preds)\n",
    "fpr_2, tpr_2, thresholds_2 = metrics.roc_curve(y_test, [0 for y in y_test])\n",
    "roc_auc_2 = metrics.auc(fpr_2, tpr_2)\n",
    "plt.figure(figsize=(20,10))\n",
    "lw = 2\n",
    "roc_auc = metrics.auc(fpr, tpr)\n",
    "plt.plot(fpr, tpr, color='darkorange',\n",
    "         lw=lw, label='ROC curve (area = %0.2f) LogReg' % roc_auc)\n",
    "plt.plot([0], [0], marker='o', markersize=10, lw = 0, color=\"red\", label ='ROC curve (area = 0) Naive Classifier')\n",
    "plt.plot([0, 1], [0, 1], color='navy', lw=lw, linestyle='--')\n",
    "plt.xlim([-0.02, 1.0])\n",
    "plt.ylim([-0.02, 1.05])\n",
    "plt.xlabel('False Positive Rate')\n",
    "plt.ylabel('True Positive Rate')\n",
    "plt.title('Receiver operating characteristic')\n",
    "plt.legend(loc=\"lower right\", prop={'size':20})\n",
    "plt.show() \n",
    "print(\"The Area under the curve is: \" , roc_auc)"
   ]
  },
  {
   "cell_type": "markdown",
   "metadata": {},
   "source": [
    "### Assumptions of Logistic Regression\n",
    "Logistic Regression Assumptions\n",
    "\n",
    "Binary logistic regression requires the dependent variable to be binary.\n",
    "For a binary regression, the factor level 1 of the dependent variable should represent the desired outcome.\n",
    "Only the meaningful variables should be included.\n",
    "The independent variables should be independent of each other. That is, the model should have little or no multicollinearity.\n",
    "The independent variables are linearly related to the log odds.\n",
    "Logistic regression requires quite large sample sizes.\n",
    "\n",
    "\n",
    "Because logistic regression uses MLE rather than OLS, it avoids many\n",
    "of the typical assumptions tested in statistical analysis.\n",
    "Does not assume normality of variables (both DV and IVs).\n",
    "Does not assume linearity between DV and IVs.\n",
    "Does not assume homoscedasticity.\n",
    "Does not assume normal errors.\n",
    "MLE allows more flexibility in the data and analysis because it has\n",
    "fewer restrictions."
   ]
  },
  {
   "cell_type": "markdown",
   "metadata": {},
   "source": [
    "# Now try it with our ethnicity classifier "
   ]
  },
  {
   "cell_type": "code",
   "execution_count": 44,
   "metadata": {},
   "outputs": [
    {
     "data": {
      "text/html": [
       "<div>\n",
       "<style scoped>\n",
       "    .dataframe tbody tr th:only-of-type {\n",
       "        vertical-align: middle;\n",
       "    }\n",
       "\n",
       "    .dataframe tbody tr th {\n",
       "        vertical-align: top;\n",
       "    }\n",
       "\n",
       "    .dataframe thead th {\n",
       "        text-align: right;\n",
       "    }\n",
       "</style>\n",
       "<table border=\"1\" class=\"dataframe\">\n",
       "  <thead>\n",
       "    <tr style=\"text-align: right;\">\n",
       "      <th></th>\n",
       "      <th>GEN16</th>\n",
       "      <th>district</th>\n",
       "      <th>party</th>\n",
       "      <th>Prediction</th>\n",
       "      <th>Race</th>\n",
       "      <th>age</th>\n",
       "      <th>femaleis1</th>\n",
       "    </tr>\n",
       "  </thead>\n",
       "  <tbody>\n",
       "    <tr>\n",
       "      <th>0</th>\n",
       "      <td>1.0</td>\n",
       "      <td>MRT</td>\n",
       "      <td>REP</td>\n",
       "      <td>Jewish</td>\n",
       "      <td>5</td>\n",
       "      <td>67.0</td>\n",
       "      <td>0</td>\n",
       "    </tr>\n",
       "    <tr>\n",
       "      <th>1</th>\n",
       "      <td>1.0</td>\n",
       "      <td>CLA</td>\n",
       "      <td>REP</td>\n",
       "      <td>Western European</td>\n",
       "      <td>5</td>\n",
       "      <td>35.0</td>\n",
       "      <td>1</td>\n",
       "    </tr>\n",
       "    <tr>\n",
       "      <th>2</th>\n",
       "      <td>0.0</td>\n",
       "      <td>HIL</td>\n",
       "      <td>DEM</td>\n",
       "      <td>Western European</td>\n",
       "      <td>3</td>\n",
       "      <td>20.0</td>\n",
       "      <td>0</td>\n",
       "    </tr>\n",
       "    <tr>\n",
       "      <th>3</th>\n",
       "      <td>1.0</td>\n",
       "      <td>MON</td>\n",
       "      <td>NPA</td>\n",
       "      <td>Western European</td>\n",
       "      <td>5</td>\n",
       "      <td>43.0</td>\n",
       "      <td>0</td>\n",
       "    </tr>\n",
       "    <tr>\n",
       "      <th>4</th>\n",
       "      <td>1.0</td>\n",
       "      <td>BAK</td>\n",
       "      <td>REP</td>\n",
       "      <td>Western European</td>\n",
       "      <td>5</td>\n",
       "      <td>52.0</td>\n",
       "      <td>0</td>\n",
       "    </tr>\n",
       "  </tbody>\n",
       "</table>\n",
       "</div>"
      ],
      "text/plain": [
       "   GEN16 district party        Prediction  Race   age femaleis1\n",
       "0    1.0      MRT   REP            Jewish     5  67.0         0\n",
       "1    1.0      CLA   REP  Western European     5  35.0         1\n",
       "2    0.0      HIL   DEM  Western European     3  20.0         0\n",
       "3    1.0      MON   NPA  Western European     5  43.0         0\n",
       "4    1.0      BAK   REP  Western European     5  52.0         0"
      ]
     },
     "execution_count": 44,
     "metadata": {},
     "output_type": "execute_result"
    }
   ],
   "source": [
    "reg1.head()"
   ]
  },
  {
   "cell_type": "code",
   "execution_count": 45,
   "metadata": {
    "collapsed": true
   },
   "outputs": [],
   "source": [
    "del reg1[\"Race\"]"
   ]
  },
  {
   "cell_type": "code",
   "execution_count": 46,
   "metadata": {
    "collapsed": true
   },
   "outputs": [],
   "source": [
    "datamodel1 = pd.get_dummies(reg1, columns=['district','party', \"Prediction\"])"
   ]
  },
  {
   "cell_type": "code",
   "execution_count": 47,
   "metadata": {
    "collapsed": true
   },
   "outputs": [],
   "source": [
    "## Not an even sample!!! Make train even...\n",
    "\n",
    "msk = np.random.rand(len(datamodel1)) < 0.5\n",
    "train = datamodel1[msk]\n",
    "test = datamodel1[~msk]\n",
    "\n",
    "didntshow = train[train['GEN16']==0]\n",
    "showed = train[train['GEN16']==1]\n",
    "didntshow = didntshow.sample(len(didntshow))\n",
    "showed = showed.sample(len(didntshow))\n",
    "frames = [didntshow, showed]\n",
    "train_even = pd.concat(frames)\n",
    "y_train = train_even['GEN16']\n",
    "y_test = test['GEN16']\n",
    "X_train = train_even.drop(['GEN16'], axis = 1)\n",
    "X_test = test.drop(['GEN16'], axis = 1)"
   ]
  },
  {
   "cell_type": "code",
   "execution_count": 48,
   "metadata": {},
   "outputs": [
    {
     "data": {
      "image/png": "[encoded data removed]",
      "text/plain": [
       "<matplotlib.figure.Figure at 0x11c3dc630>"
      ]
     },
     "metadata": {},
     "output_type": "display_data"
    },
    {
     "name": "stdout",
     "output_type": "stream",
     "text": [
      "The Area under the curve is:  0.763790266625\n"
     ]
    }
   ],
   "source": [
    "#Log Regression using LRCV\n",
    "#cross validation values\n",
    "cvals = [1, 10, 100, 10000, 100000]\n",
    "logit = LogisticRegressionCV(Cs=cvals, penalty='l2', cv=5, scoring = \"roc_auc\")\n",
    "logit.fit(X_train, y_train)\n",
    "y_hat_train = logit.predict(X_train)\n",
    "y_hat_test = logit.predict(X_test)\n",
    "#####\n",
    "preds = logit.predict_proba(X_test)[:,1]\n",
    "fpr, tpr, thresholds = metrics.roc_curve(y_test, preds)\n",
    "fpr_2, tpr_2, thresholds_2 = metrics.roc_curve(y_test, [0 for y in y_test])\n",
    "roc_auc_2 = metrics.auc(fpr_2, tpr_2)\n",
    "plt.figure(figsize=(20,10))\n",
    "lw = 2\n",
    "roc_auc = metrics.auc(fpr, tpr)\n",
    "plt.plot(fpr, tpr, color='darkorange',\n",
    "         lw=lw, label='ROC curve (area = %0.2f) LogReg' % roc_auc)\n",
    "plt.plot([0], [0], marker='o', markersize=10, lw = 0, color=\"red\", label ='ROC curve (area = 0) Naive Classifier')\n",
    "plt.plot([0, 1], [0, 1], color='navy', lw=lw, linestyle='--')\n",
    "plt.xlim([-0.02, 1.0])\n",
    "plt.ylim([-0.02, 1.05])\n",
    "plt.xlabel('False Positive Rate')\n",
    "plt.ylabel('True Positive Rate')\n",
    "plt.title('Receiver operating characteristic')\n",
    "plt.legend(loc=\"lower right\", prop={'size':20})\n",
    "plt.show() \n",
    "print(\"The Area under the curve is: \" , roc_auc)"
   ]
  },
  {
   "cell_type": "code",
   "execution_count": 49,
   "metadata": {},
   "outputs": [
    {
     "name": "stdout",
     "output_type": "stream",
     "text": [
      "logit all predictors accuracy in train = 0.712\n",
      "logit all predictors accuracy in test = 0.694\n"
     ]
    }
   ],
   "source": [
    "y_hat_logregmul_train = logit.predict_proba(X_train)[:,1]\n",
    "y_hat_logregmul_test = logit.predict_proba(X_test)[:,1]\n",
    "\n",
    "# accuracy\n",
    "print(\"logit all predictors accuracy in train = %0.3f\" % accuracy_score(y_train, y_hat_logregmul_train>0.5))\n",
    "print(\"logit all predictors accuracy in test = %0.3f\" % accuracy_score(y_test, y_hat_logregmul_test>0.5))\n"
   ]
  },
  {
   "cell_type": "markdown",
   "metadata": {},
   "source": [
    "# Now try it with our ethnicity classifier AND race"
   ]
  },
  {
   "cell_type": "code",
   "execution_count": 50,
   "metadata": {},
   "outputs": [
    {
     "data": {
      "text/html": [
       "<div>\n",
       "<style scoped>\n",
       "    .dataframe tbody tr th:only-of-type {\n",
       "        vertical-align: middle;\n",
       "    }\n",
       "\n",
       "    .dataframe tbody tr th {\n",
       "        vertical-align: top;\n",
       "    }\n",
       "\n",
       "    .dataframe thead th {\n",
       "        text-align: right;\n",
       "    }\n",
       "</style>\n",
       "<table border=\"1\" class=\"dataframe\">\n",
       "  <thead>\n",
       "    <tr style=\"text-align: right;\">\n",
       "      <th></th>\n",
       "      <th>GEN16</th>\n",
       "      <th>district</th>\n",
       "      <th>party</th>\n",
       "      <th>Prediction</th>\n",
       "      <th>Race</th>\n",
       "      <th>age</th>\n",
       "      <th>femaleis1</th>\n",
       "    </tr>\n",
       "  </thead>\n",
       "  <tbody>\n",
       "    <tr>\n",
       "      <th>0</th>\n",
       "      <td>1.0</td>\n",
       "      <td>MRT</td>\n",
       "      <td>REP</td>\n",
       "      <td>Jewish</td>\n",
       "      <td>5</td>\n",
       "      <td>67.0</td>\n",
       "      <td>0</td>\n",
       "    </tr>\n",
       "    <tr>\n",
       "      <th>1</th>\n",
       "      <td>1.0</td>\n",
       "      <td>CLA</td>\n",
       "      <td>REP</td>\n",
       "      <td>Western European</td>\n",
       "      <td>5</td>\n",
       "      <td>35.0</td>\n",
       "      <td>1</td>\n",
       "    </tr>\n",
       "    <tr>\n",
       "      <th>2</th>\n",
       "      <td>0.0</td>\n",
       "      <td>HIL</td>\n",
       "      <td>DEM</td>\n",
       "      <td>Western European</td>\n",
       "      <td>3</td>\n",
       "      <td>20.0</td>\n",
       "      <td>0</td>\n",
       "    </tr>\n",
       "    <tr>\n",
       "      <th>3</th>\n",
       "      <td>1.0</td>\n",
       "      <td>MON</td>\n",
       "      <td>NPA</td>\n",
       "      <td>Western European</td>\n",
       "      <td>5</td>\n",
       "      <td>43.0</td>\n",
       "      <td>0</td>\n",
       "    </tr>\n",
       "    <tr>\n",
       "      <th>4</th>\n",
       "      <td>1.0</td>\n",
       "      <td>BAK</td>\n",
       "      <td>REP</td>\n",
       "      <td>Western European</td>\n",
       "      <td>5</td>\n",
       "      <td>52.0</td>\n",
       "      <td>0</td>\n",
       "    </tr>\n",
       "  </tbody>\n",
       "</table>\n",
       "</div>"
      ],
      "text/plain": [
       "   GEN16 district party        Prediction  Race   age femaleis1\n",
       "0    1.0      MRT   REP            Jewish     5  67.0         0\n",
       "1    1.0      CLA   REP  Western European     5  35.0         1\n",
       "2    0.0      HIL   DEM  Western European     3  20.0         0\n",
       "3    1.0      MON   NPA  Western European     5  43.0         0\n",
       "4    1.0      BAK   REP  Western European     5  52.0         0"
      ]
     },
     "execution_count": 50,
     "metadata": {},
     "output_type": "execute_result"
    }
   ],
   "source": [
    "reg.head()"
   ]
  },
  {
   "cell_type": "code",
   "execution_count": 51,
   "metadata": {
    "collapsed": true
   },
   "outputs": [],
   "source": [
    "reg1 = reg.dropna(axis=0)\n",
    "datamodel1 = pd.get_dummies(reg1, columns=['district','party', \"Prediction\", \"Race\"])\n"
   ]
  },
  {
   "cell_type": "code",
   "execution_count": 52,
   "metadata": {
    "collapsed": true
   },
   "outputs": [],
   "source": [
    "## Not an even sample!!! Make train even...\n",
    "\n",
    "msk = np.random.rand(len(datamodel1)) < 0.5\n",
    "train = datamodel1[msk]\n",
    "test = datamodel1[~msk]\n",
    "\n",
    "didntshow = train[train['GEN16']==0]\n",
    "showed = train[train['GEN16']==1]\n",
    "didntshow = didntshow.sample(len(didntshow))\n",
    "showed = showed.sample(len(didntshow))\n",
    "frames = [didntshow, showed]\n",
    "train_even = pd.concat(frames)\n",
    "y_train = train_even['GEN16']\n",
    "y_test = test['GEN16']\n",
    "X_train = train_even.drop(['GEN16'], axis = 1)\n",
    "X_test = test.drop(['GEN16'], axis = 1)"
   ]
  },
  {
   "cell_type": "code",
   "execution_count": 53,
   "metadata": {},
   "outputs": [
    {
     "data": {
      "image/png": "[encoded data removed]",
      "text/plain": [
       "<matplotlib.figure.Figure at 0x11f19bcf8>"
      ]
     },
     "metadata": {},
     "output_type": "display_data"
    },
    {
     "name": "stdout",
     "output_type": "stream",
     "text": [
      "The Area under the curve is:  0.76609735412\n"
     ]
    }
   ],
   "source": [
    "#Log Regression using LRCV\n",
    "#cross validation values\n",
    "cvals = [1, 10, 100, 10000, 100000]\n",
    "logit = LogisticRegressionCV(Cs=cvals, penalty='l2', cv=5, scoring = \"roc_auc\")\n",
    "logit.fit(X_train, y_train)\n",
    "y_hat_train = logit.predict(X_train)\n",
    "y_hat_test = logit.predict(X_test)\n",
    "#####\n",
    "preds = logit.predict_proba(X_test)[:,1]\n",
    "fpr, tpr, thresholds = metrics.roc_curve(y_test, preds)\n",
    "fpr_2, tpr_2, thresholds_2 = metrics.roc_curve(y_test, [0 for y in y_test])\n",
    "roc_auc_2 = metrics.auc(fpr_2, tpr_2)\n",
    "plt.figure(figsize=(20,10))\n",
    "lw = 2\n",
    "roc_auc = metrics.auc(fpr, tpr)\n",
    "plt.plot(fpr, tpr, color='darkorange',\n",
    "         lw=lw, label='ROC curve (area = %0.2f) LogReg' % roc_auc)\n",
    "plt.plot([0], [0], marker='o', markersize=10, lw = 0, color=\"red\", label ='ROC curve (area = 0) Naive Classifier')\n",
    "plt.plot([0, 1], [0, 1], color='navy', lw=lw, linestyle='--')\n",
    "plt.xlim([-0.02, 1.0])\n",
    "plt.ylim([-0.02, 1.05])\n",
    "plt.xlabel('False Positive Rate')\n",
    "plt.ylabel('True Positive Rate')\n",
    "plt.title('Receiver operating characteristic')\n",
    "plt.legend(loc=\"lower right\", prop={'size':20})\n",
    "plt.show() \n",
    "print(\"The Area under the curve is: \" , roc_auc)"
   ]
  },
  {
   "cell_type": "code",
   "execution_count": 54,
   "metadata": {},
   "outputs": [
    {
     "name": "stdout",
     "output_type": "stream",
     "text": [
      "logit all predictors accuracy in train = 0.712\n",
      "logit all predictors accuracy in test = 0.694\n"
     ]
    }
   ],
   "source": [
    "y_hat_logregmul_train = logit.predict_proba(X_train)[:,1]\n",
    "y_hat_logregmul_test = logit.predict_proba(X_test)[:,1]\n",
    "\n",
    "# accuracy\n",
    "print(\"logit all predictors accuracy in train = %0.3f\" % accuracy_score(y_train, y_hat_logregmul_train>0.5))\n",
    "print(\"logit all predictors accuracy in test = %0.3f\" % accuracy_score(y_test, y_hat_logregmul_test>0.5))\n"
   ]
  },
  {
   "cell_type": "markdown",
   "metadata": {},
   "source": [
    "## Analyzing Significance of Coefficients\n",
    "\n",
    "How many of the coefficients estimated by the multiple logistic regression in the previous problem are significantly different from zero at a *significance level of 95%*? \n",
    "\n",
    "To answer this question, use *bootstrapping* with 100 boostrap samples/iterations.  \n",
    "\n"
   ]
  },
  {
   "cell_type": "code",
   "execution_count": 56,
   "metadata": {
    "collapsed": true
   },
   "outputs": [],
   "source": [
    "b_genes = logit.coef_[0]"
   ]
  },
  {
   "cell_type": "code",
   "execution_count": 60,
   "metadata": {
    "collapsed": true
   },
   "outputs": [],
   "source": [
    "iterations = 100\n",
    "\n",
    "b_genes_boot = np.zeros((X_train.shape[1],100))\n",
    "\n",
    "for i in range(iterations):\n",
    "    # sample with replacement from X_train\n",
    "    boot_rows = np.random.choice(range(X_train.shape[0]), size=X_train.shape[0], replace=True)\n",
    "    X_train_boot = X_train.values[boot_rows]\n",
    "    y_train_boot = y_train.values[boot_rows]\n",
    "\n",
    "    # fit\n",
    "    cvals = [1, 10, 100, 10000, 100000]\n",
    "    ### NOTICE THAT I CHANGED THE SCORING METRIC??\n",
    "    logregmul_boot = logit = LogisticRegressionCV(Cs=cvals, penalty='l2', cv=5)\n",
    "    logregmul_boot.fit(X_train_boot, y_train_boot)\n",
    "    b_genes_boot[:,i] = logregmul_boot.coef_\n",
    "\n",
    "    "
   ]
  },
  {
   "cell_type": "code",
   "execution_count": null,
   "metadata": {
    "collapsed": true
   },
   "outputs": [],
   "source": []
  },
  {
   "cell_type": "code",
   "execution_count": 61,
   "metadata": {},
   "outputs": [],
   "source": [
    "# construct confidence intervals\n",
    "b_genes_ci_upper = np.percentile(b_genes_boot, 97.5, axis=1)\n",
    "b_genes_ci_lower = np.percentile(b_genes_boot, 2.5, axis=1)"
   ]
  },
  {
   "cell_type": "code",
   "execution_count": 65,
   "metadata": {},
   "outputs": [
    {
     "name": "stdout",
     "output_type": "stream",
     "text": [
      "Significant coefficents at 5pct level = 31 / 96\n"
     ]
    }
   ],
   "source": [
    "# ct significant predictors\n",
    "sig_b_ct = 0\n",
    "\n",
    "# if ci contains 0, then insignificant\n",
    "for i in range(X_train.shape[1]):\n",
    "    if b_genes_ci_upper[i]<0 or b_genes_ci_lower[i]>0:\n",
    "        sig_b_ct += 1\n",
    "\n",
    "print(\"Significant coefficents at 5pct level = %i / %i\" % (sig_b_ct, X_train.shape[1]))"
   ]
  },
  {
   "cell_type": "code",
   "execution_count": 66,
   "metadata": {},
   "outputs": [
    {
     "data": {
      "text/plain": [
       "<matplotlib.legend.Legend at 0x1218eeb38>"
      ]
     },
     "execution_count": 66,
     "metadata": {},
     "output_type": "execute_result"
    },
    {
     "data": {
      "image/png": "[encoded data removed]",
      "text/plain": [
       "<matplotlib.figure.Figure at 0x1218af128>"
      ]
     },
     "metadata": {},
     "output_type": "display_data"
    }
   ],
   "source": [
    "# this plot is not asked for; just for illustration\n",
    "# to generate a dataframe of the significant predictors only\n",
    "sig_b = []\n",
    "\n",
    "# if ci contains 0, then insignificant\n",
    "for i in range(X_train.shape[1]):\n",
    "    if b_genes_ci_upper[i]<0 or b_genes_ci_lower[i]>0:\n",
    "        row={}\n",
    "        row[\"gene\"] = X_train.columns[i]\n",
    "        row[\"coef\"] = b_genes[i]\n",
    "        row[\"CI 2.5\"] = b_genes_ci_lower[i]\n",
    "        row[\"CI 97.5\"] = b_genes_ci_upper[i]\n",
    "        sig_b.append(row)\n",
    "    \n",
    "sig_b_df = pd.DataFrame(sig_b)\n",
    "sig_b_df = sig_b_df.sort_values(\"coef\", ascending=False)\n",
    "sig_b_df[[\"gene\",\"coef\",\"CI 2.5\",\"CI 97.5\"]].head()\n",
    "\n",
    "# plot\n",
    "plt.figure(figsize=(14,5))\n",
    "plt.errorbar(range(sig_b_df.shape[0]), \n",
    "             0.5*sig_b_df[\"CI 97.5\"]+0.5*sig_b_df[\"CI 2.5\"], \n",
    "             yerr=0.5*(sig_b_df[\"CI 97.5\"]-sig_b_df[\"coef\"])+0.5*(sig_b_df[\"coef\"]-sig_b_df[\"CI 2.5\"]),\n",
    "             fmt='.',\n",
    "             marker=None,\n",
    "             elinewidth=0.05,\n",
    "             label=\"95% CI\"\n",
    "         )\n",
    "plt.scatter(range(sig_b_df.shape[0]), sig_b_df[\"coef\"], color='red', label=\"coef_est\", marker='.')\n",
    "plt.xlim((0,sig_b_df.shape[0]))\n",
    "plt.xlabel(\"predictor\")\n",
    "plt.ylabel(\"Coef value\")\n",
    "plt.legend()"
   ]
  },
  {
   "cell_type": "code",
   "execution_count": null,
   "metadata": {
    "collapsed": true
   },
   "outputs": [],
   "source": []
  },
  {
   "cell_type": "code",
   "execution_count": null,
   "metadata": {
    "collapsed": true
   },
   "outputs": [],
   "source": []
  },
  {
   "cell_type": "code",
   "execution_count": null,
   "metadata": {
    "collapsed": true
   },
   "outputs": [],
   "source": []
  },
  {
   "cell_type": "code",
   "execution_count": null,
   "metadata": {
    "collapsed": true
   },
   "outputs": [],
   "source": []
  },
  {
   "cell_type": "code",
   "execution_count": null,
   "metadata": {
    "collapsed": true
   },
   "outputs": [],
   "source": []
  }
 ],
 "metadata": {
  "kernelspec": {
   "display_name": "Python 3",
   "language": "python",
   "name": "python3"
  },
  "language_info": {
   "codemirror_mode": {
    "name": "ipython",
    "version": 3
   },
   "file_extension": ".py",
   "mimetype": "text/x-python",
   "name": "python",
   "nbconvert_exporter": "python",
   "pygments_lexer": "ipython3",
   "version": "3.6.1"
  }
 },
 "nbformat": 4,
 "nbformat_minor": 2
}
