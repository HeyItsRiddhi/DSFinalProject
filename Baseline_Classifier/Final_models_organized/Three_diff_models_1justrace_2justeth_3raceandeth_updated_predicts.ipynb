{
 "cells": [
  {
   "cell_type": "markdown",
   "metadata": {},
   "source": [
    "# This file contains three diff models: One with just race (from FL dataset), one with just our generated ethnicity, one with both"
   ]
  },
  {
   "cell_type": "code",
   "execution_count": 1,
   "metadata": {},
   "outputs": [
    {
     "name": "stderr",
     "output_type": "stream",
     "text": [
      "/anaconda/lib/python3.6/site-packages/statsmodels/compat/pandas.py:56: FutureWarning: The pandas.core.datetools module is deprecated and will be removed in a future version. Please use the pandas.tseries module instead.\n",
      "  from pandas.core import datetools\n",
      "/anaconda/lib/python3.6/site-packages/sklearn/cross_validation.py:44: DeprecationWarning: This module was deprecated in version 0.18 in favor of the model_selection module into which all the refactored classes and functions are moved. Also note that the interface of the new CV iterators are different from that of this module. This module will be removed in 0.20.\n",
      "  \"This module will be removed in 0.20.\", DeprecationWarning)\n"
     ]
    }
   ],
   "source": [
    "import pandas as pd\n",
    "import numpy as np\n",
    "import datetime as DT\n",
    "\n",
    "import numpy as np\n",
    "import pandas as pd\n",
    "import matplotlib\n",
    "import matplotlib.pyplot as plt\n",
    "import statsmodels.api as sm\n",
    "from statsmodels.api import OLS\n",
    "from sklearn.decomposition import PCA\n",
    "from sklearn.linear_model import LogisticRegression\n",
    "from sklearn.linear_model import LogisticRegressionCV\n",
    "from sklearn.utils import resample\n",
    "from sklearn.model_selection import cross_val_score\n",
    "from sklearn.metrics import accuracy_score\n",
    "%matplotlib inline\n",
    "import seaborn.apionly as sns\n",
    "\n",
    "import numpy as np\n",
    "import pandas as pd\n",
    "from sklearn.preprocessing import PolynomialFeatures\n",
    "from sklearn.neighbors import KNeighborsRegressor as KNN\n",
    "from sklearn.linear_model import RidgeCV\n",
    "from sklearn.linear_model import Ridge\n",
    "from sklearn.linear_model import LinearRegression as Linear\n",
    "from bs4 import BeautifulSoup\n",
    "import urllib\n",
    "import sys\n",
    "import numpy as np\n",
    "import pandas as pd\n",
    "import matplotlib\n",
    "from sklearn.linear_model import RidgeCV\n",
    "from sklearn.linear_model import LassoCV\n",
    "import matplotlib.pyplot as plt\n",
    "from sklearn import linear_model\n",
    "from sklearn.linear_model import LogisticRegressionCV\n",
    "import matplotlib.pyplot as plt\n",
    "import statsmodels.api as sm\n",
    "from statsmodels.tools import add_constant\n",
    "from statsmodels.regression.linear_model import RegressionResults\n",
    "import seaborn as sns\n",
    "import sklearn as sk\n",
    "import collections\n",
    "from collections import Counter\n",
    "from sklearn.preprocessing import MinMaxScaler\n",
    "from sklearn.model_selection import KFold\n",
    "from sklearn import discriminant_analysis\n",
    "from sklearn.decomposition import PCA\n",
    "from sklearn import preprocessing\n",
    "from sklearn.neighbors import KNeighborsClassifier as KNN\n",
    "from sklearn.cross_validation import train_test_split\n",
    "from sklearn.linear_model import LinearRegression\n",
    "from sklearn.linear_model import LogisticRegression\n",
    "from sklearn.linear_model import Ridge\n",
    "from sklearn.linear_model import Lasso\n",
    "from sklearn.preprocessing import PolynomialFeatures\n",
    "from sklearn.neighbors import KNeighborsRegressor\n",
    "from sklearn.decomposition import PCA\n",
    "import sklearn.metrics as metrics\n",
    "from sklearn.preprocessing import PolynomialFeatures\n",
    "from sklearn.discriminant_analysis import LinearDiscriminantAnalysis\n",
    "from sklearn.discriminant_analysis import QuadraticDiscriminantAnalysis\n",
    "from sklearn.neighbors import KNeighborsClassifier\n",
    "from sklearn.tree import DecisionTreeClassifier\n",
    "from sklearn.model_selection import cross_val_score\n",
    "from sklearn import tree\n",
    "import pandas as pd\n",
    "import sys\n",
    "import numpy as np\n",
    "import scipy as sp\n",
    "import matplotlib.pyplot as plt\n",
    "import statsmodels.api as sm\n",
    "from statsmodels.tools import add_constant\n",
    "from statsmodels.regression.linear_model import RegressionResults\n",
    "import seaborn as sns\n",
    "import sklearn as sk\n",
    "from sklearn.preprocessing import MinMaxScaler\n",
    "from sklearn.model_selection import KFold\n",
    "from sklearn.linear_model import LinearRegression\n",
    "from sklearn.linear_model import Ridge\n",
    "from sklearn.linear_model import Lasso\n",
    "from sklearn.preprocessing import PolynomialFeatures\n",
    "from sklearn.neighbors import KNeighborsRegressor\n",
    "from sklearn.decomposition import PCA\n",
    "from sklearn import tree\n",
    "import numpy as np\n",
    "import scipy as sp\n",
    "import matplotlib.pyplot as plt\n",
    "import pandas as pd\n",
    "\n",
    "import seaborn as sns\n",
    "from sklearn import ensemble\n",
    "#import pydotplus\n",
    "#import io\n",
    "import collections\n",
    "from sklearn.tree import export_graphviz\n",
    "from IPython.display import Image\n",
    "from IPython.display import display\n",
    "import matplotlib.pyplot as plt\n",
    "%matplotlib inline\n",
    "\n",
    "import matplotlib\n",
    "import matplotlib.pyplot as plt\n",
    "import matplotlib.cm as cmx\n",
    "import matplotlib.colors as colors\n",
    "import matplotlib.patches as patches"
   ]
  },
  {
   "cell_type": "code",
   "execution_count": 50,
   "metadata": {
    "collapsed": true
   },
   "outputs": [],
   "source": [
    "reg = pd.read_csv(\"age_dataset_new_predictors_removed_abstain.csv\", sep=\",\")"
   ]
  },
  {
   "cell_type": "code",
   "execution_count": 51,
   "metadata": {},
   "outputs": [
    {
     "name": "stdout",
     "output_type": "stream",
     "text": [
      "Index(['Unnamed: 0', 'Unnamed: 0.1', 'FIRST_NAME', 'GEN16', 'LAST_NAME',\n",
      "       'district', 'dob', 'electiondate', 'female', 'id', 'party', 'regyear',\n",
      "       'typeofvote', 'zip', 'Ethnicity Prediction', 'Unnamed: 0.1.1', '2', '3',\n",
      "       '4', '19', 'Prediction Score', 'Conservative Ethnicity Prediction',\n",
      "       'Race (Prior)'],\n",
      "      dtype='object') [0, 0, 2, 0, 2, 0, 431, 16297, 10, 0, 0, 0, 16297, 5, 0, 0, 0, 2, 2, 0, 0, 0, 0]\n"
     ]
    }
   ],
   "source": [
    "print(reg.columns, reg.isnull().sum(axis=0).tolist())"
   ]
  },
  {
   "cell_type": "markdown",
   "metadata": {},
   "source": [
    "reg.head()\n",
    "data = reg\n",
    "from dateutil.relativedelta import relativedelta\n",
    "#Add an age column\n",
    "data['age'] = data.apply(lambda _: '', axis=1)\n",
    "nan_count = 0\n",
    "now = now = DT.datetime.now()\n",
    "\n",
    "for i ,dob in enumerate(data['dob']):\n",
    "    if (str(dob) == 'nan'):\n",
    "        print(i)\n",
    "        print(dob)\n",
    "        nan_count += 1  \n",
    "    else:\n",
    "        data['dob'][i+1] = DT.datetime.strptime(str(dob), \"%m/%d/%Y\")\n",
    "        rdelta = relativedelta(now,data['dob'][i+1])\n",
    "        data['age'][i+1] = rdelta.years"
   ]
  },
  {
   "cell_type": "code",
   "execution_count": 48,
   "metadata": {
    "collapsed": true
   },
   "outputs": [],
   "source": [
    "\n",
    "\n",
    "reg = data"
   ]
  },
  {
   "cell_type": "code",
   "execution_count": 37,
   "metadata": {
    "collapsed": true
   },
   "outputs": [],
   "source": [
    "#data.to_csv('age_dataset_new_predictors.csv', sep='\\t')"
   ]
  },
  {
   "cell_type": "code",
   "execution_count": 49,
   "metadata": {},
   "outputs": [
    {
     "ename": "ValueError",
     "evalue": "labels ['FIRST_NAME' 'LAST_NAME'] not contained in axis",
     "output_type": "error",
     "traceback": [
      "\u001b[0;31m---------------------------------------------------------------------------\u001b[0m",
      "\u001b[0;31mValueError\u001b[0m                                Traceback (most recent call last)",
      "\u001b[0;32m<ipython-input-49-b4c18bc9342a>\u001b[0m in \u001b[0;36m<module>\u001b[0;34m()\u001b[0m\n\u001b[1;32m      3\u001b[0m \u001b[0;31m#remove = ['dob', 'electiondate', 'id', 'typeofvote', 'zip']\u001b[0m\u001b[0;34m\u001b[0m\u001b[0;34m\u001b[0m\u001b[0m\n\u001b[1;32m      4\u001b[0m \u001b[0;34m\u001b[0m\u001b[0m\n\u001b[0;32m----> 5\u001b[0;31m \u001b[0mreg\u001b[0m\u001b[0;34m.\u001b[0m\u001b[0mdrop\u001b[0m\u001b[0;34m(\u001b[0m\u001b[0mremove\u001b[0m\u001b[0;34m,\u001b[0m \u001b[0maxis\u001b[0m \u001b[0;34m=\u001b[0m \u001b[0;36m1\u001b[0m\u001b[0;34m,\u001b[0m \u001b[0minplace\u001b[0m \u001b[0;34m=\u001b[0m \u001b[0;32mTrue\u001b[0m\u001b[0;34m)\u001b[0m\u001b[0;34m\u001b[0m\u001b[0m\n\u001b[0m",
      "\u001b[0;32m/anaconda/lib/python3.6/site-packages/pandas/core/generic.py\u001b[0m in \u001b[0;36mdrop\u001b[0;34m(self, labels, axis, index, columns, level, inplace, errors)\u001b[0m\n\u001b[1;32m   2528\u001b[0m         \u001b[0;32mfor\u001b[0m \u001b[0maxis\u001b[0m\u001b[0;34m,\u001b[0m \u001b[0mlabels\u001b[0m \u001b[0;32min\u001b[0m \u001b[0maxes\u001b[0m\u001b[0;34m.\u001b[0m\u001b[0mitems\u001b[0m\u001b[0;34m(\u001b[0m\u001b[0;34m)\u001b[0m\u001b[0;34m:\u001b[0m\u001b[0;34m\u001b[0m\u001b[0m\n\u001b[1;32m   2529\u001b[0m             \u001b[0;32mif\u001b[0m \u001b[0mlabels\u001b[0m \u001b[0;32mis\u001b[0m \u001b[0;32mnot\u001b[0m \u001b[0;32mNone\u001b[0m\u001b[0;34m:\u001b[0m\u001b[0;34m\u001b[0m\u001b[0m\n\u001b[0;32m-> 2530\u001b[0;31m                 \u001b[0mobj\u001b[0m \u001b[0;34m=\u001b[0m \u001b[0mobj\u001b[0m\u001b[0;34m.\u001b[0m\u001b[0m_drop_axis\u001b[0m\u001b[0;34m(\u001b[0m\u001b[0mlabels\u001b[0m\u001b[0;34m,\u001b[0m \u001b[0maxis\u001b[0m\u001b[0;34m,\u001b[0m \u001b[0mlevel\u001b[0m\u001b[0;34m=\u001b[0m\u001b[0mlevel\u001b[0m\u001b[0;34m,\u001b[0m \u001b[0merrors\u001b[0m\u001b[0;34m=\u001b[0m\u001b[0merrors\u001b[0m\u001b[0;34m)\u001b[0m\u001b[0;34m\u001b[0m\u001b[0m\n\u001b[0m\u001b[1;32m   2531\u001b[0m \u001b[0;34m\u001b[0m\u001b[0m\n\u001b[1;32m   2532\u001b[0m         \u001b[0;32mif\u001b[0m \u001b[0minplace\u001b[0m\u001b[0;34m:\u001b[0m\u001b[0;34m\u001b[0m\u001b[0m\n",
      "\u001b[0;32m/anaconda/lib/python3.6/site-packages/pandas/core/generic.py\u001b[0m in \u001b[0;36m_drop_axis\u001b[0;34m(self, labels, axis, level, errors)\u001b[0m\n\u001b[1;32m   2560\u001b[0m                 \u001b[0mnew_axis\u001b[0m \u001b[0;34m=\u001b[0m \u001b[0maxis\u001b[0m\u001b[0;34m.\u001b[0m\u001b[0mdrop\u001b[0m\u001b[0;34m(\u001b[0m\u001b[0mlabels\u001b[0m\u001b[0;34m,\u001b[0m \u001b[0mlevel\u001b[0m\u001b[0;34m=\u001b[0m\u001b[0mlevel\u001b[0m\u001b[0;34m,\u001b[0m \u001b[0merrors\u001b[0m\u001b[0;34m=\u001b[0m\u001b[0merrors\u001b[0m\u001b[0;34m)\u001b[0m\u001b[0;34m\u001b[0m\u001b[0m\n\u001b[1;32m   2561\u001b[0m             \u001b[0;32melse\u001b[0m\u001b[0;34m:\u001b[0m\u001b[0;34m\u001b[0m\u001b[0m\n\u001b[0;32m-> 2562\u001b[0;31m                 \u001b[0mnew_axis\u001b[0m \u001b[0;34m=\u001b[0m \u001b[0maxis\u001b[0m\u001b[0;34m.\u001b[0m\u001b[0mdrop\u001b[0m\u001b[0;34m(\u001b[0m\u001b[0mlabels\u001b[0m\u001b[0;34m,\u001b[0m \u001b[0merrors\u001b[0m\u001b[0;34m=\u001b[0m\u001b[0merrors\u001b[0m\u001b[0;34m)\u001b[0m\u001b[0;34m\u001b[0m\u001b[0m\n\u001b[0m\u001b[1;32m   2563\u001b[0m             \u001b[0mdropped\u001b[0m \u001b[0;34m=\u001b[0m \u001b[0mself\u001b[0m\u001b[0;34m.\u001b[0m\u001b[0mreindex\u001b[0m\u001b[0;34m(\u001b[0m\u001b[0;34m**\u001b[0m\u001b[0;34m{\u001b[0m\u001b[0maxis_name\u001b[0m\u001b[0;34m:\u001b[0m \u001b[0mnew_axis\u001b[0m\u001b[0;34m}\u001b[0m\u001b[0;34m)\u001b[0m\u001b[0;34m\u001b[0m\u001b[0m\n\u001b[1;32m   2564\u001b[0m             \u001b[0;32mtry\u001b[0m\u001b[0;34m:\u001b[0m\u001b[0;34m\u001b[0m\u001b[0m\n",
      "\u001b[0;32m/anaconda/lib/python3.6/site-packages/pandas/core/indexes/base.py\u001b[0m in \u001b[0;36mdrop\u001b[0;34m(self, labels, errors)\u001b[0m\n\u001b[1;32m   3739\u001b[0m             \u001b[0;32mif\u001b[0m \u001b[0merrors\u001b[0m \u001b[0;34m!=\u001b[0m \u001b[0;34m'ignore'\u001b[0m\u001b[0;34m:\u001b[0m\u001b[0;34m\u001b[0m\u001b[0m\n\u001b[1;32m   3740\u001b[0m                 raise ValueError('labels %s not contained in axis' %\n\u001b[0;32m-> 3741\u001b[0;31m                                  labels[mask])\n\u001b[0m\u001b[1;32m   3742\u001b[0m             \u001b[0mindexer\u001b[0m \u001b[0;34m=\u001b[0m \u001b[0mindexer\u001b[0m\u001b[0;34m[\u001b[0m\u001b[0;34m~\u001b[0m\u001b[0mmask\u001b[0m\u001b[0;34m]\u001b[0m\u001b[0;34m\u001b[0m\u001b[0m\n\u001b[1;32m   3743\u001b[0m         \u001b[0;32mreturn\u001b[0m \u001b[0mself\u001b[0m\u001b[0;34m.\u001b[0m\u001b[0mdelete\u001b[0m\u001b[0;34m(\u001b[0m\u001b[0mindexer\u001b[0m\u001b[0;34m)\u001b[0m\u001b[0;34m\u001b[0m\u001b[0m\n",
      "\u001b[0;31mValueError\u001b[0m: labels ['FIRST_NAME' 'LAST_NAME'] not contained in axis"
     ]
    }
   ],
   "source": [
    "remove = ['FIRST_NAME', 'LAST_NAME']\n",
    "\n",
    "#remove = ['dob', 'electiondate', 'id', 'typeofvote', 'zip']\n",
    "        \n",
    "reg.drop(remove, axis = 1, inplace = True)\n"
   ]
  },
  {
   "cell_type": "code",
   "execution_count": 40,
   "metadata": {},
   "outputs": [
    {
     "name": "stdout",
     "output_type": "stream",
     "text": [
      "Index(['Unnamed: 0', 'Unnamed: 0.1', 'GEN16', 'district', 'dob',\n",
      "       'electiondate', 'female', 'id', 'party', 'regyear', 'typeofvote', 'zip',\n",
      "       'Ethnicity Prediction', 'Unnamed: 0.1.1', '2', '3', '4', '19',\n",
      "       'Prediction Score', 'Conservative Ethnicity Prediction', 'Race (Prior)',\n",
      "       'age'],\n",
      "      dtype='object') [0, 0, 0, 0, 3, 16297, 10, 0, 0, 0, 16297, 5, 0, 0, 0, 2, 2, 0, 0, 0, 0, 0]\n"
     ]
    }
   ],
   "source": [
    "#del reg['Unnamed: 0']\n",
    "#del reg['Unnamed: 0.1']\n",
    "print(reg.columns, reg.isnull().sum(axis=0).tolist())"
   ]
  },
  {
   "cell_type": "code",
   "execution_count": 41,
   "metadata": {},
   "outputs": [],
   "source": [
    "no_abstain = reg[reg['Conservative Ethnicity Prediction']!= \"Abstain\"]"
   ]
  },
  {
   "cell_type": "code",
   "execution_count": 43,
   "metadata": {
    "collapsed": true
   },
   "outputs": [],
   "source": [
    "#no_abstain.to_csv('age_dataset_new_predictors_removed_abstain.csv', sep='\\t')"
   ]
  },
  {
   "cell_type": "code",
   "execution_count": 54,
   "metadata": {},
   "outputs": [],
   "source": [
    "reg = pd.read_csv(\"age_dataset_new_predictors_removed_abstain.csv\", sep='\\t')"
   ]
  },
  {
   "cell_type": "code",
   "execution_count": 55,
   "metadata": {},
   "outputs": [
    {
     "data": {
      "text/plain": [
       "Index(['Unnamed: 0', 'Unnamed: 0.1', 'Unnamed: 0.1.1', 'GEN16', 'district',\n",
       "       'dob', 'electiondate', 'female', 'id', 'party', 'regyear', 'typeofvote',\n",
       "       'zip', 'Ethnicity Prediction', 'Unnamed: 0.1.1.1', '2', '3', '4', '19',\n",
       "       'Prediction Score', 'Conservative Ethnicity Prediction', 'Race (Prior)',\n",
       "       'age'],\n",
       "      dtype='object')"
      ]
     },
     "execution_count": 55,
     "metadata": {},
     "output_type": "execute_result"
    }
   ],
   "source": [
    "no_abstain = reg\n",
    "no_abstain.columns"
   ]
  },
  {
   "cell_type": "code",
   "execution_count": 56,
   "metadata": {},
   "outputs": [],
   "source": [
    "no_abstain.columns\n",
    "remove = ['Unnamed: 0', 'dob', 'electiondate', 'id', 'Unnamed: 0.1', 'regyear', 'typeofvote', 'zip','Unnamed: 0.1.1', 'Ethnicity Prediction', 'Unnamed: 0.1.1', '2', '3', '4', '19',\n",
    "       'Prediction Score']\n",
    "no_abstain.drop(remove, axis = 1, inplace = True)\n"
   ]
  },
  {
   "cell_type": "code",
   "execution_count": 59,
   "metadata": {},
   "outputs": [],
   "source": [
    "del no_abstain[\"Unnamed: 0.1.1.1\"]"
   ]
  },
  {
   "cell_type": "code",
   "execution_count": 57,
   "metadata": {},
   "outputs": [
    {
     "data": {
      "text/plain": [
       "Index(['GEN16', 'district', 'female', 'party', 'Unnamed: 0.1.1.1',\n",
       "       'Conservative Ethnicity Prediction', 'Race (Prior)', 'age'],\n",
       "      dtype='object')"
      ]
     },
     "execution_count": 57,
     "metadata": {},
     "output_type": "execute_result"
    }
   ],
   "source": [
    "\n",
    "no_abstain.columns"
   ]
  },
  {
   "cell_type": "code",
   "execution_count": 60,
   "metadata": {},
   "outputs": [],
   "source": [
    "no_abstain['femaleis1'] = 0\n",
    "\n",
    "no_abstain.loc[(no_abstain['female'] == \"F\"),'femaleis1'] = \"1\"\n",
    "del no_abstain[\"female\"]"
   ]
  },
  {
   "cell_type": "code",
   "execution_count": 61,
   "metadata": {},
   "outputs": [
    {
     "data": {
      "text/plain": [
       "Index(['GEN16', 'district', 'party', 'Conservative Ethnicity Prediction',\n",
       "       'Race (Prior)', 'age', 'femaleis1'],\n",
       "      dtype='object')"
      ]
     },
     "execution_count": 61,
     "metadata": {},
     "output_type": "execute_result"
    }
   ],
   "source": [
    "no_abstain.head()\n",
    "no_abstain.columns"
   ]
  },
  {
   "cell_type": "code",
   "execution_count": 62,
   "metadata": {},
   "outputs": [
    {
     "data": {
      "text/plain": [
       "<matplotlib.axes._subplots.AxesSubplot at 0x12187a780>"
      ]
     },
     "execution_count": 62,
     "metadata": {},
     "output_type": "execute_result"
    },
    {
     "data": {
      "image/png": "[encoded data removed]",
      "text/plain": [
       "<matplotlib.figure.Figure at 0x119ef54a8>"
      ]
     },
     "metadata": {},
     "output_type": "display_data"
    }
   ],
   "source": [
    "# get dummies\n",
    "datamodel1 = pd.get_dummies(no_abstain, columns=['party', 'Conservative Ethnicity Prediction', 'Race (Prior)'])\n",
    "#datamodel1 = pd.get_dummies(reg1, columns=['district','party', \"Prediction\", \"Race\"])\n",
    "\n",
    "datamodel1.corr()\n",
    "plt.figure(figsize=(12,12))\n",
    "sns.heatmap(datamodel1.corr())"
   ]
  },
  {
   "cell_type": "markdown",
   "metadata": {},
   "source": [
    "# Back to creating an analysis"
   ]
  },
  {
   "cell_type": "code",
   "execution_count": 65,
   "metadata": {},
   "outputs": [
    {
     "data": {
      "text/html": [
       "<div>\n",
       "<style scoped>\n",
       "    .dataframe tbody tr th:only-of-type {\n",
       "        vertical-align: middle;\n",
       "    }\n",
       "\n",
       "    .dataframe tbody tr th {\n",
       "        vertical-align: top;\n",
       "    }\n",
       "\n",
       "    .dataframe thead th {\n",
       "        text-align: right;\n",
       "    }\n",
       "</style>\n",
       "<table border=\"1\" class=\"dataframe\">\n",
       "  <thead>\n",
       "    <tr style=\"text-align: right;\">\n",
       "      <th></th>\n",
       "      <th>GEN16</th>\n",
       "      <th>district</th>\n",
       "      <th>party</th>\n",
       "      <th>Conservative Ethnicity Prediction</th>\n",
       "      <th>Race (Prior)</th>\n",
       "      <th>age</th>\n",
       "      <th>femaleis1</th>\n",
       "    </tr>\n",
       "  </thead>\n",
       "  <tbody>\n",
       "    <tr>\n",
       "      <th>0</th>\n",
       "      <td>1.0</td>\n",
       "      <td>BAK</td>\n",
       "      <td>REP</td>\n",
       "      <td>Jewish</td>\n",
       "      <td>White</td>\n",
       "      <td>43.0</td>\n",
       "      <td>0</td>\n",
       "    </tr>\n",
       "    <tr>\n",
       "      <th>1</th>\n",
       "      <td>1.0</td>\n",
       "      <td>DUV</td>\n",
       "      <td>NPA</td>\n",
       "      <td>Arab Muslim</td>\n",
       "      <td>White</td>\n",
       "      <td>27.0</td>\n",
       "      <td>0</td>\n",
       "    </tr>\n",
       "    <tr>\n",
       "      <th>2</th>\n",
       "      <td>1.0</td>\n",
       "      <td>CLL</td>\n",
       "      <td>REP</td>\n",
       "      <td>Jewish</td>\n",
       "      <td>White</td>\n",
       "      <td>63.0</td>\n",
       "      <td>1</td>\n",
       "    </tr>\n",
       "    <tr>\n",
       "      <th>3</th>\n",
       "      <td>1.0</td>\n",
       "      <td>LEE</td>\n",
       "      <td>DEM</td>\n",
       "      <td>West European</td>\n",
       "      <td>White</td>\n",
       "      <td>42.0</td>\n",
       "      <td>1</td>\n",
       "    </tr>\n",
       "    <tr>\n",
       "      <th>4</th>\n",
       "      <td>1.0</td>\n",
       "      <td>CLL</td>\n",
       "      <td>REP</td>\n",
       "      <td>West European</td>\n",
       "      <td>White</td>\n",
       "      <td>70.0</td>\n",
       "      <td>0</td>\n",
       "    </tr>\n",
       "  </tbody>\n",
       "</table>\n",
       "</div>"
      ],
      "text/plain": [
       "   GEN16 district party Conservative Ethnicity Prediction Race (Prior)   age  \\\n",
       "0    1.0      BAK   REP                            Jewish        White  43.0   \n",
       "1    1.0      DUV   NPA                       Arab Muslim        White  27.0   \n",
       "2    1.0      CLL   REP                            Jewish        White  63.0   \n",
       "3    1.0      LEE   DEM                     West European        White  42.0   \n",
       "4    1.0      CLL   REP                     West European        White  70.0   \n",
       "\n",
       "  femaleis1  \n",
       "0         0  \n",
       "1         0  \n",
       "2         1  \n",
       "3         1  \n",
       "4         0  "
      ]
     },
     "execution_count": 65,
     "metadata": {},
     "output_type": "execute_result"
    }
   ],
   "source": [
    "no_abstain.head()"
   ]
  },
  {
   "cell_type": "code",
   "execution_count": 74,
   "metadata": {},
   "outputs": [
    {
     "name": "stdout",
     "output_type": "stream",
     "text": [
      "Index(['GEN16', 'district', 'party', 'Conservative Ethnicity Prediction',\n",
      "       'Race (Prior)', 'age', 'femaleis1'],\n",
      "      dtype='object') [0, 0, 0, 0, 0, 0, 0]\n"
     ]
    }
   ],
   "source": [
    "\n",
    "print(datamodel1.columns, datamodel1.isnull().sum(axis=0).tolist())"
   ]
  },
  {
   "cell_type": "code",
   "execution_count": 73,
   "metadata": {
    "collapsed": true
   },
   "outputs": [],
   "source": [
    "datamodel1 = no_abstain.dropna(axis=0, how='any')"
   ]
  },
  {
   "cell_type": "code",
   "execution_count": 76,
   "metadata": {},
   "outputs": [],
   "source": [
    "# get dummies\n",
    "datamodel = pd.get_dummies(datamodel1, columns=['district','party', \"Race (Prior)\", 'Conservative Ethnicity Prediction'])\n",
    "#datamodel1 = pd.get_dummies(reg1, columns=['district','party', \"Prediction\", \"Race\"])\n",
    "\n"
   ]
  },
  {
   "cell_type": "code",
   "execution_count": null,
   "metadata": {
    "collapsed": true
   },
   "outputs": [],
   "source": []
  },
  {
   "cell_type": "code",
   "execution_count": 78,
   "metadata": {},
   "outputs": [
    {
     "data": {
      "text/plain": [
       "Index(['GEN16', 'age', 'femaleis1', 'district_ALA', 'district_BAK',\n",
       "       'district_BAY', 'district_BRA', 'district_BRE', 'district_BRO',\n",
       "       'district_CAL', 'district_CHA', 'district_CIT', 'district_CLA',\n",
       "       'district_CLL', 'district_CLM', 'district_DAD', 'district_DES',\n",
       "       'district_DIX', 'district_DUV', 'district_ESC', 'district_FLA',\n",
       "       'district_FRA', 'district_GAD', 'district_GIL', 'district_GLA',\n",
       "       'district_GUL', 'district_HAM', 'district_HAR', 'district_HEN',\n",
       "       'district_HER', 'district_HIG', 'district_HIL', 'district_HOL',\n",
       "       'district_IND', 'district_JAC', 'district_JEF', 'district_LAF',\n",
       "       'district_LAK', 'district_LEE', 'district_LEO', 'district_LEV',\n",
       "       'district_LIB', 'district_MAD', 'district_MAN', 'district_MON',\n",
       "       'district_MRN', 'district_MRT', 'district_NAS', 'district_OKA',\n",
       "       'district_OKE', 'district_ORA', 'district_OSC', 'district_PAL',\n",
       "       'district_PAS', 'district_PIN', 'district_POL', 'district_PUT',\n",
       "       'district_SAN', 'district_SAR', 'district_SEM', 'district_STJ',\n",
       "       'district_STL', 'district_SUM', 'district_SUW', 'district_TAY',\n",
       "       'district_UNI', 'district_VOL', 'district_WAK', 'district_WAL',\n",
       "       'district_WAS', 'party_AIP', 'party_CPF', 'party_DEM', 'party_ECO',\n",
       "       'party_GRE', 'party_IDP', 'party_INT', 'party_LPF', 'party_NPA',\n",
       "       'party_REF', 'party_REP', 'Race (Prior)_American Indian',\n",
       "       'Race (Prior)_Asian', 'Race (Prior)_Black', 'Race (Prior)_Hispanic',\n",
       "       'Race (Prior)_White',\n",
       "       'Conservative Ethnicity Prediction_American Indian',\n",
       "       'Conservative Ethnicity Prediction_Arab Muslim',\n",
       "       'Conservative Ethnicity Prediction_Asian Muslim',\n",
       "       'Conservative Ethnicity Prediction_Black Muslim',\n",
       "       'Conservative Ethnicity Prediction_Blackamerican',\n",
       "       'Conservative Ethnicity Prediction_Continental African',\n",
       "       'Conservative Ethnicity Prediction_East Asian',\n",
       "       'Conservative Ethnicity Prediction_East European',\n",
       "       'Conservative Ethnicity Prediction_Hispanic',\n",
       "       'Conservative Ethnicity Prediction_Indian Subcont.',\n",
       "       'Conservative Ethnicity Prediction_Jewish',\n",
       "       'Conservative Ethnicity Prediction_West European'],\n",
       "      dtype='object')"
      ]
     },
     "execution_count": 78,
     "metadata": {},
     "output_type": "execute_result"
    }
   ],
   "source": [
    "#del datamodel[\"Prediction\"]\n",
    "datamodel.columns"
   ]
  },
  {
   "cell_type": "code",
   "execution_count": 79,
   "metadata": {
    "collapsed": true
   },
   "outputs": [],
   "source": [
    "\n",
    "msk = np.random.rand(len(datamodel)) < 0.5\n",
    "train = datamodel[msk]\n",
    "test = datamodel[~msk]\n"
   ]
  },
  {
   "cell_type": "code",
   "execution_count": 80,
   "metadata": {},
   "outputs": [
    {
     "name": "stdout",
     "output_type": "stream",
     "text": [
      "0.81430731204\n"
     ]
    }
   ],
   "source": [
    "print(np.sum(datamodel1[\"GEN16\"])/len(datamodel1[\"GEN16\"]))\n",
    "## Not an even sample!!! Make train even..."
   ]
  },
  {
   "cell_type": "code",
   "execution_count": 81,
   "metadata": {},
   "outputs": [
    {
     "name": "stdout",
     "output_type": "stream",
     "text": [
      "3935 20958\n",
      "16250\n"
     ]
    },
    {
     "data": {
      "text/plain": [
       "(None, None)"
      ]
     },
     "execution_count": 81,
     "metadata": {},
     "output_type": "execute_result"
    }
   ],
   "source": [
    "print(np.sum(train['GEN16']==0), len(train['GEN16'])), print(8125*2)"
   ]
  },
  {
   "cell_type": "code",
   "execution_count": 82,
   "metadata": {},
   "outputs": [
    {
     "name": "stderr",
     "output_type": "stream",
     "text": [
      "/anaconda/lib/python3.6/site-packages/ipykernel_launcher.py:1: SettingWithCopyWarning: \n",
      "A value is trying to be set on a copy of a slice from a DataFrame.\n",
      "Try using .loc[row_indexer,col_indexer] = value instead\n",
      "\n",
      "See the caveats in the documentation: http://pandas.pydata.org/pandas-docs/stable/indexing.html#indexing-view-versus-copy\n",
      "  \"\"\"Entry point for launching an IPython kernel.\n",
      "/anaconda/lib/python3.6/site-packages/ipykernel_launcher.py:2: SettingWithCopyWarning: \n",
      "A value is trying to be set on a copy of a slice from a DataFrame.\n",
      "Try using .loc[row_indexer,col_indexer] = value instead\n",
      "\n",
      "See the caveats in the documentation: http://pandas.pydata.org/pandas-docs/stable/indexing.html#indexing-view-versus-copy\n",
      "  \n"
     ]
    }
   ],
   "source": [
    "train['age']=(train['age']-train['age'].mean())/train['age'].std()\n",
    "test['age']=(test['age']-train['age'].mean())/train['age'].std()"
   ]
  },
  {
   "cell_type": "code",
   "execution_count": 83,
   "metadata": {
    "collapsed": true
   },
   "outputs": [],
   "source": [
    "## Not an even sample!!! Make train even...\n",
    "\n",
    "didntshow = train[train['GEN16']==0]\n",
    "showed = train[train['GEN16']==1]\n",
    "didntshow = didntshow.sample(len(didntshow))\n",
    "showed = showed.sample(len(didntshow))\n",
    "frames = [didntshow, showed]\n",
    "train_even = pd.concat(frames)\n",
    "y_train = train_even['GEN16']\n",
    "y_test = test['GEN16']\n",
    "X_train = train_even.drop(['GEN16'], axis = 1)\n",
    "X_test = test.drop(['GEN16'], axis = 1)"
   ]
  },
  {
   "cell_type": "code",
   "execution_count": 84,
   "metadata": {
    "collapsed": true
   },
   "outputs": [],
   "source": [
    "#Log Regression using LRCV\n",
    "#cross validation values\n",
    "cvals = [1, 10, 100, 10000, 100000]\n",
    "logit = LogisticRegressionCV(Cs=cvals, penalty='l2', cv=5, scoring = \"roc_auc\")\n",
    "logit.fit(X_train, y_train)\n",
    "y_hat_train = logit.predict(X_train)\n",
    "y_hat_test = logit.predict(X_test)\n",
    "#####"
   ]
  },
  {
   "cell_type": "code",
   "execution_count": 85,
   "metadata": {},
   "outputs": [
    {
     "name": "stdout",
     "output_type": "stream",
     "text": [
      "logit all predictors accuracy in train = 0.639\n",
      "logit all predictors accuracy in test = 0.370\n"
     ]
    }
   ],
   "source": [
    "y_hat_logregmul_train = logit.predict_proba(X_train)[:,1]\n",
    "y_hat_logregmul_test = logit.predict_proba(X_test)[:,1]\n",
    "\n",
    "# accuracy\n",
    "print(\"logit all predictors accuracy in train = %0.3f\" % accuracy_score(y_train, y_hat_logregmul_train>0.5))\n",
    "print(\"logit all predictors accuracy in test = %0.3f\" % accuracy_score(y_test, y_hat_logregmul_test>0.5))\n"
   ]
  },
  {
   "cell_type": "code",
   "execution_count": 179,
   "metadata": {},
   "outputs": [
    {
     "data": {
      "text/html": [
       "<div>\n",
       "<style scoped>\n",
       "    .dataframe tbody tr th:only-of-type {\n",
       "        vertical-align: middle;\n",
       "    }\n",
       "\n",
       "    .dataframe tbody tr th {\n",
       "        vertical-align: top;\n",
       "    }\n",
       "\n",
       "    .dataframe thead th {\n",
       "        text-align: right;\n",
       "    }\n",
       "</style>\n",
       "<table border=\"1\" class=\"dataframe\">\n",
       "  <thead>\n",
       "    <tr style=\"text-align: right;\">\n",
       "      <th></th>\n",
       "      <th>0</th>\n",
       "      <th>1</th>\n",
       "      <th>2</th>\n",
       "      <th>3</th>\n",
       "      <th>4</th>\n",
       "      <th>5</th>\n",
       "      <th>6</th>\n",
       "      <th>7</th>\n",
       "      <th>8</th>\n",
       "      <th>9</th>\n",
       "      <th>...</th>\n",
       "      <th>79</th>\n",
       "      <th>80</th>\n",
       "      <th>81</th>\n",
       "      <th>82</th>\n",
       "      <th>83</th>\n",
       "      <th>84</th>\n",
       "      <th>85</th>\n",
       "      <th>86</th>\n",
       "      <th>87</th>\n",
       "      <th>88</th>\n",
       "    </tr>\n",
       "  </thead>\n",
       "  <tbody>\n",
       "    <tr>\n",
       "      <th>0</th>\n",
       "      <td>GEN16</td>\n",
       "      <td>age</td>\n",
       "      <td>femaleis1</td>\n",
       "      <td>district_ALA</td>\n",
       "      <td>district_BAK</td>\n",
       "      <td>district_BAY</td>\n",
       "      <td>district_BRA</td>\n",
       "      <td>district_BRE</td>\n",
       "      <td>district_BRO</td>\n",
       "      <td>district_CAL</td>\n",
       "      <td>...</td>\n",
       "      <td>party_REF</td>\n",
       "      <td>party_REP</td>\n",
       "      <td>Race_1</td>\n",
       "      <td>Race_2</td>\n",
       "      <td>Race_3</td>\n",
       "      <td>Race_4</td>\n",
       "      <td>Race_5</td>\n",
       "      <td>Race_6</td>\n",
       "      <td>Race_7</td>\n",
       "      <td>Race_9</td>\n",
       "    </tr>\n",
       "  </tbody>\n",
       "</table>\n",
       "<p>1 rows × 89 columns</p>\n",
       "</div>"
      ],
      "text/plain": [
       "      0    1          2             3             4             5   \\\n",
       "0  GEN16  age  femaleis1  district_ALA  district_BAK  district_BAY   \n",
       "\n",
       "             6             7             8             9    ...           79  \\\n",
       "0  district_BRA  district_BRE  district_BRO  district_CAL   ...    party_REF   \n",
       "\n",
       "          80      81      82      83      84      85      86      87      88  \n",
       "0  party_REP  Race_1  Race_2  Race_3  Race_4  Race_5  Race_6  Race_7  Race_9  \n",
       "\n",
       "[1 rows x 89 columns]"
      ]
     },
     "execution_count": 179,
     "metadata": {},
     "output_type": "execute_result"
    }
   ],
   "source": [
    "pd.DataFrame([train.columns, ])"
   ]
  },
  {
   "cell_type": "code",
   "execution_count": 86,
   "metadata": {},
   "outputs": [
    {
     "data": {
      "image/png": "[encoded data removed]",
      "text/plain": [
       "<matplotlib.figure.Figure at 0x1220d9908>"
      ]
     },
     "metadata": {},
     "output_type": "display_data"
    },
    {
     "name": "stdout",
     "output_type": "stream",
     "text": [
      "The Area under the curve is:  0.657181933153\n"
     ]
    }
   ],
   "source": [
    "\n",
    "preds = logit.predict_proba(X_test)[:,1]\n",
    "fpr, tpr, thresholds = metrics.roc_curve(y_test, preds)\n",
    "fpr_2, tpr_2, thresholds_2 = metrics.roc_curve(y_test, [0 for y in y_test])\n",
    "roc_auc_2 = metrics.auc(fpr_2, tpr_2)\n",
    "plt.figure(figsize=(20,10))\n",
    "lw = 2\n",
    "roc_auc = metrics.auc(fpr, tpr)\n",
    "plt.plot(fpr, tpr, color='darkorange',\n",
    "         lw=lw, label='ROC curve (area = %0.2f) LogReg' % roc_auc)\n",
    "plt.plot([0], [0], marker='o', markersize=10, lw = 0, color=\"red\", label ='ROC curve (area = 0) Naive Classifier')\n",
    "plt.plot([0, 1], [0, 1], color='navy', lw=lw, linestyle='--')\n",
    "plt.xlim([-0.02, 1.0])\n",
    "plt.ylim([-0.02, 1.05])\n",
    "plt.xlabel('False Positive Rate')\n",
    "plt.ylabel('True Positive Rate')\n",
    "plt.title('Receiver operating characteristic')\n",
    "plt.legend(loc=\"lower right\", prop={'size':20})\n",
    "plt.show() \n",
    "print(\"The Area under the curve is: \" , roc_auc)"
   ]
  },
  {
   "cell_type": "markdown",
   "metadata": {},
   "source": [
    "### Assumptions of Logistic Regression\n",
    "Logistic Regression Assumptions\n",
    "\n",
    "Binary logistic regression requires the dependent variable to be binary.\n",
    "For a binary regression, the factor level 1 of the dependent variable should represent the desired outcome.\n",
    "Only the meaningful variables should be included.\n",
    "The independent variables should be independent of each other. That is, the model should have little or no multicollinearity.\n",
    "The independent variables are linearly related to the log odds.\n",
    "Logistic regression requires quite large sample sizes.\n",
    "\n",
    "\n",
    "Because logistic regression uses MLE rather than OLS, it avoids many\n",
    "of the typical assumptions tested in statistical analysis.\n",
    "Does not assume normality of variables (both DV and IVs).\n",
    "Does not assume linearity between DV and IVs.\n",
    "Does not assume homoscedasticity.\n",
    "Does not assume normal errors.\n",
    "MLE allows more flexibility in the data and analysis because it has\n",
    "fewer restrictions."
   ]
  },
  {
   "cell_type": "markdown",
   "metadata": {},
   "source": [
    "# Now try it with our ethnicity classifier "
   ]
  },
  {
   "cell_type": "code",
   "execution_count": 181,
   "metadata": {},
   "outputs": [
    {
     "data": {
      "text/html": [
       "<div>\n",
       "<style scoped>\n",
       "    .dataframe tbody tr th:only-of-type {\n",
       "        vertical-align: middle;\n",
       "    }\n",
       "\n",
       "    .dataframe tbody tr th {\n",
       "        vertical-align: top;\n",
       "    }\n",
       "\n",
       "    .dataframe thead th {\n",
       "        text-align: right;\n",
       "    }\n",
       "</style>\n",
       "<table border=\"1\" class=\"dataframe\">\n",
       "  <thead>\n",
       "    <tr style=\"text-align: right;\">\n",
       "      <th></th>\n",
       "      <th>GEN16</th>\n",
       "      <th>district</th>\n",
       "      <th>party</th>\n",
       "      <th>Prediction</th>\n",
       "      <th>Race</th>\n",
       "      <th>age</th>\n",
       "      <th>femaleis1</th>\n",
       "    </tr>\n",
       "  </thead>\n",
       "  <tbody>\n",
       "    <tr>\n",
       "      <th>0</th>\n",
       "      <td>1.0</td>\n",
       "      <td>MRT</td>\n",
       "      <td>REP</td>\n",
       "      <td>Jewish</td>\n",
       "      <td>5</td>\n",
       "      <td>67.0</td>\n",
       "      <td>0</td>\n",
       "    </tr>\n",
       "    <tr>\n",
       "      <th>1</th>\n",
       "      <td>1.0</td>\n",
       "      <td>CLA</td>\n",
       "      <td>REP</td>\n",
       "      <td>Western European</td>\n",
       "      <td>5</td>\n",
       "      <td>35.0</td>\n",
       "      <td>1</td>\n",
       "    </tr>\n",
       "    <tr>\n",
       "      <th>2</th>\n",
       "      <td>0.0</td>\n",
       "      <td>HIL</td>\n",
       "      <td>DEM</td>\n",
       "      <td>Western European</td>\n",
       "      <td>3</td>\n",
       "      <td>20.0</td>\n",
       "      <td>0</td>\n",
       "    </tr>\n",
       "    <tr>\n",
       "      <th>3</th>\n",
       "      <td>1.0</td>\n",
       "      <td>MON</td>\n",
       "      <td>NPA</td>\n",
       "      <td>Western European</td>\n",
       "      <td>5</td>\n",
       "      <td>43.0</td>\n",
       "      <td>0</td>\n",
       "    </tr>\n",
       "    <tr>\n",
       "      <th>4</th>\n",
       "      <td>1.0</td>\n",
       "      <td>BAK</td>\n",
       "      <td>REP</td>\n",
       "      <td>Western European</td>\n",
       "      <td>5</td>\n",
       "      <td>52.0</td>\n",
       "      <td>0</td>\n",
       "    </tr>\n",
       "  </tbody>\n",
       "</table>\n",
       "</div>"
      ],
      "text/plain": [
       "   GEN16 district party        Prediction  Race   age femaleis1\n",
       "0    1.0      MRT   REP            Jewish     5  67.0         0\n",
       "1    1.0      CLA   REP  Western European     5  35.0         1\n",
       "2    0.0      HIL   DEM  Western European     3  20.0         0\n",
       "3    1.0      MON   NPA  Western European     5  43.0         0\n",
       "4    1.0      BAK   REP  Western European     5  52.0         0"
      ]
     },
     "execution_count": 181,
     "metadata": {},
     "output_type": "execute_result"
    }
   ],
   "source": [
    "reg1.head()"
   ]
  },
  {
   "cell_type": "code",
   "execution_count": 182,
   "metadata": {
    "collapsed": true
   },
   "outputs": [],
   "source": [
    "del reg1[\"Race\"]"
   ]
  },
  {
   "cell_type": "code",
   "execution_count": 183,
   "metadata": {
    "collapsed": true
   },
   "outputs": [],
   "source": [
    "datamodel1 = pd.get_dummies(reg1, columns=['district','party', \"Prediction\"])"
   ]
  },
  {
   "cell_type": "code",
   "execution_count": 184,
   "metadata": {},
   "outputs": [
    {
     "name": "stderr",
     "output_type": "stream",
     "text": [
      "/anaconda/lib/python3.6/site-packages/ipykernel_launcher.py:7: SettingWithCopyWarning: \n",
      "A value is trying to be set on a copy of a slice from a DataFrame.\n",
      "Try using .loc[row_indexer,col_indexer] = value instead\n",
      "\n",
      "See the caveats in the documentation: http://pandas.pydata.org/pandas-docs/stable/indexing.html#indexing-view-versus-copy\n",
      "  import sys\n",
      "/anaconda/lib/python3.6/site-packages/ipykernel_launcher.py:8: SettingWithCopyWarning: \n",
      "A value is trying to be set on a copy of a slice from a DataFrame.\n",
      "Try using .loc[row_indexer,col_indexer] = value instead\n",
      "\n",
      "See the caveats in the documentation: http://pandas.pydata.org/pandas-docs/stable/indexing.html#indexing-view-versus-copy\n",
      "  \n"
     ]
    }
   ],
   "source": [
    "## Not an even sample!!! Make train even...\n",
    "\n",
    "msk = np.random.rand(len(datamodel1)) < 0.5\n",
    "train = datamodel1[msk]\n",
    "test = datamodel1[~msk]\n",
    "\n",
    "train['age']=(train['age']-train['age'].mean())/train['age'].std()\n",
    "test['age']=(test['age']-train['age'].mean())/train['age'].std()\n",
    "\n",
    "didntshow = train[train['GEN16']==0]\n",
    "showed = train[train['GEN16']==1]\n",
    "didntshow = didntshow.sample(len(didntshow))\n",
    "showed = showed.sample(len(didntshow))\n",
    "frames = [didntshow, showed]\n",
    "train_even = pd.concat(frames)\n",
    "y_train = train_even['GEN16']\n",
    "y_test = test['GEN16']\n",
    "X_train = train_even.drop(['GEN16'], axis = 1)\n",
    "X_test = test.drop(['GEN16'], axis = 1)"
   ]
  },
  {
   "cell_type": "code",
   "execution_count": 185,
   "metadata": {},
   "outputs": [
    {
     "data": {
      "image/png": "[encoded data removed]",
      "text/plain": [
       "<matplotlib.figure.Figure at 0x11cc007f0>"
      ]
     },
     "metadata": {},
     "output_type": "display_data"
    },
    {
     "name": "stdout",
     "output_type": "stream",
     "text": [
      "The Area under the curve is:  0.717209746147\n"
     ]
    }
   ],
   "source": [
    "#Log Regression using LRCV\n",
    "#cross validation values\n",
    "cvals = [1, 10, 100, 10000, 100000]\n",
    "logit = LogisticRegressionCV(Cs=cvals, penalty='l2', cv=5, scoring = \"roc_auc\")\n",
    "logit.fit(X_train, y_train)\n",
    "y_hat_train = logit.predict(X_train)\n",
    "\n",
    "y_hat_test = logit.predict(X_test)\n",
    "\n",
    "#####\n",
    "preds = logit.predict_proba(X_test)[:,1]\n",
    "fpr, tpr, thresholds = metrics.roc_curve(y_test, preds)\n",
    "fpr_2, tpr_2, thresholds_2 = metrics.roc_curve(y_test, [0 for y in y_test])\n",
    "roc_auc_2 = metrics.auc(fpr_2, tpr_2)\n",
    "plt.figure(figsize=(20,10))\n",
    "lw = 2\n",
    "roc_auc = metrics.auc(fpr, tpr)\n",
    "plt.plot(fpr, tpr, color='darkorange',\n",
    "         lw=lw, label='ROC curve (area = %0.2f) LogReg' % roc_auc)\n",
    "plt.plot([0], [0], marker='o', markersize=10, lw = 0, color=\"red\", label ='ROC curve (area = 0) Naive Classifier')\n",
    "plt.plot([0, 1], [0, 1], color='navy', lw=lw, linestyle='--')\n",
    "plt.xlim([-0.02, 1.0])\n",
    "plt.ylim([-0.02, 1.05])\n",
    "plt.xlabel('False Positive Rate')\n",
    "plt.ylabel('True Positive Rate')\n",
    "plt.title('Receiver operating characteristic')\n",
    "plt.legend(loc=\"lower right\", prop={'size':20})\n",
    "plt.show() \n",
    "print(\"The Area under the curve is: \" , roc_auc)"
   ]
  },
  {
   "cell_type": "code",
   "execution_count": 186,
   "metadata": {},
   "outputs": [
    {
     "name": "stdout",
     "output_type": "stream",
     "text": [
      "logit all predictors accuracy in train = 0.708\n",
      "logit all predictors accuracy in test = 0.838\n"
     ]
    }
   ],
   "source": [
    "y_hat_logregmul_train = logit.predict_proba(X_train)[:,1]\n",
    "y_hat_logregmul_test = logit.predict_proba(X_test)[:,1]\n",
    "\n",
    "# accuracy\n",
    "print(\"logit all predictors accuracy in train = %0.3f\" % accuracy_score(y_train, y_hat_logregmul_train>0.5))\n",
    "print(\"logit all predictors accuracy in test = %0.3f\" % accuracy_score(y_test, y_hat_logregmul_test>0.5))\n"
   ]
  },
  {
   "cell_type": "markdown",
   "metadata": {},
   "source": [
    "## Analyzing Significance of Coefficients (on Eth only)\n",
    "\n",
    "How many of the coefficients estimated by the multiple logistic regression in the previous problem are significantly different from zero at a *significance level of 95%*? \n",
    "\n",
    "To answer this question, use *bootstrapping* with 100 boostrap samples/iterations.  \n",
    "\n"
   ]
  },
  {
   "cell_type": "code",
   "execution_count": 187,
   "metadata": {},
   "outputs": [
    {
     "name": "stdout",
     "output_type": "stream",
     "text": [
      "Significant coefficents at 5pct level = 22 / 88\n"
     ]
    }
   ],
   "source": [
    "b_genes = logit.coef_[0]\n",
    "iterations = 100\n",
    "\n",
    "b_genes_boot = np.zeros((X_train.shape[1],100))\n",
    "\n",
    "for i in range(iterations):\n",
    "    # sample with replacement from X_train\n",
    "    boot_rows = np.random.choice(range(X_train.shape[0]), size=X_train.shape[0], replace=True)\n",
    "    X_train_boot = X_train.values[boot_rows]\n",
    "    y_train_boot = y_train.values[boot_rows]\n",
    "\n",
    "    # fit\n",
    "    cvals = [1, 10, 100, 10000, 100000]\n",
    "    ### NOTICE THAT I CHANGED THE SCORING METRIC??\n",
    "    logregmul_boot = logit = LogisticRegressionCV(Cs=cvals, penalty='l2', cv=5)\n",
    "    logregmul_boot.fit(X_train_boot, y_train_boot)\n",
    "    b_genes_boot[:,i] = logregmul_boot.coef_\n",
    "\n",
    "    \n",
    "# construct confidence intervals\n",
    "b_genes_ci_upper = np.percentile(b_genes_boot, 97.5, axis=1)\n",
    "b_genes_ci_lower = np.percentile(b_genes_boot, 2.5, axis=1)\n",
    "# ct significant predictors\n",
    "sig_b_ct = 0\n",
    "\n",
    "# if ci contains 0, then insignificant\n",
    "for i in range(X_train.shape[1]):\n",
    "    if b_genes_ci_upper[i]<0 or b_genes_ci_lower[i]>0:\n",
    "        sig_b_ct += 1\n",
    "\n",
    "print(\"Significant coefficents at 5pct level = %i / %i\" % (sig_b_ct, X_train.shape[1]))"
   ]
  },
  {
   "cell_type": "code",
   "execution_count": 188,
   "metadata": {},
   "outputs": [
    {
     "data": {
      "text/plain": [
       "<matplotlib.legend.Legend at 0x11eaaff28>"
      ]
     },
     "execution_count": 188,
     "metadata": {},
     "output_type": "execute_result"
    },
    {
     "data": {
      "image/png": "[encoded data removed]",
      "text/plain": [
       "<matplotlib.figure.Figure at 0x11eaa5630>"
      ]
     },
     "metadata": {},
     "output_type": "display_data"
    }
   ],
   "source": [
    "# this plot is not asked for; just for illustration\n",
    "# to generate a dataframe of the significant predictors only\n",
    "sig_b = []\n",
    "\n",
    "# if ci contains 0, then insignificant\n",
    "for i in range(X_train.shape[1]):\n",
    "    if b_genes_ci_upper[i]<0 or b_genes_ci_lower[i]>0:\n",
    "        row={}\n",
    "        row[\"predictor\"] = X_train.columns[i]\n",
    "        row[\"coef\"] = b_genes[i]\n",
    "        row[\"CI 2.5\"] = b_genes_ci_lower[i]\n",
    "        row[\"CI 97.5\"] = b_genes_ci_upper[i]\n",
    "        sig_b.append(row)\n",
    "    \n",
    "sig_b_df = pd.DataFrame(sig_b)\n",
    "sig_b_df = sig_b_df.sort_values(\"coef\", ascending=False)\n",
    "sig_b_df[[\"predictor\",\"coef\",\"CI 2.5\",\"CI 97.5\"]].head()\n",
    "\n",
    "# plot\n",
    "plt.figure(figsize=(14,5))\n",
    "plt.errorbar(range(sig_b_df.shape[0]), \n",
    "             0.5*sig_b_df[\"CI 97.5\"]+0.5*sig_b_df[\"CI 2.5\"], \n",
    "             yerr=0.5*(sig_b_df[\"CI 97.5\"]-sig_b_df[\"coef\"])+0.5*(sig_b_df[\"coef\"]-sig_b_df[\"CI 2.5\"]),\n",
    "             fmt='.',\n",
    "             marker=None,\n",
    "             elinewidth=0.05,\n",
    "             label=\"95% CI\"\n",
    "         )\n",
    "plt.scatter(range(sig_b_df.shape[0]), sig_b_df[\"coef\"], color='red', label=\"coef_est\", marker='.')\n",
    "plt.xlim((0,sig_b_df.shape[0]))\n",
    "plt.xlabel(\"predictor\")\n",
    "plt.ylabel(\"Coef value\")\n",
    "plt.legend()"
   ]
  },
  {
   "cell_type": "code",
   "execution_count": 189,
   "metadata": {},
   "outputs": [
    {
     "data": {
      "text/html": [
       "<div>\n",
       "<style scoped>\n",
       "    .dataframe tbody tr th:only-of-type {\n",
       "        vertical-align: middle;\n",
       "    }\n",
       "\n",
       "    .dataframe tbody tr th {\n",
       "        vertical-align: top;\n",
       "    }\n",
       "\n",
       "    .dataframe thead th {\n",
       "        text-align: right;\n",
       "    }\n",
       "</style>\n",
       "<table border=\"1\" class=\"dataframe\">\n",
       "  <thead>\n",
       "    <tr style=\"text-align: right;\">\n",
       "      <th></th>\n",
       "      <th>CI 2.5</th>\n",
       "      <th>CI 97.5</th>\n",
       "      <th>coef</th>\n",
       "      <th>predictor</th>\n",
       "    </tr>\n",
       "  </thead>\n",
       "  <tbody>\n",
       "    <tr>\n",
       "      <th>0</th>\n",
       "      <td>0.780720</td>\n",
       "      <td>0.864259</td>\n",
       "      <td>0.817647</td>\n",
       "      <td>age</td>\n",
       "    </tr>\n",
       "    <tr>\n",
       "      <th>21</th>\n",
       "      <td>0.467524</td>\n",
       "      <td>1.614555</td>\n",
       "      <td>0.640834</td>\n",
       "      <td>party_REP</td>\n",
       "    </tr>\n",
       "    <tr>\n",
       "      <th>17</th>\n",
       "      <td>0.267470</td>\n",
       "      <td>0.837844</td>\n",
       "      <td>0.558836</td>\n",
       "      <td>district_SEM</td>\n",
       "    </tr>\n",
       "    <tr>\n",
       "      <th>20</th>\n",
       "      <td>0.141848</td>\n",
       "      <td>1.633894</td>\n",
       "      <td>0.499258</td>\n",
       "      <td>party_LPF</td>\n",
       "    </tr>\n",
       "    <tr>\n",
       "      <th>10</th>\n",
       "      <td>0.129200</td>\n",
       "      <td>0.688559</td>\n",
       "      <td>0.458487</td>\n",
       "      <td>district_LEO</td>\n",
       "    </tr>\n",
       "    <tr>\n",
       "      <th>3</th>\n",
       "      <td>0.019304</td>\n",
       "      <td>0.650841</td>\n",
       "      <td>0.316752</td>\n",
       "      <td>district_CLA</td>\n",
       "    </tr>\n",
       "    <tr>\n",
       "      <th>19</th>\n",
       "      <td>0.101940</td>\n",
       "      <td>1.292974</td>\n",
       "      <td>0.286544</td>\n",
       "      <td>party_DEM</td>\n",
       "    </tr>\n",
       "    <tr>\n",
       "      <th>1</th>\n",
       "      <td>0.221151</td>\n",
       "      <td>0.363517</td>\n",
       "      <td>0.286309</td>\n",
       "      <td>femaleis1</td>\n",
       "    </tr>\n",
       "    <tr>\n",
       "      <th>2</th>\n",
       "      <td>0.021452</td>\n",
       "      <td>0.331647</td>\n",
       "      <td>0.215070</td>\n",
       "      <td>district_BRO</td>\n",
       "    </tr>\n",
       "    <tr>\n",
       "      <th>12</th>\n",
       "      <td>-0.406086</td>\n",
       "      <td>-0.052430</td>\n",
       "      <td>-0.182619</td>\n",
       "      <td>district_ORA</td>\n",
       "    </tr>\n",
       "    <tr>\n",
       "      <th>16</th>\n",
       "      <td>-0.560812</td>\n",
       "      <td>-0.080900</td>\n",
       "      <td>-0.297862</td>\n",
       "      <td>district_SAR</td>\n",
       "    </tr>\n",
       "    <tr>\n",
       "      <th>8</th>\n",
       "      <td>-0.507414</td>\n",
       "      <td>-0.191562</td>\n",
       "      <td>-0.313892</td>\n",
       "      <td>district_HIL</td>\n",
       "    </tr>\n",
       "    <tr>\n",
       "      <th>7</th>\n",
       "      <td>-0.656165</td>\n",
       "      <td>-0.010442</td>\n",
       "      <td>-0.318041</td>\n",
       "      <td>district_HER</td>\n",
       "    </tr>\n",
       "    <tr>\n",
       "      <th>14</th>\n",
       "      <td>-0.542046</td>\n",
       "      <td>-0.133465</td>\n",
       "      <td>-0.332955</td>\n",
       "      <td>district_PAS</td>\n",
       "    </tr>\n",
       "    <tr>\n",
       "      <th>11</th>\n",
       "      <td>-0.669073</td>\n",
       "      <td>-0.141766</td>\n",
       "      <td>-0.355269</td>\n",
       "      <td>district_MRN</td>\n",
       "    </tr>\n",
       "    <tr>\n",
       "      <th>18</th>\n",
       "      <td>-0.685377</td>\n",
       "      <td>-0.107072</td>\n",
       "      <td>-0.365761</td>\n",
       "      <td>district_STL</td>\n",
       "    </tr>\n",
       "    <tr>\n",
       "      <th>4</th>\n",
       "      <td>-0.684412</td>\n",
       "      <td>-0.318247</td>\n",
       "      <td>-0.446838</td>\n",
       "      <td>district_DAD</td>\n",
       "    </tr>\n",
       "    <tr>\n",
       "      <th>9</th>\n",
       "      <td>-0.732167</td>\n",
       "      <td>-0.337184</td>\n",
       "      <td>-0.495710</td>\n",
       "      <td>district_LEE</td>\n",
       "    </tr>\n",
       "    <tr>\n",
       "      <th>6</th>\n",
       "      <td>-1.358478</td>\n",
       "      <td>-0.011141</td>\n",
       "      <td>-0.547937</td>\n",
       "      <td>district_HEN</td>\n",
       "    </tr>\n",
       "    <tr>\n",
       "      <th>13</th>\n",
       "      <td>-0.842755</td>\n",
       "      <td>-0.476233</td>\n",
       "      <td>-0.635878</td>\n",
       "      <td>district_PAL</td>\n",
       "    </tr>\n",
       "    <tr>\n",
       "      <th>15</th>\n",
       "      <td>-0.915723</td>\n",
       "      <td>-0.519393</td>\n",
       "      <td>-0.703355</td>\n",
       "      <td>district_POL</td>\n",
       "    </tr>\n",
       "    <tr>\n",
       "      <th>5</th>\n",
       "      <td>-3.288812</td>\n",
       "      <td>-0.254586</td>\n",
       "      <td>-1.070205</td>\n",
       "      <td>district_GLA</td>\n",
       "    </tr>\n",
       "  </tbody>\n",
       "</table>\n",
       "</div>"
      ],
      "text/plain": [
       "      CI 2.5   CI 97.5      coef     predictor\n",
       "0   0.780720  0.864259  0.817647           age\n",
       "21  0.467524  1.614555  0.640834     party_REP\n",
       "17  0.267470  0.837844  0.558836  district_SEM\n",
       "20  0.141848  1.633894  0.499258     party_LPF\n",
       "10  0.129200  0.688559  0.458487  district_LEO\n",
       "3   0.019304  0.650841  0.316752  district_CLA\n",
       "19  0.101940  1.292974  0.286544     party_DEM\n",
       "1   0.221151  0.363517  0.286309     femaleis1\n",
       "2   0.021452  0.331647  0.215070  district_BRO\n",
       "12 -0.406086 -0.052430 -0.182619  district_ORA\n",
       "16 -0.560812 -0.080900 -0.297862  district_SAR\n",
       "8  -0.507414 -0.191562 -0.313892  district_HIL\n",
       "7  -0.656165 -0.010442 -0.318041  district_HER\n",
       "14 -0.542046 -0.133465 -0.332955  district_PAS\n",
       "11 -0.669073 -0.141766 -0.355269  district_MRN\n",
       "18 -0.685377 -0.107072 -0.365761  district_STL\n",
       "4  -0.684412 -0.318247 -0.446838  district_DAD\n",
       "9  -0.732167 -0.337184 -0.495710  district_LEE\n",
       "6  -1.358478 -0.011141 -0.547937  district_HEN\n",
       "13 -0.842755 -0.476233 -0.635878  district_PAL\n",
       "15 -0.915723 -0.519393 -0.703355  district_POL\n",
       "5  -3.288812 -0.254586 -1.070205  district_GLA"
      ]
     },
     "execution_count": 189,
     "metadata": {},
     "output_type": "execute_result"
    }
   ],
   "source": [
    "sig_b_df"
   ]
  },
  {
   "cell_type": "code",
   "execution_count": null,
   "metadata": {
    "collapsed": true
   },
   "outputs": [],
   "source": []
  },
  {
   "cell_type": "markdown",
   "metadata": {},
   "source": [
    "# Now try it with our ethnicity classifier AND race"
   ]
  },
  {
   "cell_type": "code",
   "execution_count": 191,
   "metadata": {},
   "outputs": [
    {
     "data": {
      "text/html": [
       "<div>\n",
       "<style scoped>\n",
       "    .dataframe tbody tr th:only-of-type {\n",
       "        vertical-align: middle;\n",
       "    }\n",
       "\n",
       "    .dataframe tbody tr th {\n",
       "        vertical-align: top;\n",
       "    }\n",
       "\n",
       "    .dataframe thead th {\n",
       "        text-align: right;\n",
       "    }\n",
       "</style>\n",
       "<table border=\"1\" class=\"dataframe\">\n",
       "  <thead>\n",
       "    <tr style=\"text-align: right;\">\n",
       "      <th></th>\n",
       "      <th>GEN16</th>\n",
       "      <th>district</th>\n",
       "      <th>party</th>\n",
       "      <th>Prediction</th>\n",
       "      <th>Race</th>\n",
       "      <th>age</th>\n",
       "      <th>femaleis1</th>\n",
       "    </tr>\n",
       "  </thead>\n",
       "  <tbody>\n",
       "    <tr>\n",
       "      <th>0</th>\n",
       "      <td>1.0</td>\n",
       "      <td>MRT</td>\n",
       "      <td>REP</td>\n",
       "      <td>Jewish</td>\n",
       "      <td>5</td>\n",
       "      <td>67.0</td>\n",
       "      <td>0</td>\n",
       "    </tr>\n",
       "    <tr>\n",
       "      <th>1</th>\n",
       "      <td>1.0</td>\n",
       "      <td>CLA</td>\n",
       "      <td>REP</td>\n",
       "      <td>Western European</td>\n",
       "      <td>5</td>\n",
       "      <td>35.0</td>\n",
       "      <td>1</td>\n",
       "    </tr>\n",
       "    <tr>\n",
       "      <th>2</th>\n",
       "      <td>0.0</td>\n",
       "      <td>HIL</td>\n",
       "      <td>DEM</td>\n",
       "      <td>Western European</td>\n",
       "      <td>3</td>\n",
       "      <td>20.0</td>\n",
       "      <td>0</td>\n",
       "    </tr>\n",
       "    <tr>\n",
       "      <th>3</th>\n",
       "      <td>1.0</td>\n",
       "      <td>MON</td>\n",
       "      <td>NPA</td>\n",
       "      <td>Western European</td>\n",
       "      <td>5</td>\n",
       "      <td>43.0</td>\n",
       "      <td>0</td>\n",
       "    </tr>\n",
       "    <tr>\n",
       "      <th>4</th>\n",
       "      <td>1.0</td>\n",
       "      <td>BAK</td>\n",
       "      <td>REP</td>\n",
       "      <td>Western European</td>\n",
       "      <td>5</td>\n",
       "      <td>52.0</td>\n",
       "      <td>0</td>\n",
       "    </tr>\n",
       "  </tbody>\n",
       "</table>\n",
       "</div>"
      ],
      "text/plain": [
       "   GEN16 district party        Prediction  Race   age femaleis1\n",
       "0    1.0      MRT   REP            Jewish     5  67.0         0\n",
       "1    1.0      CLA   REP  Western European     5  35.0         1\n",
       "2    0.0      HIL   DEM  Western European     3  20.0         0\n",
       "3    1.0      MON   NPA  Western European     5  43.0         0\n",
       "4    1.0      BAK   REP  Western European     5  52.0         0"
      ]
     },
     "execution_count": 191,
     "metadata": {},
     "output_type": "execute_result"
    }
   ],
   "source": [
    "reg.head()"
   ]
  },
  {
   "cell_type": "code",
   "execution_count": null,
   "metadata": {
    "collapsed": true
   },
   "outputs": [],
   "source": []
  },
  {
   "cell_type": "code",
   "execution_count": 192,
   "metadata": {
    "collapsed": true
   },
   "outputs": [],
   "source": [
    "reg1 = reg.dropna(axis=0)\n",
    "datamodel1 = pd.get_dummies(reg1, columns=['district','party', \"Prediction\", \"Race\"])\n"
   ]
  },
  {
   "cell_type": "code",
   "execution_count": 203,
   "metadata": {},
   "outputs": [
    {
     "data": {
      "text/plain": [
       "(16260, 96)"
      ]
     },
     "execution_count": 203,
     "metadata": {},
     "output_type": "execute_result"
    }
   ],
   "source": [
    "X_train.shape"
   ]
  },
  {
   "cell_type": "code",
   "execution_count": 193,
   "metadata": {},
   "outputs": [
    {
     "name": "stderr",
     "output_type": "stream",
     "text": [
      "/anaconda/lib/python3.6/site-packages/ipykernel_launcher.py:7: SettingWithCopyWarning: \n",
      "A value is trying to be set on a copy of a slice from a DataFrame.\n",
      "Try using .loc[row_indexer,col_indexer] = value instead\n",
      "\n",
      "See the caveats in the documentation: http://pandas.pydata.org/pandas-docs/stable/indexing.html#indexing-view-versus-copy\n",
      "  import sys\n",
      "/anaconda/lib/python3.6/site-packages/ipykernel_launcher.py:8: SettingWithCopyWarning: \n",
      "A value is trying to be set on a copy of a slice from a DataFrame.\n",
      "Try using .loc[row_indexer,col_indexer] = value instead\n",
      "\n",
      "See the caveats in the documentation: http://pandas.pydata.org/pandas-docs/stable/indexing.html#indexing-view-versus-copy\n",
      "  \n"
     ]
    }
   ],
   "source": [
    "## Not an even sample!!! Make train even...\n",
    "\n",
    "msk = np.random.rand(len(datamodel1)) < 0.5\n",
    "train = datamodel1[msk]\n",
    "test = datamodel1[~msk]\n",
    "\n",
    "train['age']=(train['age']-train['age'].mean())/train['age'].std()\n",
    "test['age']=(test['age']-train['age'].mean())/train['age'].std()\n",
    "\n",
    "didntshow = train[train['GEN16']==0]\n",
    "showed = train[train['GEN16']==1]\n",
    "didntshow = didntshow.sample(len(didntshow))\n",
    "showed = showed.sample(len(didntshow))\n",
    "frames = [didntshow, showed]\n",
    "train_even = pd.concat(frames)\n",
    "y_train = train_even['GEN16']\n",
    "y_test = test['GEN16']\n",
    "X_train = train_even.drop(['GEN16'], axis = 1)\n",
    "X_test = test.drop(['GEN16'], axis = 1)"
   ]
  },
  {
   "cell_type": "code",
   "execution_count": 194,
   "metadata": {},
   "outputs": [
    {
     "data": {
      "image/png": "[encoded data removed]",
      "text/plain": [
       "<matplotlib.figure.Figure at 0x1222283c8>"
      ]
     },
     "metadata": {},
     "output_type": "display_data"
    },
    {
     "name": "stdout",
     "output_type": "stream",
     "text": [
      "The Area under the curve is:  0.725041300215\n"
     ]
    }
   ],
   "source": [
    "#Log Regression using LRCV\n",
    "#cross validation values\n",
    "cvals = [1, 10, 100, 10000, 100000]\n",
    "logit = LogisticRegressionCV(Cs=cvals, penalty='l2', cv=5, scoring = \"roc_auc\")\n",
    "logit.fit(X_train, y_train)\n",
    "y_hat_train = logit.predict(X_train)\n",
    "y_hat_test = logit.predict(X_test)\n",
    "#####\n",
    "preds = logit.predict_proba(X_test)[:,1]\n",
    "fpr, tpr, thresholds = metrics.roc_curve(y_test, preds)\n",
    "fpr_2, tpr_2, thresholds_2 = metrics.roc_curve(y_test, [0 for y in y_test])\n",
    "roc_auc_2 = metrics.auc(fpr_2, tpr_2)\n",
    "plt.figure(figsize=(20,10))\n",
    "lw = 2\n",
    "roc_auc = metrics.auc(fpr, tpr)\n",
    "plt.plot(fpr, tpr, color='darkorange',\n",
    "         lw=lw, label='ROC curve (area = %0.2f) LogReg' % roc_auc)\n",
    "plt.plot([0], [0], marker='o', markersize=10, lw = 0, color=\"red\", label ='ROC curve (area = 0) Naive Classifier')\n",
    "plt.plot([0, 1], [0, 1], color='navy', lw=lw, linestyle='--')\n",
    "plt.xlim([-0.02, 1.0])\n",
    "plt.ylim([-0.02, 1.05])\n",
    "plt.xlabel('False Positive Rate')\n",
    "plt.ylabel('True Positive Rate')\n",
    "plt.title('Receiver operating characteristic')\n",
    "plt.legend(loc=\"lower right\", prop={'size':20})\n",
    "plt.show() \n",
    "print(\"The Area under the curve is: \" , roc_auc)"
   ]
  },
  {
   "cell_type": "code",
   "execution_count": 195,
   "metadata": {},
   "outputs": [
    {
     "name": "stdout",
     "output_type": "stream",
     "text": [
      "logit all predictors accuracy in train = 0.709\n",
      "logit all predictors accuracy in test = 0.838\n"
     ]
    }
   ],
   "source": [
    "y_hat_logregmul_train = logit.predict_proba(X_train)[:,1]\n",
    "y_hat_logregmul_test = logit.predict_proba(X_test)[:,1]\n",
    "\n",
    "# accuracy\n",
    "print(\"logit all predictors accuracy in train = %0.3f\" % accuracy_score(y_train, y_hat_logregmul_train>0.5))\n",
    "print(\"logit all predictors accuracy in test = %0.3f\" % accuracy_score(y_test, y_hat_logregmul_test>0.5))\n"
   ]
  },
  {
   "cell_type": "markdown",
   "metadata": {},
   "source": [
    "import numpy as np\n",
    "from sklearn import linear_model\n",
    "\n",
    "# Initiate logistic regression object\n",
    "logit #from above\n",
    "\n",
    "# Fit model. Let X_train = matrix of predictors, y_train = matrix of variable.\n",
    "# NOTE: Do not include a column for the intercept when fitting the model.\n",
    "resLogit = logit.fit(X_train, y_train)\n",
    "\n",
    "# Calculate matrix of predicted class probabilities. \n",
    "# Check resLogit.classes_ to make sure that sklearn ordered your classes as expected\n",
    "predProbs = np.matrix(resLogit.predict_proba(X_train))\n",
    "\n",
    "# Design matrix -- add column of 1's at the beginning of your X_train matrix\n",
    "X_design = np.hstack((np.ones(shape = (len(X_train)))), X_train)\n",
    "\n",
    "# Initiate matrix of 0's, fill diagonal with each predicted observation's variance\n",
    "V = np.matrix(np.zeros(shape = (X_design.shape[0], X_design.shape[0])))\n",
    "np.fill_diagonal(V, np.multiply(predProbs[:,0], predProbs[:,1]).A1)\n",
    "\n",
    "# Covariance matrix\n",
    "covLogit = np.linalg.inv(X_design.T * V * X_design)\n",
    "print(\"Covariance matrix: \", covLogit)\n",
    "\n",
    "# Standard errors\n",
    "print(\"Standard errors: \", np.sqrt(np.diag(covLogit)))\n",
    "\n",
    "# Wald statistic (coefficient / s.e.) ^ 2\n",
    "logitParams = np.insert(resLogit.coef_, 0, resLogit.intercept_)\n",
    "print(\"Wald statistics: \", (logitParams / np.sqrt(np.diag(covLogit))) ** 2)"
   ]
  },
  {
   "cell_type": "code",
   "execution_count": 116,
   "metadata": {},
   "outputs": [
    {
     "data": {
      "text/plain": [
       "array([ 1.,  1.,  1., ...,  1.,  1.,  1.])"
      ]
     },
     "execution_count": 116,
     "metadata": {},
     "output_type": "execute_result"
    }
   ],
   "source": [
    "\n",
    "np.ones(shape = (len(X_train)))"
   ]
  },
  {
   "cell_type": "code",
   "execution_count": 130,
   "metadata": {
    "collapsed": true
   },
   "outputs": [],
   "source": [
    "a = logit.fit(X_train, y_train)#.predict(X_test)## wats it doing. "
   ]
  },
  {
   "cell_type": "code",
   "execution_count": 134,
   "metadata": {},
   "outputs": [
    {
     "data": {
      "text/plain": [
       "array([[ 0.83979887,  0.16020113],\n",
       "       [ 0.6534929 ,  0.3465071 ],\n",
       "       [ 0.74363398,  0.25636602],\n",
       "       ..., \n",
       "       [ 0.26912732,  0.73087268],\n",
       "       [ 0.65902472,  0.34097528],\n",
       "       [ 0.28650784,  0.71349216]])"
      ]
     },
     "execution_count": 134,
     "metadata": {},
     "output_type": "execute_result"
    }
   ],
   "source": [
    "a.predict_proba(X_train)"
   ]
  },
  {
   "cell_type": "markdown",
   "metadata": {},
   "source": [
    "## Analyzing Significance of Coefficients (on Eth AND Race)\n",
    "\n",
    "How many of the coefficients estimated by the multiple logistic regression in the previous problem are significantly different from zero at a *significance level of 95%*? \n",
    "\n",
    "To answer this question, use *bootstrapping* with 100 boostrap samples/iterations.  \n",
    "\n"
   ]
  },
  {
   "cell_type": "code",
   "execution_count": 196,
   "metadata": {
    "collapsed": true
   },
   "outputs": [],
   "source": [
    "b_genes = logit.coef_[0]"
   ]
  },
  {
   "cell_type": "code",
   "execution_count": 197,
   "metadata": {
    "collapsed": true
   },
   "outputs": [],
   "source": [
    "\n",
    "iterations = 100\n",
    "\n",
    "b_genes_boot = np.zeros((X_train.shape[1],100))\n",
    "\n",
    "for i in range(iterations):\n",
    "    # sample with replacement from X_train\n",
    "    boot_rows = np.random.choice(range(X_train.shape[0]), size=X_train.shape[0], replace=True)\n",
    "    X_train_boot = X_train.values[boot_rows]\n",
    "    y_train_boot = y_train.values[boot_rows]\n",
    "\n",
    "    # fit\n",
    "    cvals = [1, 10, 100, 10000, 100000]\n",
    "    ### NOTICE THAT I CHANGED THE SCORING METRIC??\n",
    "    logregmul_boot = logit = LogisticRegressionCV(Cs=cvals, penalty='l2', cv=5)\n",
    "    logregmul_boot.fit(X_train_boot, y_train_boot)\n",
    "    b_genes_boot[:,i] = logregmul_boot.coef_\n",
    "\n",
    "    "
   ]
  },
  {
   "cell_type": "code",
   "execution_count": 198,
   "metadata": {},
   "outputs": [
    {
     "data": {
      "text/plain": [
       "array([[ 0.78653979,  0.79285962,  0.83489288, ...,  0.73402127,\n",
       "         0.78207301,  0.79182293],\n",
       "       [ 0.29907634,  0.35511042,  0.32880217, ...,  0.27254191,\n",
       "         0.30504277,  0.35100012],\n",
       "       [ 0.58072998,  0.25028144,  0.36391114, ...,  0.34059637,\n",
       "         0.40951772,  0.5071957 ],\n",
       "       ..., \n",
       "       [ 0.30136705,  0.18132769,  0.15405453, ...,  0.21374413,\n",
       "         0.30574843,  0.14028309],\n",
       "       [-0.16135357, -0.26167901, -0.41703881, ..., -0.0254058 ,\n",
       "        -0.24778485, -0.35838088],\n",
       "       [-0.26668062, -0.22657247, -0.21395423, ..., -0.1970121 ,\n",
       "        -0.22889072, -0.16871561]])"
      ]
     },
     "execution_count": 198,
     "metadata": {},
     "output_type": "execute_result"
    }
   ],
   "source": [
    "b_genes_boot"
   ]
  },
  {
   "cell_type": "code",
   "execution_count": 199,
   "metadata": {
    "collapsed": true
   },
   "outputs": [],
   "source": [
    "\n",
    "# construct confidence intervals\n",
    "b_genes_ci_upper = np.percentile(b_genes_boot, 97.5, axis=1)\n",
    "b_genes_ci_lower = np.percentile(b_genes_boot, 2.5, axis=1)"
   ]
  },
  {
   "cell_type": "code",
   "execution_count": 69,
   "metadata": {},
   "outputs": [
    {
     "data": {
      "text/plain": [
       "31"
      ]
     },
     "execution_count": 69,
     "metadata": {},
     "output_type": "execute_result"
    }
   ],
   "source": []
  },
  {
   "cell_type": "code",
   "execution_count": 200,
   "metadata": {},
   "outputs": [
    {
     "name": "stdout",
     "output_type": "stream",
     "text": [
      "Significant coefficents at 5pct level = 20 / 96\n"
     ]
    }
   ],
   "source": [
    "\n",
    "# ct significant predictors\n",
    "sig_b_ct = 0\n",
    "\n",
    "# if ci contains 0, then insignificant\n",
    "for i in range(X_train.shape[1]):\n",
    "    if b_genes_ci_upper[i]<0 or b_genes_ci_lower[i]>0:\n",
    "        sig_b_ct += 1\n",
    "\n",
    "print(\"Significant coefficents at 5pct level = %i / %i\" % (sig_b_ct, X_train.shape[1]))"
   ]
  },
  {
   "cell_type": "code",
   "execution_count": 201,
   "metadata": {},
   "outputs": [
    {
     "data": {
      "text/plain": [
       "<matplotlib.legend.Legend at 0x12c5b8fd0>"
      ]
     },
     "execution_count": 201,
     "metadata": {},
     "output_type": "execute_result"
    },
    {
     "data": {
      "image/png": "[encoded data removed]",
      "text/plain": [
       "<matplotlib.figure.Figure at 0x11db09278>"
      ]
     },
     "metadata": {},
     "output_type": "display_data"
    }
   ],
   "source": [
    "# this plot is not asked for; just for illustration\n",
    "# to generate a dataframe of the significant predictors only\n",
    "sig_b = []\n",
    "\n",
    "# if ci contains 0, then insignificant\n",
    "for i in range(X_train.shape[1]):\n",
    "    if b_genes_ci_upper[i]<0 or b_genes_ci_lower[i]>0:\n",
    "        row={}\n",
    "        row[\"predictor\"] = X_train.columns[i]\n",
    "        row[\"coef\"] = b_genes[i]\n",
    "        row[\"CI 2.5\"] = b_genes_ci_lower[i]\n",
    "        row[\"CI 97.5\"] = b_genes_ci_upper[i]\n",
    "        sig_b.append(row)\n",
    "    \n",
    "sig_b_df = pd.DataFrame(sig_b)\n",
    "sig_b_df = sig_b_df.sort_values(\"coef\", ascending=False)\n",
    "sig_b_df[[\"predictor\",\"coef\",\"CI 2.5\",\"CI 97.5\"]].head()\n",
    "\n",
    "# plot\n",
    "plt.figure(figsize=(14,5))\n",
    "plt.errorbar(range(sig_b_df.shape[0]), \n",
    "             0.5*sig_b_df[\"CI 97.5\"]+0.5*sig_b_df[\"CI 2.5\"], \n",
    "             yerr=0.5*(sig_b_df[\"CI 97.5\"]-sig_b_df[\"coef\"])+0.5*(sig_b_df[\"coef\"]-sig_b_df[\"CI 2.5\"]),\n",
    "             fmt='.',\n",
    "             marker=None,\n",
    "             elinewidth=0.05,\n",
    "             label=\"95% CI\"\n",
    "         )\n",
    "plt.scatter(range(sig_b_df.shape[0]), sig_b_df[\"coef\"], color='red', label=\"coef_est\", marker='.')\n",
    "plt.xlim((0,sig_b_df.shape[0]))\n",
    "plt.xlabel(\"predictor\")\n",
    "plt.ylabel(\"Coef value\")\n",
    "plt.legend()"
   ]
  },
  {
   "cell_type": "code",
   "execution_count": 202,
   "metadata": {},
   "outputs": [
    {
     "data": {
      "text/html": [
       "<div>\n",
       "<style scoped>\n",
       "    .dataframe tbody tr th:only-of-type {\n",
       "        vertical-align: middle;\n",
       "    }\n",
       "\n",
       "    .dataframe tbody tr th {\n",
       "        vertical-align: top;\n",
       "    }\n",
       "\n",
       "    .dataframe thead th {\n",
       "        text-align: right;\n",
       "    }\n",
       "</style>\n",
       "<table border=\"1\" class=\"dataframe\">\n",
       "  <thead>\n",
       "    <tr style=\"text-align: right;\">\n",
       "      <th></th>\n",
       "      <th>CI 2.5</th>\n",
       "      <th>CI 97.5</th>\n",
       "      <th>coef</th>\n",
       "      <th>predictor</th>\n",
       "    </tr>\n",
       "  </thead>\n",
       "  <tbody>\n",
       "    <tr>\n",
       "      <th>15</th>\n",
       "      <td>0.522318</td>\n",
       "      <td>2.375370</td>\n",
       "      <td>1.165604</td>\n",
       "      <td>district_TAY</td>\n",
       "    </tr>\n",
       "    <tr>\n",
       "      <th>0</th>\n",
       "      <td>0.750536</td>\n",
       "      <td>0.836013</td>\n",
       "      <td>0.781765</td>\n",
       "      <td>age</td>\n",
       "    </tr>\n",
       "    <tr>\n",
       "      <th>17</th>\n",
       "      <td>0.499300</td>\n",
       "      <td>1.202351</td>\n",
       "      <td>0.693909</td>\n",
       "      <td>party_REP</td>\n",
       "    </tr>\n",
       "    <tr>\n",
       "      <th>13</th>\n",
       "      <td>0.344593</td>\n",
       "      <td>0.846895</td>\n",
       "      <td>0.570980</td>\n",
       "      <td>district_SEM</td>\n",
       "    </tr>\n",
       "    <tr>\n",
       "      <th>9</th>\n",
       "      <td>0.290602</td>\n",
       "      <td>0.805067</td>\n",
       "      <td>0.541775</td>\n",
       "      <td>district_LEO</td>\n",
       "    </tr>\n",
       "    <tr>\n",
       "      <th>16</th>\n",
       "      <td>0.241435</td>\n",
       "      <td>0.928902</td>\n",
       "      <td>0.435025</td>\n",
       "      <td>party_DEM</td>\n",
       "    </tr>\n",
       "    <tr>\n",
       "      <th>2</th>\n",
       "      <td>0.149225</td>\n",
       "      <td>0.724149</td>\n",
       "      <td>0.394722</td>\n",
       "      <td>district_ALA</td>\n",
       "    </tr>\n",
       "    <tr>\n",
       "      <th>6</th>\n",
       "      <td>0.155880</td>\n",
       "      <td>0.557347</td>\n",
       "      <td>0.378957</td>\n",
       "      <td>district_DUV</td>\n",
       "    </tr>\n",
       "    <tr>\n",
       "      <th>1</th>\n",
       "      <td>0.279152</td>\n",
       "      <td>0.407757</td>\n",
       "      <td>0.332404</td>\n",
       "      <td>femaleis1</td>\n",
       "    </tr>\n",
       "    <tr>\n",
       "      <th>18</th>\n",
       "      <td>0.165310</td>\n",
       "      <td>0.394376</td>\n",
       "      <td>0.282395</td>\n",
       "      <td>Race_5</td>\n",
       "    </tr>\n",
       "    <tr>\n",
       "      <th>4</th>\n",
       "      <td>0.079613</td>\n",
       "      <td>0.378035</td>\n",
       "      <td>0.214087</td>\n",
       "      <td>district_BRO</td>\n",
       "    </tr>\n",
       "    <tr>\n",
       "      <th>3</th>\n",
       "      <td>0.037919</td>\n",
       "      <td>0.392642</td>\n",
       "      <td>0.192325</td>\n",
       "      <td>district_BRE</td>\n",
       "    </tr>\n",
       "    <tr>\n",
       "      <th>19</th>\n",
       "      <td>-0.443085</td>\n",
       "      <td>-0.023876</td>\n",
       "      <td>-0.232089</td>\n",
       "      <td>Race_9</td>\n",
       "    </tr>\n",
       "    <tr>\n",
       "      <th>5</th>\n",
       "      <td>-0.393637</td>\n",
       "      <td>-0.085279</td>\n",
       "      <td>-0.246018</td>\n",
       "      <td>district_DAD</td>\n",
       "    </tr>\n",
       "    <tr>\n",
       "      <th>7</th>\n",
       "      <td>-0.443213</td>\n",
       "      <td>-0.073478</td>\n",
       "      <td>-0.252295</td>\n",
       "      <td>district_HIL</td>\n",
       "    </tr>\n",
       "    <tr>\n",
       "      <th>8</th>\n",
       "      <td>-0.574255</td>\n",
       "      <td>-0.244680</td>\n",
       "      <td>-0.431075</td>\n",
       "      <td>district_LEE</td>\n",
       "    </tr>\n",
       "    <tr>\n",
       "      <th>12</th>\n",
       "      <td>-0.649164</td>\n",
       "      <td>-0.308104</td>\n",
       "      <td>-0.484990</td>\n",
       "      <td>district_POL</td>\n",
       "    </tr>\n",
       "    <tr>\n",
       "      <th>11</th>\n",
       "      <td>-0.778919</td>\n",
       "      <td>-0.444921</td>\n",
       "      <td>-0.603386</td>\n",
       "      <td>district_PAL</td>\n",
       "    </tr>\n",
       "    <tr>\n",
       "      <th>14</th>\n",
       "      <td>-1.329396</td>\n",
       "      <td>-0.027298</td>\n",
       "      <td>-0.626292</td>\n",
       "      <td>district_SUW</td>\n",
       "    </tr>\n",
       "    <tr>\n",
       "      <th>10</th>\n",
       "      <td>-1.696262</td>\n",
       "      <td>-0.032107</td>\n",
       "      <td>-0.727769</td>\n",
       "      <td>district_OKE</td>\n",
       "    </tr>\n",
       "  </tbody>\n",
       "</table>\n",
       "</div>"
      ],
      "text/plain": [
       "      CI 2.5   CI 97.5      coef     predictor\n",
       "15  0.522318  2.375370  1.165604  district_TAY\n",
       "0   0.750536  0.836013  0.781765           age\n",
       "17  0.499300  1.202351  0.693909     party_REP\n",
       "13  0.344593  0.846895  0.570980  district_SEM\n",
       "9   0.290602  0.805067  0.541775  district_LEO\n",
       "16  0.241435  0.928902  0.435025     party_DEM\n",
       "2   0.149225  0.724149  0.394722  district_ALA\n",
       "6   0.155880  0.557347  0.378957  district_DUV\n",
       "1   0.279152  0.407757  0.332404     femaleis1\n",
       "18  0.165310  0.394376  0.282395        Race_5\n",
       "4   0.079613  0.378035  0.214087  district_BRO\n",
       "3   0.037919  0.392642  0.192325  district_BRE\n",
       "19 -0.443085 -0.023876 -0.232089        Race_9\n",
       "5  -0.393637 -0.085279 -0.246018  district_DAD\n",
       "7  -0.443213 -0.073478 -0.252295  district_HIL\n",
       "8  -0.574255 -0.244680 -0.431075  district_LEE\n",
       "12 -0.649164 -0.308104 -0.484990  district_POL\n",
       "11 -0.778919 -0.444921 -0.603386  district_PAL\n",
       "14 -1.329396 -0.027298 -0.626292  district_SUW\n",
       "10 -1.696262 -0.032107 -0.727769  district_OKE"
      ]
     },
     "execution_count": 202,
     "metadata": {},
     "output_type": "execute_result"
    }
   ],
   "source": [
    "sig_b_df"
   ]
  },
  {
   "cell_type": "code",
   "execution_count": null,
   "metadata": {
    "collapsed": true
   },
   "outputs": [],
   "source": []
  },
  {
   "cell_type": "code",
   "execution_count": null,
   "metadata": {
    "collapsed": true
   },
   "outputs": [],
   "source": []
  },
  {
   "cell_type": "code",
   "execution_count": null,
   "metadata": {
    "collapsed": true
   },
   "outputs": [],
   "source": []
  },
  {
   "cell_type": "code",
   "execution_count": null,
   "metadata": {
    "collapsed": true
   },
   "outputs": [],
   "source": []
  },
  {
   "cell_type": "code",
   "execution_count": null,
   "metadata": {
    "collapsed": true
   },
   "outputs": [],
   "source": []
  }
 ],
 "metadata": {
  "kernelspec": {
   "display_name": "Python 3",
   "language": "python",
   "name": "python3"
  },
  "language_info": {
   "codemirror_mode": {
    "name": "ipython",
    "version": 3
   },
   "file_extension": ".py",
   "mimetype": "text/x-python",
   "name": "python",
   "nbconvert_exporter": "python",
   "pygments_lexer": "ipython3",
   "version": "3.6.1"
  }
 },
 "nbformat": 4,
 "nbformat_minor": 2
}
