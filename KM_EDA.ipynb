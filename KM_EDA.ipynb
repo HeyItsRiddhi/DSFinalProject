{
 "cells": [
  {
   "cell_type": "markdown",
   "metadata": {},
   "source": [
    "# EDA on ethnicities"
   ]
  },
  {
   "cell_type": "code",
   "execution_count": 42,
   "metadata": {
    "collapsed": true
   },
   "outputs": [],
   "source": [
    "import pandas as pd\n",
    "import numpy as np\n",
    "import matplotlib\n",
    "import matplotlib.pyplot as plt\n",
    "import matplotlib.pyplot as plt\n",
    "from pylab import *"
   ]
  },
  {
   "cell_type": "code",
   "execution_count": 6,
   "metadata": {},
   "outputs": [],
   "source": [
    "df = pd.read_csv('predictions2.csv', sep=',')"
   ]
  },
  {
   "cell_type": "code",
   "execution_count": 7,
   "metadata": {
    "scrolled": true
   },
   "outputs": [
    {
     "data": {
      "text/html": [
       "<div>\n",
       "<style scoped>\n",
       "    .dataframe tbody tr th:only-of-type {\n",
       "        vertical-align: middle;\n",
       "    }\n",
       "\n",
       "    .dataframe tbody tr th {\n",
       "        vertical-align: top;\n",
       "    }\n",
       "\n",
       "    .dataframe thead th {\n",
       "        text-align: right;\n",
       "    }\n",
       "</style>\n",
       "<table border=\"1\" class=\"dataframe\">\n",
       "  <thead>\n",
       "    <tr style=\"text-align: right;\">\n",
       "      <th></th>\n",
       "      <th>Unnamed: 0</th>\n",
       "      <th>Unnamed: 0.1</th>\n",
       "      <th>Unnamed: 0.1.1</th>\n",
       "      <th>index</th>\n",
       "      <th>district</th>\n",
       "      <th>id</th>\n",
       "      <th>LAST_NAME</th>\n",
       "      <th>FIRST_NAME</th>\n",
       "      <th>zip</th>\n",
       "      <th>female</th>\n",
       "      <th>dob</th>\n",
       "      <th>regyear</th>\n",
       "      <th>party</th>\n",
       "      <th>electiondate</th>\n",
       "      <th>general</th>\n",
       "      <th>typeofvote</th>\n",
       "      <th>age</th>\n",
       "      <th>GEN16</th>\n",
       "      <th>GEN14</th>\n",
       "      <th>Ethnicity Prediction</th>\n",
       "    </tr>\n",
       "  </thead>\n",
       "  <tbody>\n",
       "    <tr>\n",
       "      <th>0</th>\n",
       "      <td>0</td>\n",
       "      <td>0</td>\n",
       "      <td>0</td>\n",
       "      <td>4581539</td>\n",
       "      <td>DUV</td>\n",
       "      <td>103746250</td>\n",
       "      <td>Jennings</td>\n",
       "      <td>Barbara</td>\n",
       "      <td>32225</td>\n",
       "      <td>F</td>\n",
       "      <td>1944-05-23 00:00:00</td>\n",
       "      <td>08/12/2004</td>\n",
       "      <td>REP</td>\n",
       "      <td>11/08/2016</td>\n",
       "      <td>GEN</td>\n",
       "      <td>A</td>\n",
       "      <td>73.0</td>\n",
       "      <td>1</td>\n",
       "      <td>0</td>\n",
       "      <td>Jewish</td>\n",
       "    </tr>\n",
       "    <tr>\n",
       "      <th>1</th>\n",
       "      <td>1</td>\n",
       "      <td>1</td>\n",
       "      <td>1</td>\n",
       "      <td>6399633</td>\n",
       "      <td>DUV</td>\n",
       "      <td>103699536</td>\n",
       "      <td>Nellenbach</td>\n",
       "      <td>Marlene</td>\n",
       "      <td>32223</td>\n",
       "      <td>F</td>\n",
       "      <td>1944-07-04 00:00:00</td>\n",
       "      <td>09/03/1996</td>\n",
       "      <td>NPA</td>\n",
       "      <td>11/04/2014</td>\n",
       "      <td>GEN</td>\n",
       "      <td>A</td>\n",
       "      <td>73.0</td>\n",
       "      <td>0</td>\n",
       "      <td>0</td>\n",
       "      <td>Jewish</td>\n",
       "    </tr>\n",
       "    <tr>\n",
       "      <th>2</th>\n",
       "      <td>2</td>\n",
       "      <td>2</td>\n",
       "      <td>2</td>\n",
       "      <td>5068762</td>\n",
       "      <td>DUV</td>\n",
       "      <td>103823224</td>\n",
       "      <td>YORK</td>\n",
       "      <td>MARTHA</td>\n",
       "      <td>32246</td>\n",
       "      <td>F</td>\n",
       "      <td>1948-02-10 00:00:00</td>\n",
       "      <td>10/05/1992</td>\n",
       "      <td>REP</td>\n",
       "      <td>11/04/2008</td>\n",
       "      <td>GEN</td>\n",
       "      <td>Y</td>\n",
       "      <td>69.0</td>\n",
       "      <td>0</td>\n",
       "      <td>1</td>\n",
       "      <td>Jewish</td>\n",
       "    </tr>\n",
       "    <tr>\n",
       "      <th>3</th>\n",
       "      <td>3</td>\n",
       "      <td>3</td>\n",
       "      <td>3</td>\n",
       "      <td>2390889</td>\n",
       "      <td>CLA</td>\n",
       "      <td>102858200</td>\n",
       "      <td>SUCO</td>\n",
       "      <td>BRANDI</td>\n",
       "      <td>32656</td>\n",
       "      <td>F</td>\n",
       "      <td>1981-09-25 00:00:00</td>\n",
       "      <td>05/16/2000</td>\n",
       "      <td>IDP</td>\n",
       "      <td>11/07/2006</td>\n",
       "      <td>GEN</td>\n",
       "      <td>N</td>\n",
       "      <td>36.0</td>\n",
       "      <td>0</td>\n",
       "      <td>0</td>\n",
       "      <td>African</td>\n",
       "    </tr>\n",
       "    <tr>\n",
       "      <th>4</th>\n",
       "      <td>4</td>\n",
       "      <td>4</td>\n",
       "      <td>4</td>\n",
       "      <td>7092052</td>\n",
       "      <td>DUV</td>\n",
       "      <td>103844317</td>\n",
       "      <td>Amato</td>\n",
       "      <td>Lisa</td>\n",
       "      <td>32250</td>\n",
       "      <td>F</td>\n",
       "      <td>1972-09-14 00:00:00</td>\n",
       "      <td>10/01/2004</td>\n",
       "      <td>DEM</td>\n",
       "      <td>11/04/2008</td>\n",
       "      <td>GEN</td>\n",
       "      <td>Y</td>\n",
       "      <td>45.0</td>\n",
       "      <td>0</td>\n",
       "      <td>1</td>\n",
       "      <td>African</td>\n",
       "    </tr>\n",
       "  </tbody>\n",
       "</table>\n",
       "</div>"
      ],
      "text/plain": [
       "   Unnamed: 0  Unnamed: 0.1  Unnamed: 0.1.1    index district         id  \\\n",
       "0           0             0               0  4581539      DUV  103746250   \n",
       "1           1             1               1  6399633      DUV  103699536   \n",
       "2           2             2               2  5068762      DUV  103823224   \n",
       "3           3             3               3  2390889      CLA  102858200   \n",
       "4           4             4               4  7092052      DUV  103844317   \n",
       "\n",
       "    LAST_NAME FIRST_NAME    zip female                  dob     regyear party  \\\n",
       "0    Jennings    Barbara  32225      F  1944-05-23 00:00:00  08/12/2004   REP   \n",
       "1  Nellenbach    Marlene  32223      F  1944-07-04 00:00:00  09/03/1996   NPA   \n",
       "2        YORK     MARTHA  32246      F  1948-02-10 00:00:00  10/05/1992   REP   \n",
       "3        SUCO     BRANDI  32656      F  1981-09-25 00:00:00  05/16/2000   IDP   \n",
       "4       Amato       Lisa  32250      F  1972-09-14 00:00:00  10/01/2004   DEM   \n",
       "\n",
       "  electiondate general typeofvote   age  GEN16  GEN14 Ethnicity Prediction  \n",
       "0   11/08/2016     GEN          A  73.0      1      0               Jewish  \n",
       "1   11/04/2014     GEN          A  73.0      0      0               Jewish  \n",
       "2   11/04/2008     GEN          Y  69.0      0      1               Jewish  \n",
       "3   11/07/2006     GEN          N  36.0      0      0              African  \n",
       "4   11/04/2008     GEN          Y  45.0      0      1              African  "
      ]
     },
     "execution_count": 7,
     "metadata": {},
     "output_type": "execute_result"
    }
   ],
   "source": [
    "# Data is for registered voters\n",
    "df.head()"
   ]
  },
  {
   "cell_type": "markdown",
   "metadata": {},
   "source": [
    "Note: results may not be representative given the relatively small sample size.\n",
    "For example, there are few voters under 30, therefore the proportions look odd on the graph.\n",
    "Should be fine for this milestone, but will be corrected on a larger dataset."
   ]
  },
  {
   "cell_type": "code",
   "execution_count": 8,
   "metadata": {
    "collapsed": true
   },
   "outputs": [],
   "source": [
    "mean = df.groupby('Ethnicity Prediction').GEN14.mean()\n"
   ]
  },
  {
   "cell_type": "code",
   "execution_count": 10,
   "metadata": {},
   "outputs": [
    {
     "name": "stdout",
     "output_type": "stream",
     "text": [
      "Percent of raece at 2014 poll\n"
     ]
    },
    {
     "data": {
      "text/plain": [
       "Ethnicity Prediction\n",
       "African             0.141176\n",
       "East Asian          0.146199\n",
       "Eastern European    0.146392\n",
       "Hispanic            0.158050\n",
       "Indian              0.214286\n",
       "Jewish              0.159921\n",
       "Muslim/Arabic       0.138340\n",
       "Western European    0.147862\n",
       "Name: GEN14, dtype: float64"
      ]
     },
     "execution_count": 10,
     "metadata": {},
     "output_type": "execute_result"
    }
   ],
   "source": [
    "print(\"Percent of raece at 2014 p\")\n",
    "mean\n"
   ]
  },
  {
   "cell_type": "code",
   "execution_count": 12,
   "metadata": {},
   "outputs": [
    {
     "name": "stdout",
     "output_type": "stream",
     "text": [
      "Percent of raece at 2016 p\n"
     ]
    },
    {
     "data": {
      "text/plain": [
       "Ethnicity Prediction\n",
       "African             0.282353\n",
       "East Asian          0.233918\n",
       "Eastern European    0.228866\n",
       "Hispanic            0.245199\n",
       "Indian              0.217143\n",
       "Jewish              0.216190\n",
       "Muslim/Arabic       0.225296\n",
       "Western European    0.231839\n",
       "Name: GEN16, dtype: float64"
      ]
     },
     "execution_count": 12,
     "metadata": {},
     "output_type": "execute_result"
    }
   ],
   "source": [
    "mean = df.groupby('Ethnicity Prediction').GEN16.mean()\n",
    "print(\"Percent turnout by race at 2016 p\")\n",
    "mean\n"
   ]
  },
  {
   "cell_type": "code",
   "execution_count": 29,
   "metadata": {},
   "outputs": [],
   "source": [
    "mean = dict(df.groupby('Ethnicity Prediction').GEN16.mean())\n",
    "y = dict(mean)"
   ]
  },
  {
   "cell_type": "code",
   "execution_count": 41,
   "metadata": {},
   "outputs": [
    {
     "data": {
      "image/png": "[encoded data removed]",
      "text/plain": [
       "<matplotlib.figure.Figure at 0x10708add8>"
      ]
     },
     "metadata": {},
     "output_type": "display_data"
    }
   ],
   "source": [
    "a = df.groupby('Ethnicity Prediction').mean()['GEN16']\n",
    "adf = a.sort_values().reset_index()[-12:]\n",
    "adf1 = adf.groupby('Ethnicity Prediction').mean()\n",
    "adf1.plot(kind='bar', title = \"Turnout in 2016 election\")\n",
    "plt.show()"
   ]
  },
  {
   "cell_type": "code",
   "execution_count": 44,
   "metadata": {},
   "outputs": [
    {
     "data": {
      "text/plain": [
       "Index(['Unnamed: 0', 'Unnamed: 0.1', 'Unnamed: 0.1.1', 'index', 'district',\n",
       "       'id', 'LAST_NAME', 'FIRST_NAME', 'zip', 'female', 'dob', 'regyear',\n",
       "       'party', 'electiondate', 'general', 'typeofvote', 'age', 'GEN16',\n",
       "       'GEN14', 'Ethnicity Prediction'],\n",
       "      dtype='object')"
      ]
     },
     "execution_count": 44,
     "metadata": {},
     "output_type": "execute_result"
    }
   ],
   "source": [
    "df.columns"
   ]
  },
  {
   "cell_type": "code",
   "execution_count": 47,
   "metadata": {},
   "outputs": [
    {
     "data": {
      "image/png": "[encoded data removed]",
      "text/plain": [
       "<matplotlib.figure.Figure at 0x107e13828>"
      ]
     },
     "metadata": {},
     "output_type": "display_data"
    }
   ],
   "source": [
    "a = df.groupby('Ethnicity Prediction').mean()['age']\n",
    "adf = a.sort_values().reset_index()[-12:]\n",
    "adf1 = adf.groupby('Ethnicity Prediction').mean()\n",
    "adf1.plot(kind='bar', title = \"Average age of Registered Voters\")\n",
    "plt.show()"
   ]
  },
  {
   "cell_type": "code",
   "execution_count": null,
   "metadata": {},
   "outputs": [],
   "source": []
  },
  {
   "cell_type": "code",
   "execution_count": null,
   "metadata": {
    "collapsed": true
   },
   "outputs": [],
   "source": []
  },
  {
   "cell_type": "code",
   "execution_count": null,
   "metadata": {
    "scrolled": false
   },
   "outputs": [],
   "source": []
  }
 ],
 "metadata": {
  "kernelspec": {
   "display_name": "Python 3",
   "language": "python",
   "name": "python3"
  },
  "language_info": {
   "codemirror_mode": {
    "name": "ipython",
    "version": 3
   },
   "file_extension": ".py",
   "mimetype": "text/x-python",
   "name": "python",
   "nbconvert_exporter": "python",
   "pygments_lexer": "ipython3",
   "version": "3.6.1"
  }
 },
 "nbformat": 4,
 "nbformat_minor": 2
}
