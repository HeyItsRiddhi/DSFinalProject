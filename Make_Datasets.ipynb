{
 "cells": [
  {
   "cell_type": "code",
   "execution_count": 1,
   "metadata": {},
   "outputs": [
    {
     "name": "stdout",
     "output_type": "stream",
     "text": [
      "/Users/kimia/Downloads\n"
     ]
    }
   ],
   "source": [
    "% cd /Users/kimia/Downloads/"
   ]
  },
  {
   "cell_type": "code",
   "execution_count": 2,
   "metadata": {},
   "outputs": [
    {
     "name": "stderr",
     "output_type": "stream",
     "text": [
      "/anaconda/lib/python3.6/site-packages/IPython/core/interactiveshell.py:2717: DtypeWarning: Columns (1,27) have mixed types. Specify dtype option on import or set low_memory=False.\n",
      "  interactivity=interactivity, compiler=compiler, result=result)\n"
     ]
    }
   ],
   "source": [
    "import pandas as pd\n",
    "\n",
    "\n",
    "\n",
    "votes = pd.read_csv('BRO_H_20170110.txt', sep=\"\\t\", header = None)\n",
    "reg = pd.read_csv('BRO_20170110.txt', sep=\"\\t\", header = None)\n"
   ]
  },
  {
   "cell_type": "code",
   "execution_count": 3,
   "metadata": {
    "collapsed": true
   },
   "outputs": [],
   "source": [
    "reg[\"id\"]= reg[1]\n",
    "votes[\"id\"]= votes[1]\n"
   ]
  },
  {
   "cell_type": "code",
   "execution_count": 4,
   "metadata": {
    "collapsed": true
   },
   "outputs": [],
   "source": [
    "## only general election for now\n",
    "votes = votes.loc[votes[3]==\"GEN\"]\n",
    "\n",
    "votes = votes.loc[votes[2]==\"11/08/2016\"]"
   ]
  },
  {
   "cell_type": "code",
   "execution_count": 5,
   "metadata": {},
   "outputs": [
    {
     "name": "stdout",
     "output_type": "stream",
     "text": [
      "1214895 1214895\n"
     ]
    }
   ],
   "source": [
    "#df1.merge(df2,how='left', left_on='Column1', right_on='ColumnA') \n",
    "registration = reg.merge(votes, how = \"left\", left_on='id', right_on='id', suffixes=['reg','votes'])\n",
    "print(len(registration[\"id\"].unique()), len(registration[\"id\"]))\n",
    "# make sure not more than 1 ID per file\n",
    "\n",
    "registration.drop([5,6,7,8,9, 12, 13, 14, 15, 16, 17, 18, 20, 21, 24, 25, 26, 27,28,29,30,31,32,33, 34,35, 36, 37], axis=1, inplace=True)\n",
    "newcolumns = [\"district\", \"id\", \"last\", \"dr0p\", \"first\", \"garbage\", \"zip\", \"female\", \"dob\", \"party\", \"genid\", \"drop2\", \"idk\", \"electiondate\", \"general\", \"typeofvote\"]\n",
    "registration.columns = newcolumns "
   ]
  },
  {
   "cell_type": "code",
   "execution_count": 6,
   "metadata": {
    "collapsed": true
   },
   "outputs": [],
   "source": [
    "#registration.iloc[0:5,21:32]"
   ]
  },
  {
   "cell_type": "code",
   "execution_count": 7,
   "metadata": {},
   "outputs": [
    {
     "data": {
      "text/html": [
       "<div>\n",
       "<style>\n",
       "    .dataframe thead tr:only-child th {\n",
       "        text-align: right;\n",
       "    }\n",
       "\n",
       "    .dataframe thead th {\n",
       "        text-align: left;\n",
       "    }\n",
       "\n",
       "    .dataframe tbody tr th {\n",
       "        vertical-align: top;\n",
       "    }\n",
       "</style>\n",
       "<table border=\"1\" class=\"dataframe\">\n",
       "  <thead>\n",
       "    <tr style=\"text-align: right;\">\n",
       "      <th></th>\n",
       "      <th>district</th>\n",
       "      <th>id</th>\n",
       "      <th>last</th>\n",
       "      <th>dr0p</th>\n",
       "      <th>first</th>\n",
       "      <th>garbage</th>\n",
       "      <th>zip</th>\n",
       "      <th>female</th>\n",
       "      <th>dob</th>\n",
       "      <th>party</th>\n",
       "      <th>genid</th>\n",
       "      <th>drop2</th>\n",
       "      <th>idk</th>\n",
       "      <th>electiondate</th>\n",
       "      <th>general</th>\n",
       "      <th>typeofvote</th>\n",
       "    </tr>\n",
       "  </thead>\n",
       "  <tbody>\n",
       "    <tr>\n",
       "      <th>0</th>\n",
       "      <td>BRO</td>\n",
       "      <td>101223429</td>\n",
       "      <td>Mowery</td>\n",
       "      <td>NaN</td>\n",
       "      <td>Ethel</td>\n",
       "      <td></td>\n",
       "      <td>330647802</td>\n",
       "      <td>F</td>\n",
       "      <td>02/03/1967</td>\n",
       "      <td>REP</td>\n",
       "      <td>101223429</td>\n",
       "      <td>NaN</td>\n",
       "      <td>NaN</td>\n",
       "      <td>NaN</td>\n",
       "      <td>NaN</td>\n",
       "      <td>NaN</td>\n",
       "    </tr>\n",
       "    <tr>\n",
       "      <th>1</th>\n",
       "      <td>BRO</td>\n",
       "      <td>101220263</td>\n",
       "      <td>Dadson</td>\n",
       "      <td>NaN</td>\n",
       "      <td>James</td>\n",
       "      <td></td>\n",
       "      <td>333080000</td>\n",
       "      <td>M</td>\n",
       "      <td>10/05/1968</td>\n",
       "      <td>REP</td>\n",
       "      <td>101220263</td>\n",
       "      <td>NaN</td>\n",
       "      <td>NaN</td>\n",
       "      <td>NaN</td>\n",
       "      <td>NaN</td>\n",
       "      <td>NaN</td>\n",
       "    </tr>\n",
       "    <tr>\n",
       "      <th>2</th>\n",
       "      <td>BRO</td>\n",
       "      <td>101231790</td>\n",
       "      <td>Barone</td>\n",
       "      <td>NaN</td>\n",
       "      <td>Dolores</td>\n",
       "      <td></td>\n",
       "      <td>330620000</td>\n",
       "      <td>F</td>\n",
       "      <td>03/19/1970</td>\n",
       "      <td>REP</td>\n",
       "      <td>101231790</td>\n",
       "      <td>BRO</td>\n",
       "      <td>101231790.0</td>\n",
       "      <td>11/08/2016</td>\n",
       "      <td>GEN</td>\n",
       "      <td>Y</td>\n",
       "    </tr>\n",
       "    <tr>\n",
       "      <th>3</th>\n",
       "      <td>BRO</td>\n",
       "      <td>101235763</td>\n",
       "      <td>Bibey</td>\n",
       "      <td>NaN</td>\n",
       "      <td>Eleanor</td>\n",
       "      <td></td>\n",
       "      <td>330620000</td>\n",
       "      <td>F</td>\n",
       "      <td>09/28/1971</td>\n",
       "      <td>REP</td>\n",
       "      <td>101235763</td>\n",
       "      <td>BRO</td>\n",
       "      <td>101235763.0</td>\n",
       "      <td>11/08/2016</td>\n",
       "      <td>GEN</td>\n",
       "      <td>Y</td>\n",
       "    </tr>\n",
       "    <tr>\n",
       "      <th>4</th>\n",
       "      <td>BRO</td>\n",
       "      <td>101237948</td>\n",
       "      <td>Turner</td>\n",
       "      <td>NaN</td>\n",
       "      <td>Charlene</td>\n",
       "      <td></td>\n",
       "      <td>333082928</td>\n",
       "      <td>F</td>\n",
       "      <td>01/21/1972</td>\n",
       "      <td>REP</td>\n",
       "      <td>101237948</td>\n",
       "      <td>BRO</td>\n",
       "      <td>101237948.0</td>\n",
       "      <td>11/08/2016</td>\n",
       "      <td>GEN</td>\n",
       "      <td>Y</td>\n",
       "    </tr>\n",
       "  </tbody>\n",
       "</table>\n",
       "</div>"
      ],
      "text/plain": [
       "  district         id    last dr0p     first garbage        zip female  \\\n",
       "0      BRO  101223429  Mowery  NaN     Ethel          330647802      F   \n",
       "1      BRO  101220263  Dadson  NaN     James          333080000      M   \n",
       "2      BRO  101231790  Barone  NaN   Dolores          330620000      F   \n",
       "3      BRO  101235763   Bibey  NaN   Eleanor          330620000      F   \n",
       "4      BRO  101237948  Turner  NaN  Charlene          333082928      F   \n",
       "\n",
       "          dob party      genid drop2          idk electiondate general  \\\n",
       "0  02/03/1967   REP  101223429   NaN          NaN          NaN     NaN   \n",
       "1  10/05/1968   REP  101220263   NaN          NaN          NaN     NaN   \n",
       "2  03/19/1970   REP  101231790   BRO  101231790.0   11/08/2016     GEN   \n",
       "3  09/28/1971   REP  101235763   BRO  101235763.0   11/08/2016     GEN   \n",
       "4  01/21/1972   REP  101237948   BRO  101237948.0   11/08/2016     GEN   \n",
       "\n",
       "  typeofvote  \n",
       "0        NaN  \n",
       "1        NaN  \n",
       "2          Y  \n",
       "3          Y  \n",
       "4          Y  "
      ]
     },
     "execution_count": 7,
     "metadata": {},
     "output_type": "execute_result"
    }
   ],
   "source": [
    "registration.head()"
   ]
  },
  {
   "cell_type": "code",
   "execution_count": null,
   "metadata": {
    "collapsed": true
   },
   "outputs": [],
   "source": []
  },
  {
   "cell_type": "code",
   "execution_count": 8,
   "metadata": {
    "collapsed": true
   },
   "outputs": [],
   "source": [
    "\n",
    "#clean general election to 0/1\n",
    "registration[\"general\"] = registration[\"general\"].fillna(0)\n",
    "\n",
    "registration.loc[registration[\"general\"]==\"GEN\",\"general\"] = 1\n",
    "\n",
    "#registration = registration.fillna(0)\n",
    "\n",
    "#clean gener\n",
    "registration.loc[registration[\"female\"]==\"F\",\"female\"] = 1\n",
    "registration.loc[registration[\"female\"]==\"M\",\"female\"] = 0\n",
    "#typeofvote\n",
    "registration[\"typeofvote\"] = registration[\"typeofvote\"].fillna(0)\n"
   ]
  },
  {
   "cell_type": "code",
   "execution_count": 9,
   "metadata": {},
   "outputs": [
    {
     "name": "stdout",
     "output_type": "stream",
     "text": [
      "0.6847118475259178 Turnout!\n"
     ]
    }
   ],
   "source": [
    "import numpy as np\n",
    "print((np.sum(registration[\"general\"]))/ (len(registration)), \"Turnout!\")\n"
   ]
  },
  {
   "cell_type": "code",
   "execution_count": 10,
   "metadata": {
    "collapsed": true
   },
   "outputs": [],
   "source": [
    "### testing out a model"
   ]
  },
  {
   "cell_type": "code",
   "execution_count": 11,
   "metadata": {
    "collapsed": true
   },
   "outputs": [],
   "source": [
    "df = registration\n",
    "df.columns\n",
    "remove = ['district', 'id', 'last', 'dr0p', 'first', 'garbage', \n",
    "       'dob', 'genid', 'drop2', 'idk', 'electiondate',\n",
    "       'typeofvote']\n",
    "df.drop(remove, axis = 1, inplace = True)\n"
   ]
  },
  {
   "cell_type": "code",
   "execution_count": 12,
   "metadata": {
    "collapsed": true
   },
   "outputs": [],
   "source": [
    "df = pd.get_dummies(df, columns=['party'])"
   ]
  },
  {
   "cell_type": "code",
   "execution_count": 17,
   "metadata": {
    "collapsed": true
   },
   "outputs": [],
   "source": [
    "msk = np.random.rand(len(df)) < 0.5\n",
    "train = df[msk]\n",
    "test = df[~msk]\n",
    "y_train = train['general']\n",
    "X_train = train[train.columns[train.columns != 'general']]\n",
    "y_test = test['general']\n",
    "X_test = test[test.columns[test.columns != 'general']]"
   ]
  },
  {
   "cell_type": "code",
   "execution_count": 18,
   "metadata": {},
   "outputs": [
    {
     "ename": "ValueError",
     "evalue": "could not convert string to float: 'U'",
     "output_type": "error",
     "traceback": [
      "\u001b[0;31m---------------------------------------------------------------------------\u001b[0m",
      "\u001b[0;31mValueError\u001b[0m                                Traceback (most recent call last)",
      "\u001b[0;32m<ipython-input-18-1f2823e8ffa1>\u001b[0m in \u001b[0;36m<module>\u001b[0;34m()\u001b[0m\n\u001b[1;32m      2\u001b[0m \u001b[0malpha\u001b[0m\u001b[0;34m=\u001b[0m\u001b[0;34m[\u001b[0m\u001b[0;36m0.0001\u001b[0m\u001b[0;34m,\u001b[0m \u001b[0;36m0.001\u001b[0m\u001b[0;34m,\u001b[0m \u001b[0;36m0.01\u001b[0m\u001b[0;34m,\u001b[0m \u001b[0;36m0.1\u001b[0m\u001b[0;34m,\u001b[0m \u001b[0;36m1\u001b[0m\u001b[0;34m,\u001b[0m \u001b[0;36m10\u001b[0m\u001b[0;34m,\u001b[0m \u001b[0;36m100\u001b[0m\u001b[0;34m,\u001b[0m \u001b[0;36m1000\u001b[0m\u001b[0;34m,\u001b[0m \u001b[0;36m10000\u001b[0m\u001b[0;34m]\u001b[0m\u001b[0;34m\u001b[0m\u001b[0m\n\u001b[1;32m      3\u001b[0m \u001b[0mlasso\u001b[0m \u001b[0;34m=\u001b[0m \u001b[0mLassoCV\u001b[0m\u001b[0;34m(\u001b[0m\u001b[0malphas\u001b[0m\u001b[0;34m=\u001b[0m\u001b[0malpha\u001b[0m\u001b[0;34m,\u001b[0m \u001b[0mcv\u001b[0m\u001b[0;34m=\u001b[0m\u001b[0;36m10\u001b[0m\u001b[0;34m,\u001b[0m \u001b[0mmax_iter\u001b[0m\u001b[0;34m=\u001b[0m\u001b[0;36m10000\u001b[0m\u001b[0;34m,\u001b[0m \u001b[0mfit_intercept\u001b[0m\u001b[0;34m=\u001b[0m\u001b[0;32mTrue\u001b[0m\u001b[0;34m)\u001b[0m\u001b[0;34m\u001b[0m\u001b[0m\n\u001b[0;32m----> 4\u001b[0;31m \u001b[0mlasso\u001b[0m\u001b[0;34m.\u001b[0m\u001b[0mfit\u001b[0m\u001b[0;34m(\u001b[0m\u001b[0mX_train\u001b[0m\u001b[0;34m,\u001b[0m \u001b[0my_train\u001b[0m\u001b[0;34m)\u001b[0m\u001b[0;34m\u001b[0m\u001b[0m\n\u001b[0m\u001b[1;32m      5\u001b[0m \u001b[0;31m#y_hat_pca_train = lasso.predict(X_train)\u001b[0m\u001b[0;34m\u001b[0m\u001b[0;34m\u001b[0m\u001b[0m\n\u001b[1;32m      6\u001b[0m \u001b[0;31m#y_hat_pca_test = lasso.predict(X_test)\u001b[0m\u001b[0;34m\u001b[0m\u001b[0;34m\u001b[0m\u001b[0m\n",
      "\u001b[0;32m/anaconda/lib/python3.6/site-packages/sklearn/linear_model/coordinate_descent.py\u001b[0m in \u001b[0;36mfit\u001b[0;34m(self, X, y)\u001b[0m\n\u001b[1;32m   1119\u001b[0m             \u001b[0;32mdel\u001b[0m \u001b[0mreference_to_old_X\u001b[0m\u001b[0;34m\u001b[0m\u001b[0m\n\u001b[1;32m   1120\u001b[0m         \u001b[0;32melse\u001b[0m\u001b[0;34m:\u001b[0m\u001b[0;34m\u001b[0m\u001b[0m\n\u001b[0;32m-> 1121\u001b[0;31m             \u001b[0mX\u001b[0m \u001b[0;34m=\u001b[0m \u001b[0mcheck_array\u001b[0m\u001b[0;34m(\u001b[0m\u001b[0mX\u001b[0m\u001b[0;34m,\u001b[0m \u001b[0;34m'csc'\u001b[0m\u001b[0;34m,\u001b[0m \u001b[0mdtype\u001b[0m\u001b[0;34m=\u001b[0m\u001b[0mnp\u001b[0m\u001b[0;34m.\u001b[0m\u001b[0mfloat64\u001b[0m\u001b[0;34m,\u001b[0m \u001b[0morder\u001b[0m\u001b[0;34m=\u001b[0m\u001b[0;34m'F'\u001b[0m\u001b[0;34m,\u001b[0m \u001b[0mcopy\u001b[0m\u001b[0;34m=\u001b[0m\u001b[0mcopy_X\u001b[0m\u001b[0;34m)\u001b[0m\u001b[0;34m\u001b[0m\u001b[0m\n\u001b[0m\u001b[1;32m   1122\u001b[0m             \u001b[0mcopy_X\u001b[0m \u001b[0;34m=\u001b[0m \u001b[0;32mFalse\u001b[0m\u001b[0;34m\u001b[0m\u001b[0m\n\u001b[1;32m   1123\u001b[0m \u001b[0;34m\u001b[0m\u001b[0m\n",
      "\u001b[0;32m/anaconda/lib/python3.6/site-packages/sklearn/utils/validation.py\u001b[0m in \u001b[0;36mcheck_array\u001b[0;34m(array, accept_sparse, dtype, order, copy, force_all_finite, ensure_2d, allow_nd, ensure_min_samples, ensure_min_features, warn_on_dtype, estimator)\u001b[0m\n\u001b[1;32m    380\u001b[0m                                       force_all_finite)\n\u001b[1;32m    381\u001b[0m     \u001b[0;32melse\u001b[0m\u001b[0;34m:\u001b[0m\u001b[0;34m\u001b[0m\u001b[0m\n\u001b[0;32m--> 382\u001b[0;31m         \u001b[0marray\u001b[0m \u001b[0;34m=\u001b[0m \u001b[0mnp\u001b[0m\u001b[0;34m.\u001b[0m\u001b[0marray\u001b[0m\u001b[0;34m(\u001b[0m\u001b[0marray\u001b[0m\u001b[0;34m,\u001b[0m \u001b[0mdtype\u001b[0m\u001b[0;34m=\u001b[0m\u001b[0mdtype\u001b[0m\u001b[0;34m,\u001b[0m \u001b[0morder\u001b[0m\u001b[0;34m=\u001b[0m\u001b[0morder\u001b[0m\u001b[0;34m,\u001b[0m \u001b[0mcopy\u001b[0m\u001b[0;34m=\u001b[0m\u001b[0mcopy\u001b[0m\u001b[0;34m)\u001b[0m\u001b[0;34m\u001b[0m\u001b[0m\n\u001b[0m\u001b[1;32m    383\u001b[0m \u001b[0;34m\u001b[0m\u001b[0m\n\u001b[1;32m    384\u001b[0m         \u001b[0;32mif\u001b[0m \u001b[0mensure_2d\u001b[0m\u001b[0;34m:\u001b[0m\u001b[0;34m\u001b[0m\u001b[0m\n",
      "\u001b[0;31mValueError\u001b[0m: could not convert string to float: 'U'"
     ]
    }
   ],
   "source": [
    "from sklearn.linear_model import LassoCV\n",
    "alpha=[0.0001, 0.001, 0.01, 0.1, 1, 10, 100, 1000, 10000]\n",
    "lasso = LassoCV(alphas=alpha, cv=10, max_iter=10000, fit_intercept=True)\n",
    "lasso.fit(X_train, y_train)\n",
    "#y_hat_pca_train = lasso.predict(X_train)\n",
    "#y_hat_pca_test = lasso.predict(X_test)\n",
    "print(lasso.score(X_train, y_train), lasso.score(X_test,\n",
    "y_test))"
   ]
  },
  {
   "cell_type": "code",
   "execution_count": null,
   "metadata": {
    "collapsed": true
   },
   "outputs": [],
   "source": []
  }
 ],
 "metadata": {
  "kernelspec": {
   "display_name": "Python 3",
   "language": "python",
   "name": "python3"
  },
  "language_info": {
   "codemirror_mode": {
    "name": "ipython",
    "version": 3
   },
   "file_extension": ".py",
   "mimetype": "text/x-python",
   "name": "python",
   "nbconvert_exporter": "python",
   "pygments_lexer": "ipython3",
   "version": "3.6.1"
  }
 },
 "nbformat": 4,
 "nbformat_minor": 2
}
