{
 "cells": [
  {
   "cell_type": "code",
   "execution_count": 4,
   "metadata": {
    "collapsed": true
   },
   "outputs": [],
   "source": [
    "\n",
    "\n",
    "import pandas as pd\n",
    "\n",
    "\n",
    "votes = pd.read_csv('dataset.csv',sep=\"\\t\")\n"
   ]
  },
  {
   "cell_type": "code",
   "execution_count": 5,
   "metadata": {},
   "outputs": [
    {
     "data": {
      "text/html": [
       "<div>\n",
       "<style scoped>\n",
       "    .dataframe tbody tr th:only-of-type {\n",
       "        vertical-align: middle;\n",
       "    }\n",
       "\n",
       "    .dataframe tbody tr th {\n",
       "        vertical-align: top;\n",
       "    }\n",
       "\n",
       "    .dataframe thead th {\n",
       "        text-align: right;\n",
       "    }\n",
       "</style>\n",
       "<table border=\"1\" class=\"dataframe\">\n",
       "  <thead>\n",
       "    <tr style=\"text-align: right;\">\n",
       "      <th></th>\n",
       "      <th>Unnamed: 0</th>\n",
       "      <th>index</th>\n",
       "      <th>district</th>\n",
       "      <th>id</th>\n",
       "      <th>LAST_NAME</th>\n",
       "      <th>FIRST_NAME</th>\n",
       "      <th>zip</th>\n",
       "      <th>female</th>\n",
       "      <th>dob</th>\n",
       "      <th>regyear</th>\n",
       "      <th>party</th>\n",
       "      <th>electiondate</th>\n",
       "      <th>general</th>\n",
       "      <th>typeofvote</th>\n",
       "      <th>age</th>\n",
       "    </tr>\n",
       "  </thead>\n",
       "  <tbody>\n",
       "    <tr>\n",
       "      <th>0</th>\n",
       "      <td>0</td>\n",
       "      <td>4581539</td>\n",
       "      <td>DUV</td>\n",
       "      <td>103746250</td>\n",
       "      <td>Jennings</td>\n",
       "      <td>Barbara</td>\n",
       "      <td>32225</td>\n",
       "      <td>F</td>\n",
       "      <td>1944-05-23 00:00:00</td>\n",
       "      <td>08/12/2004</td>\n",
       "      <td>REP</td>\n",
       "      <td>11/08/2016</td>\n",
       "      <td>GEN</td>\n",
       "      <td>A</td>\n",
       "      <td>73.0</td>\n",
       "    </tr>\n",
       "    <tr>\n",
       "      <th>1</th>\n",
       "      <td>1</td>\n",
       "      <td>6399633</td>\n",
       "      <td>DUV</td>\n",
       "      <td>103699536</td>\n",
       "      <td>Nellenbach</td>\n",
       "      <td>Marlene</td>\n",
       "      <td>32223</td>\n",
       "      <td>F</td>\n",
       "      <td>1944-07-04 00:00:00</td>\n",
       "      <td>09/03/1996</td>\n",
       "      <td>NPA</td>\n",
       "      <td>11/04/2014</td>\n",
       "      <td>GEN</td>\n",
       "      <td>A</td>\n",
       "      <td>73.0</td>\n",
       "    </tr>\n",
       "    <tr>\n",
       "      <th>2</th>\n",
       "      <td>2</td>\n",
       "      <td>5068762</td>\n",
       "      <td>DUV</td>\n",
       "      <td>103823224</td>\n",
       "      <td>YORK</td>\n",
       "      <td>MARTHA</td>\n",
       "      <td>32246</td>\n",
       "      <td>F</td>\n",
       "      <td>1948-02-10 00:00:00</td>\n",
       "      <td>10/05/1992</td>\n",
       "      <td>REP</td>\n",
       "      <td>11/04/2008</td>\n",
       "      <td>GEN</td>\n",
       "      <td>Y</td>\n",
       "      <td>69.0</td>\n",
       "    </tr>\n",
       "    <tr>\n",
       "      <th>3</th>\n",
       "      <td>3</td>\n",
       "      <td>2390889</td>\n",
       "      <td>CLA</td>\n",
       "      <td>102858200</td>\n",
       "      <td>SUCO</td>\n",
       "      <td>BRANDI</td>\n",
       "      <td>32656</td>\n",
       "      <td>F</td>\n",
       "      <td>1981-09-25 00:00:00</td>\n",
       "      <td>05/16/2000</td>\n",
       "      <td>IDP</td>\n",
       "      <td>11/07/2006</td>\n",
       "      <td>GEN</td>\n",
       "      <td>N</td>\n",
       "      <td>36.0</td>\n",
       "    </tr>\n",
       "    <tr>\n",
       "      <th>4</th>\n",
       "      <td>4</td>\n",
       "      <td>7092052</td>\n",
       "      <td>DUV</td>\n",
       "      <td>103844317</td>\n",
       "      <td>Amato</td>\n",
       "      <td>Lisa</td>\n",
       "      <td>32250</td>\n",
       "      <td>F</td>\n",
       "      <td>1972-09-14 00:00:00</td>\n",
       "      <td>10/01/2004</td>\n",
       "      <td>DEM</td>\n",
       "      <td>11/04/2008</td>\n",
       "      <td>GEN</td>\n",
       "      <td>Y</td>\n",
       "      <td>45.0</td>\n",
       "    </tr>\n",
       "  </tbody>\n",
       "</table>\n",
       "</div>"
      ],
      "text/plain": [
       "   Unnamed: 0    index district         id   LAST_NAME FIRST_NAME    zip  \\\n",
       "0           0  4581539      DUV  103746250    Jennings    Barbara  32225   \n",
       "1           1  6399633      DUV  103699536  Nellenbach    Marlene  32223   \n",
       "2           2  5068762      DUV  103823224        YORK     MARTHA  32246   \n",
       "3           3  2390889      CLA  102858200        SUCO     BRANDI  32656   \n",
       "4           4  7092052      DUV  103844317       Amato       Lisa  32250   \n",
       "\n",
       "  female                  dob     regyear party electiondate general  \\\n",
       "0      F  1944-05-23 00:00:00  08/12/2004   REP   11/08/2016     GEN   \n",
       "1      F  1944-07-04 00:00:00  09/03/1996   NPA   11/04/2014     GEN   \n",
       "2      F  1948-02-10 00:00:00  10/05/1992   REP   11/04/2008     GEN   \n",
       "3      F  1981-09-25 00:00:00  05/16/2000   IDP   11/07/2006     GEN   \n",
       "4      F  1972-09-14 00:00:00  10/01/2004   DEM   11/04/2008     GEN   \n",
       "\n",
       "  typeofvote   age  \n",
       "0          A  73.0  \n",
       "1          A  73.0  \n",
       "2          Y  69.0  \n",
       "3          N  36.0  \n",
       "4          Y  45.0  "
      ]
     },
     "execution_count": 5,
     "metadata": {},
     "output_type": "execute_result"
    }
   ],
   "source": [
    "votes.head()"
   ]
  },
  {
   "cell_type": "code",
   "execution_count": 6,
   "metadata": {},
   "outputs": [
    {
     "data": {
      "text/plain": [
       "10000"
      ]
     },
     "execution_count": 6,
     "metadata": {},
     "output_type": "execute_result"
    }
   ],
   "source": [
    "len(votes)\n",
    "# NOTE THIS IS A SAMLE OF 10K"
   ]
  },
  {
   "cell_type": "code",
   "execution_count": 9,
   "metadata": {},
   "outputs": [
    {
     "data": {
      "text/plain": [
       "array(['11/08/2016', '11/04/2014', '11/04/2008', '11/07/2006', nan,\n",
       "       '01/31/2012', '08/30/2016', '11/06/2012', '11/02/2010',\n",
       "       '08/14/2012', '08/26/2014', '01/29/2008', '05/19/2015',\n",
       "       '09/05/2006', '09/15/2009', '03/15/2016', '08/24/2010',\n",
       "       '05/17/2011', '03/24/2015', '03/22/2011', '08/26/2008',\n",
       "       '05/15/2007', '06/24/2014', '04/16/2013', '04/18/2006',\n",
       "       '09/18/2007', '10/06/2009', '11/05/2013', '11/06/2007',\n",
       "       '05/12/2009', '04/01/2008', '04/22/2008', '08/25/2015',\n",
       "       '09/20/2011', '03/20/2007', '12/09/2008', '08/27/2013',\n",
       "       '09/19/2006', '04/17/2012', '03/13/2007', '04/19/2011',\n",
       "       '04/21/2015', '04/22/2014', '06/26/2007', '04/17/2007',\n",
       "       '12/01/2009', '12/16/2014', '02/17/2015', '08/28/2007',\n",
       "       '04/05/2011', '11/20/2007', '01/10/2006', '04/02/2013',\n",
       "       '02/26/2008', '03/14/2006', '04/20/2010', '01/26/2010',\n",
       "       '05/19/2009', '08/30/2011', '04/19/2016', '02/07/2006',\n",
       "       '03/13/2012', '10/30/2007', '04/25/2014', '10/02/2007',\n",
       "       '09/04/2007', '09/09/2014', '12/07/2010', '04/01/2014',\n",
       "       '03/11/2014', '06/05/2007', '10/16/2007', '04/06/2010',\n",
       "       '12/05/2006', '04/20/2006', '09/30/2014', '07/04/2010',\n",
       "       '02/01/2011', '02/02/2010', '09/06/2011', '03/06/2007',\n",
       "       '03/03/2009', '09/30/2008', '08/31/2010', '04/21/2009', '09/10/2013'], dtype=object)"
      ]
     },
     "execution_count": 9,
     "metadata": {},
     "output_type": "execute_result"
    }
   ],
   "source": [
    "votes[\"electiondate\"].unique()\n",
    "\n",
    "## Note that even if people voted early, they are still listed as 11/04/2008 or 11/08/2016"
   ]
  },
  {
   "cell_type": "code",
   "execution_count": 11,
   "metadata": {},
   "outputs": [
    {
     "data": {
      "text/plain": [
       "array(['GEN', nan, 'PPP', 'PRI', 'OTH'], dtype=object)"
      ]
     },
     "execution_count": 11,
     "metadata": {},
     "output_type": "execute_result"
    }
   ],
   "source": [
    "votes[\"general\"].unique()"
   ]
  },
  {
   "cell_type": "code",
   "execution_count": 14,
   "metadata": {},
   "outputs": [],
   "source": [
    "\n",
    "## Get rid of anything but GEN\n",
    "votes = votes.loc[votes[\"general\"]==\"GEN\"]"
   ]
  },
  {
   "cell_type": "code",
   "execution_count": 19,
   "metadata": {
    "collapsed": true
   },
   "outputs": [],
   "source": [
    "\n",
    "## Make columns for Gen\n",
    "votes['GEN16'] = 0\n",
    "\n",
    "votes['GEN14'] = 0"
   ]
  },
  {
   "cell_type": "code",
   "execution_count": 20,
   "metadata": {},
   "outputs": [
    {
     "data": {
      "text/plain": [
       "Index(['Unnamed: 0', 'index', 'district', 'id', 'LAST_NAME', 'FIRST_NAME',\n",
       "       'zip', 'female', 'dob', 'regyear', 'party', 'electiondate', 'general',\n",
       "       'typeofvote', 'age', 'GEN16', 'GEN14'],\n",
       "      dtype='object')"
      ]
     },
     "execution_count": 20,
     "metadata": {},
     "output_type": "execute_result"
    }
   ],
   "source": [
    "votes.columns\n"
   ]
  },
  {
   "cell_type": "code",
   "execution_count": 25,
   "metadata": {},
   "outputs": [],
   "source": [
    "## change  those who votes to dummy variables\n",
    "votes.loc[votes[\"electiondate\"]==\"11/08/2016\", 'GEN16'] = 1\n",
    "votes.loc[votes[\"electiondate\"]==\"11/04/2008\", 'GEN14'] = 1"
   ]
  },
  {
   "cell_type": "code",
   "execution_count": 28,
   "metadata": {},
   "outputs": [
    {
     "name": "stdout",
     "output_type": "stream",
     "text": [
      "1184 801\n"
     ]
    }
   ],
   "source": [
    "import numpy as np\n",
    "print(np.sum(votes[\"GEN16\"]), np.sum(votes[\"GEN14\"]))"
   ]
  },
  {
   "cell_type": "code",
   "execution_count": 29,
   "metadata": {},
   "outputs": [
    {
     "data": {
      "text/plain": [
       "5158"
      ]
     },
     "execution_count": 29,
     "metadata": {},
     "output_type": "execute_result"
    }
   ],
   "source": [
    "len(votes)"
   ]
  },
  {
   "cell_type": "code",
   "execution_count": 43,
   "metadata": {},
   "outputs": [],
   "source": [
    "## Note that Riddhi already collapsed on the file\n",
    "\n",
    "np.sum(votes[\"id\"].duplicated())\n",
    "\n",
    "votes = votes.drop_duplicates('id', keep=\"first\")"
   ]
  },
  {
   "cell_type": "code",
   "execution_count": 46,
   "metadata": {
    "collapsed": true
   },
   "outputs": [],
   "source": [
    "votes.to_csv('Milestone33.csv', sep='\\t')"
   ]
  },
  {
   "cell_type": "code",
   "execution_count": 44,
   "metadata": {},
   "outputs": [
    {
     "data": {
      "text/html": [
       "<div>\n",
       "<style scoped>\n",
       "    .dataframe tbody tr th:only-of-type {\n",
       "        vertical-align: middle;\n",
       "    }\n",
       "\n",
       "    .dataframe tbody tr th {\n",
       "        vertical-align: top;\n",
       "    }\n",
       "\n",
       "    .dataframe thead th {\n",
       "        text-align: right;\n",
       "    }\n",
       "</style>\n",
       "<table border=\"1\" class=\"dataframe\">\n",
       "  <thead>\n",
       "    <tr style=\"text-align: right;\">\n",
       "      <th></th>\n",
       "      <th>Unnamed: 0</th>\n",
       "      <th>index</th>\n",
       "      <th>district</th>\n",
       "      <th>id</th>\n",
       "      <th>LAST_NAME</th>\n",
       "      <th>FIRST_NAME</th>\n",
       "      <th>zip</th>\n",
       "      <th>female</th>\n",
       "      <th>dob</th>\n",
       "      <th>regyear</th>\n",
       "      <th>party</th>\n",
       "      <th>electiondate</th>\n",
       "      <th>general</th>\n",
       "      <th>typeofvote</th>\n",
       "      <th>age</th>\n",
       "      <th>GEN16</th>\n",
       "      <th>GEN14</th>\n",
       "    </tr>\n",
       "  </thead>\n",
       "  <tbody>\n",
       "    <tr>\n",
       "      <th>0</th>\n",
       "      <td>0</td>\n",
       "      <td>4581539</td>\n",
       "      <td>DUV</td>\n",
       "      <td>103746250</td>\n",
       "      <td>Jennings</td>\n",
       "      <td>Barbara</td>\n",
       "      <td>32225</td>\n",
       "      <td>F</td>\n",
       "      <td>1944-05-23 00:00:00</td>\n",
       "      <td>08/12/2004</td>\n",
       "      <td>REP</td>\n",
       "      <td>11/08/2016</td>\n",
       "      <td>GEN</td>\n",
       "      <td>A</td>\n",
       "      <td>73.0</td>\n",
       "      <td>1</td>\n",
       "      <td>0</td>\n",
       "    </tr>\n",
       "    <tr>\n",
       "      <th>1</th>\n",
       "      <td>1</td>\n",
       "      <td>6399633</td>\n",
       "      <td>DUV</td>\n",
       "      <td>103699536</td>\n",
       "      <td>Nellenbach</td>\n",
       "      <td>Marlene</td>\n",
       "      <td>32223</td>\n",
       "      <td>F</td>\n",
       "      <td>1944-07-04 00:00:00</td>\n",
       "      <td>09/03/1996</td>\n",
       "      <td>NPA</td>\n",
       "      <td>11/04/2014</td>\n",
       "      <td>GEN</td>\n",
       "      <td>A</td>\n",
       "      <td>73.0</td>\n",
       "      <td>0</td>\n",
       "      <td>0</td>\n",
       "    </tr>\n",
       "    <tr>\n",
       "      <th>2</th>\n",
       "      <td>2</td>\n",
       "      <td>5068762</td>\n",
       "      <td>DUV</td>\n",
       "      <td>103823224</td>\n",
       "      <td>YORK</td>\n",
       "      <td>MARTHA</td>\n",
       "      <td>32246</td>\n",
       "      <td>F</td>\n",
       "      <td>1948-02-10 00:00:00</td>\n",
       "      <td>10/05/1992</td>\n",
       "      <td>REP</td>\n",
       "      <td>11/04/2008</td>\n",
       "      <td>GEN</td>\n",
       "      <td>Y</td>\n",
       "      <td>69.0</td>\n",
       "      <td>0</td>\n",
       "      <td>1</td>\n",
       "    </tr>\n",
       "    <tr>\n",
       "      <th>3</th>\n",
       "      <td>3</td>\n",
       "      <td>2390889</td>\n",
       "      <td>CLA</td>\n",
       "      <td>102858200</td>\n",
       "      <td>SUCO</td>\n",
       "      <td>BRANDI</td>\n",
       "      <td>32656</td>\n",
       "      <td>F</td>\n",
       "      <td>1981-09-25 00:00:00</td>\n",
       "      <td>05/16/2000</td>\n",
       "      <td>IDP</td>\n",
       "      <td>11/07/2006</td>\n",
       "      <td>GEN</td>\n",
       "      <td>N</td>\n",
       "      <td>36.0</td>\n",
       "      <td>0</td>\n",
       "      <td>0</td>\n",
       "    </tr>\n",
       "    <tr>\n",
       "      <th>4</th>\n",
       "      <td>4</td>\n",
       "      <td>7092052</td>\n",
       "      <td>DUV</td>\n",
       "      <td>103844317</td>\n",
       "      <td>Amato</td>\n",
       "      <td>Lisa</td>\n",
       "      <td>32250</td>\n",
       "      <td>F</td>\n",
       "      <td>1972-09-14 00:00:00</td>\n",
       "      <td>10/01/2004</td>\n",
       "      <td>DEM</td>\n",
       "      <td>11/04/2008</td>\n",
       "      <td>GEN</td>\n",
       "      <td>Y</td>\n",
       "      <td>45.0</td>\n",
       "      <td>0</td>\n",
       "      <td>1</td>\n",
       "    </tr>\n",
       "  </tbody>\n",
       "</table>\n",
       "</div>"
      ],
      "text/plain": [
       "   Unnamed: 0    index district         id   LAST_NAME FIRST_NAME    zip  \\\n",
       "0           0  4581539      DUV  103746250    Jennings    Barbara  32225   \n",
       "1           1  6399633      DUV  103699536  Nellenbach    Marlene  32223   \n",
       "2           2  5068762      DUV  103823224        YORK     MARTHA  32246   \n",
       "3           3  2390889      CLA  102858200        SUCO     BRANDI  32656   \n",
       "4           4  7092052      DUV  103844317       Amato       Lisa  32250   \n",
       "\n",
       "  female                  dob     regyear party electiondate general  \\\n",
       "0      F  1944-05-23 00:00:00  08/12/2004   REP   11/08/2016     GEN   \n",
       "1      F  1944-07-04 00:00:00  09/03/1996   NPA   11/04/2014     GEN   \n",
       "2      F  1948-02-10 00:00:00  10/05/1992   REP   11/04/2008     GEN   \n",
       "3      F  1981-09-25 00:00:00  05/16/2000   IDP   11/07/2006     GEN   \n",
       "4      F  1972-09-14 00:00:00  10/01/2004   DEM   11/04/2008     GEN   \n",
       "\n",
       "  typeofvote   age  GEN16  GEN14  \n",
       "0          A  73.0      1      0  \n",
       "1          A  73.0      0      0  \n",
       "2          Y  69.0      0      1  \n",
       "3          N  36.0      0      0  \n",
       "4          Y  45.0      0      1  "
      ]
     },
     "execution_count": 44,
     "metadata": {},
     "output_type": "execute_result"
    }
   ],
   "source": [
    "votes.head()"
   ]
  },
  {
   "cell_type": "code",
   "execution_count": 45,
   "metadata": {},
   "outputs": [
    {
     "data": {
      "text/plain": [
       "0"
      ]
     },
     "execution_count": 45,
     "metadata": {},
     "output_type": "execute_result"
    }
   ],
   "source": [
    "np.sum(votes[\"id\"].duplicated())"
   ]
  },
  {
   "cell_type": "code",
   "execution_count": null,
   "metadata": {
    "collapsed": true
   },
   "outputs": [],
   "source": []
  }
 ],
 "metadata": {
  "kernelspec": {
   "display_name": "Python 3",
   "language": "python",
   "name": "python3"
  },
  "language_info": {
   "codemirror_mode": {
    "name": "ipython",
    "version": 3
   },
   "file_extension": ".py",
   "mimetype": "text/x-python",
   "name": "python",
   "nbconvert_exporter": "python",
   "pygments_lexer": "ipython3",
   "version": "3.6.1"
  }
 },
 "nbformat": 4,
 "nbformat_minor": 2
}
