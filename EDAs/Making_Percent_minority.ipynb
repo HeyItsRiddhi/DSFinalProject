{
 "cells": [
  {
   "cell_type": "code",
   "execution_count": 1,
   "metadata": {},
   "outputs": [
    {
     "name": "stderr",
     "output_type": "stream",
     "text": [
      "/anaconda/lib/python3.6/site-packages/statsmodels/compat/pandas.py:56: FutureWarning: The pandas.core.datetools module is deprecated and will be removed in a future version. Please use the pandas.tseries module instead.\n",
      "  from pandas.core import datetools\n",
      "/anaconda/lib/python3.6/site-packages/sklearn/cross_validation.py:44: DeprecationWarning: This module was deprecated in version 0.18 in favor of the model_selection module into which all the refactored classes and functions are moved. Also note that the interface of the new CV iterators are different from that of this module. This module will be removed in 0.20.\n",
      "  \"This module will be removed in 0.20.\", DeprecationWarning)\n"
     ]
    }
   ],
   "source": [
    "import pandas as pd\n",
    "import numpy as np\n",
    "import datetime as DT\n",
    "\n",
    "\n",
    "import numpy as np\n",
    "import pandas as pd\n",
    "from sklearn.preprocessing import PolynomialFeatures\n",
    "from sklearn.neighbors import KNeighborsRegressor as KNN\n",
    "from sklearn.linear_model import RidgeCV\n",
    "from sklearn.linear_model import Ridge\n",
    "from sklearn.linear_model import LinearRegression as Linear\n",
    "from bs4 import BeautifulSoup\n",
    "import urllib\n",
    "import sys\n",
    "import numpy as np\n",
    "import pandas as pd\n",
    "import matplotlib\n",
    "from sklearn.linear_model import RidgeCV\n",
    "from sklearn.linear_model import LassoCV\n",
    "import matplotlib.pyplot as plt\n",
    "from sklearn import linear_model\n",
    "from sklearn.linear_model import LogisticRegressionCV\n",
    "import matplotlib.pyplot as plt\n",
    "import statsmodels.api as sm\n",
    "from statsmodels.tools import add_constant\n",
    "from statsmodels.regression.linear_model import RegressionResults\n",
    "import seaborn as sns\n",
    "import sklearn as sk\n",
    "import collections\n",
    "from collections import Counter\n",
    "from sklearn.preprocessing import MinMaxScaler\n",
    "from sklearn.model_selection import KFold\n",
    "from sklearn import discriminant_analysis\n",
    "from sklearn.decomposition import PCA\n",
    "from sklearn import preprocessing\n",
    "from sklearn.neighbors import KNeighborsClassifier as KNN\n",
    "from sklearn.cross_validation import train_test_split\n",
    "from sklearn.linear_model import LinearRegression\n",
    "from sklearn.linear_model import LogisticRegression\n",
    "from sklearn.linear_model import Ridge\n",
    "from sklearn.linear_model import Lasso\n",
    "from sklearn.preprocessing import PolynomialFeatures\n",
    "from sklearn.neighbors import KNeighborsRegressor\n",
    "from sklearn.decomposition import PCA\n",
    "import sklearn.metrics as metrics\n",
    "from sklearn.preprocessing import PolynomialFeatures\n",
    "from sklearn.discriminant_analysis import LinearDiscriminantAnalysis\n",
    "from sklearn.discriminant_analysis import QuadraticDiscriminantAnalysis\n",
    "from sklearn.neighbors import KNeighborsClassifier\n",
    "from sklearn.tree import DecisionTreeClassifier\n",
    "from sklearn.model_selection import cross_val_score\n",
    "from sklearn import tree\n",
    "import pandas as pd\n",
    "import sys\n",
    "import numpy as np\n",
    "import scipy as sp\n",
    "import matplotlib.pyplot as plt\n",
    "import statsmodels.api as sm\n",
    "from statsmodels.tools import add_constant\n",
    "from statsmodels.regression.linear_model import RegressionResults\n",
    "import seaborn as sns\n",
    "import sklearn as sk\n",
    "from sklearn.preprocessing import MinMaxScaler\n",
    "from sklearn.model_selection import KFold\n",
    "from sklearn.linear_model import LinearRegression\n",
    "from sklearn.linear_model import Ridge\n",
    "from sklearn.linear_model import Lasso\n",
    "from sklearn.preprocessing import PolynomialFeatures\n",
    "from sklearn.neighbors import KNeighborsRegressor\n",
    "from sklearn.decomposition import PCA\n",
    "from sklearn import tree\n",
    "import numpy as np\n",
    "import scipy as sp\n",
    "import matplotlib.pyplot as plt\n",
    "import pandas as pd\n",
    "\n",
    "import seaborn as sns\n",
    "from sklearn import ensemble\n",
    "#import pydotplus\n",
    "#import io\n",
    "import collections\n",
    "from sklearn.tree import export_graphviz\n",
    "from IPython.display import Image\n",
    "from IPython.display import display\n",
    "import matplotlib.pyplot as plt\n",
    "%matplotlib inline\n",
    "\n",
    "import matplotlib\n",
    "import matplotlib.pyplot as plt\n",
    "import matplotlib.cm as cmx\n",
    "import matplotlib.colors as colors\n",
    "import matplotlib.patches as patches"
   ]
  },
  {
   "cell_type": "code",
   "execution_count": 2,
   "metadata": {
    "collapsed": true
   },
   "outputs": [],
   "source": [
    "reg = pd.read_csv(\"age_dataset.csv\", sep=\"\\t\")"
   ]
  },
  {
   "cell_type": "code",
   "execution_count": 3,
   "metadata": {},
   "outputs": [
    {
     "data": {
      "text/html": [
       "<div>\n",
       "<style scoped>\n",
       "    .dataframe tbody tr th:only-of-type {\n",
       "        vertical-align: middle;\n",
       "    }\n",
       "\n",
       "    .dataframe tbody tr th {\n",
       "        vertical-align: top;\n",
       "    }\n",
       "\n",
       "    .dataframe thead th {\n",
       "        text-align: right;\n",
       "    }\n",
       "</style>\n",
       "<table border=\"1\" class=\"dataframe\">\n",
       "  <thead>\n",
       "    <tr style=\"text-align: right;\">\n",
       "      <th></th>\n",
       "      <th>Unnamed: 0</th>\n",
       "      <th>FIRST_NAME</th>\n",
       "      <th>GEN16</th>\n",
       "      <th>LAST_NAME</th>\n",
       "      <th>district</th>\n",
       "      <th>dob</th>\n",
       "      <th>electiondate</th>\n",
       "      <th>female</th>\n",
       "      <th>id</th>\n",
       "      <th>party</th>\n",
       "      <th>regyear</th>\n",
       "      <th>typeofvote</th>\n",
       "      <th>zip</th>\n",
       "      <th>Prediction</th>\n",
       "      <th>Race</th>\n",
       "      <th>age</th>\n",
       "    </tr>\n",
       "  </thead>\n",
       "  <tbody>\n",
       "    <tr>\n",
       "      <th>0</th>\n",
       "      <td>1</td>\n",
       "      <td>Peter</td>\n",
       "      <td>1.0</td>\n",
       "      <td>Smith</td>\n",
       "      <td>MRT</td>\n",
       "      <td>1950-08-17 00:00:00</td>\n",
       "      <td>11/08/2016</td>\n",
       "      <td>M</td>\n",
       "      <td>111768698</td>\n",
       "      <td>REP</td>\n",
       "      <td>06/13/2000</td>\n",
       "      <td>E</td>\n",
       "      <td>34997</td>\n",
       "      <td>Jewish</td>\n",
       "      <td>5</td>\n",
       "      <td>67.0</td>\n",
       "    </tr>\n",
       "    <tr>\n",
       "      <th>1</th>\n",
       "      <td>2</td>\n",
       "      <td>MELANIE</td>\n",
       "      <td>1.0</td>\n",
       "      <td>HERTL</td>\n",
       "      <td>CLA</td>\n",
       "      <td>1982-01-14 00:00:00</td>\n",
       "      <td>11/08/2016</td>\n",
       "      <td>F</td>\n",
       "      <td>102865764</td>\n",
       "      <td>REP</td>\n",
       "      <td>01/09/2001</td>\n",
       "      <td>Y</td>\n",
       "      <td>32073</td>\n",
       "      <td>Western European</td>\n",
       "      <td>5</td>\n",
       "      <td>35.0</td>\n",
       "    </tr>\n",
       "    <tr>\n",
       "      <th>2</th>\n",
       "      <td>3</td>\n",
       "      <td>Nigel</td>\n",
       "      <td>0.0</td>\n",
       "      <td>Williams</td>\n",
       "      <td>HIL</td>\n",
       "      <td>1997-05-13 00:00:00</td>\n",
       "      <td>NaN</td>\n",
       "      <td>M</td>\n",
       "      <td>122514241</td>\n",
       "      <td>DEM</td>\n",
       "      <td>05/15/2015</td>\n",
       "      <td>NaN</td>\n",
       "      <td>336124352</td>\n",
       "      <td>Western European</td>\n",
       "      <td>3</td>\n",
       "      <td>20.0</td>\n",
       "    </tr>\n",
       "    <tr>\n",
       "      <th>3</th>\n",
       "      <td>4</td>\n",
       "      <td>RYAN</td>\n",
       "      <td>1.0</td>\n",
       "      <td>STIMERS</td>\n",
       "      <td>MON</td>\n",
       "      <td>1974-12-01 00:00:00</td>\n",
       "      <td>11/08/2016</td>\n",
       "      <td>M</td>\n",
       "      <td>113936692</td>\n",
       "      <td>NPA</td>\n",
       "      <td>12/18/2001</td>\n",
       "      <td>E</td>\n",
       "      <td>33040</td>\n",
       "      <td>Western European</td>\n",
       "      <td>5</td>\n",
       "      <td>43.0</td>\n",
       "    </tr>\n",
       "    <tr>\n",
       "      <th>4</th>\n",
       "      <td>5</td>\n",
       "      <td>Benny</td>\n",
       "      <td>1.0</td>\n",
       "      <td>Bennett</td>\n",
       "      <td>BAK</td>\n",
       "      <td>1965-09-06 00:00:00</td>\n",
       "      <td>11/08/2016</td>\n",
       "      <td>M</td>\n",
       "      <td>100592058</td>\n",
       "      <td>REP</td>\n",
       "      <td>11/17/1983</td>\n",
       "      <td>Y</td>\n",
       "      <td>32087</td>\n",
       "      <td>Western European</td>\n",
       "      <td>5</td>\n",
       "      <td>52.0</td>\n",
       "    </tr>\n",
       "  </tbody>\n",
       "</table>\n",
       "</div>"
      ],
      "text/plain": [
       "   Unnamed: 0 FIRST_NAME  GEN16 LAST_NAME district                  dob  \\\n",
       "0           1      Peter    1.0     Smith      MRT  1950-08-17 00:00:00   \n",
       "1           2    MELANIE    1.0     HERTL      CLA  1982-01-14 00:00:00   \n",
       "2           3      Nigel    0.0  Williams      HIL  1997-05-13 00:00:00   \n",
       "3           4       RYAN    1.0   STIMERS      MON  1974-12-01 00:00:00   \n",
       "4           5      Benny    1.0   Bennett      BAK  1965-09-06 00:00:00   \n",
       "\n",
       "  electiondate female         id party     regyear typeofvote        zip  \\\n",
       "0   11/08/2016      M  111768698   REP  06/13/2000          E      34997   \n",
       "1   11/08/2016      F  102865764   REP  01/09/2001          Y      32073   \n",
       "2          NaN      M  122514241   DEM  05/15/2015        NaN  336124352   \n",
       "3   11/08/2016      M  113936692   NPA  12/18/2001          E      33040   \n",
       "4   11/08/2016      M  100592058   REP  11/17/1983          Y      32087   \n",
       "\n",
       "         Prediction  Race   age  \n",
       "0            Jewish     5  67.0  \n",
       "1  Western European     5  35.0  \n",
       "2  Western European     3  20.0  \n",
       "3  Western European     5  43.0  \n",
       "4  Western European     5  52.0  "
      ]
     },
     "execution_count": 3,
     "metadata": {},
     "output_type": "execute_result"
    }
   ],
   "source": [
    "reg.head()"
   ]
  },
  {
   "cell_type": "code",
   "execution_count": 5,
   "metadata": {
    "collapsed": true
   },
   "outputs": [],
   "source": [
    "del reg['Unnamed: 0']\n",
    "#del reg['Unnamed: 0.1']\n",
    "\n",
    "#del reg['general']\n",
    "### Because if they didnt vote its a 0 in GEN16\n",
    "#del reg['GEN12']\n",
    "del reg['regyear']"
   ]
  },
  {
   "cell_type": "code",
   "execution_count": 31,
   "metadata": {
    "collapsed": true
   },
   "outputs": [],
   "source": [
    "hispanics = reg[reg[\"Race\"]== 4]"
   ]
  },
  {
   "cell_type": "code",
   "execution_count": 48,
   "metadata": {
    "collapsed": true
   },
   "outputs": [],
   "source": []
  },
  {
   "cell_type": "code",
   "execution_count": 32,
   "metadata": {},
   "outputs": [],
   "source": [
    "hispanics = pd.DataFrame({\"Hispanic\":hispanics['Race'], \"Zip\": hispanics[\"zip\"], \"District\" : hispanics[\"district\"]})"
   ]
  },
  {
   "cell_type": "code",
   "execution_count": 33,
   "metadata": {},
   "outputs": [
    {
     "data": {
      "text/html": [
       "<div>\n",
       "<style scoped>\n",
       "    .dataframe tbody tr th:only-of-type {\n",
       "        vertical-align: middle;\n",
       "    }\n",
       "\n",
       "    .dataframe tbody tr th {\n",
       "        vertical-align: top;\n",
       "    }\n",
       "\n",
       "    .dataframe thead th {\n",
       "        text-align: right;\n",
       "    }\n",
       "</style>\n",
       "<table border=\"1\" class=\"dataframe\">\n",
       "  <thead>\n",
       "    <tr style=\"text-align: right;\">\n",
       "      <th></th>\n",
       "      <th>District</th>\n",
       "      <th>Hispanic</th>\n",
       "      <th>Zip</th>\n",
       "    </tr>\n",
       "  </thead>\n",
       "  <tbody>\n",
       "    <tr>\n",
       "      <th>25</th>\n",
       "      <td>DAD</td>\n",
       "      <td>4</td>\n",
       "      <td>33144</td>\n",
       "    </tr>\n",
       "    <tr>\n",
       "      <th>30</th>\n",
       "      <td>DAD</td>\n",
       "      <td>4</td>\n",
       "      <td>33165</td>\n",
       "    </tr>\n",
       "    <tr>\n",
       "      <th>33</th>\n",
       "      <td>ORA</td>\n",
       "      <td>4</td>\n",
       "      <td>32822</td>\n",
       "    </tr>\n",
       "    <tr>\n",
       "      <th>34</th>\n",
       "      <td>HIL</td>\n",
       "      <td>4</td>\n",
       "      <td>33617</td>\n",
       "    </tr>\n",
       "    <tr>\n",
       "      <th>40</th>\n",
       "      <td>POL</td>\n",
       "      <td>4</td>\n",
       "      <td>33860</td>\n",
       "    </tr>\n",
       "    <tr>\n",
       "      <th>41</th>\n",
       "      <td>DAD</td>\n",
       "      <td>4</td>\n",
       "      <td>33142</td>\n",
       "    </tr>\n",
       "    <tr>\n",
       "      <th>44</th>\n",
       "      <td>PAL</td>\n",
       "      <td>4</td>\n",
       "      <td>33472</td>\n",
       "    </tr>\n",
       "    <tr>\n",
       "      <th>49</th>\n",
       "      <td>BRO</td>\n",
       "      <td>4</td>\n",
       "      <td>330276013</td>\n",
       "    </tr>\n",
       "    <tr>\n",
       "      <th>57</th>\n",
       "      <td>CLL</td>\n",
       "      <td>4</td>\n",
       "      <td>34114</td>\n",
       "    </tr>\n",
       "    <tr>\n",
       "      <th>70</th>\n",
       "      <td>HIL</td>\n",
       "      <td>4</td>\n",
       "      <td>335104160</td>\n",
       "    </tr>\n",
       "    <tr>\n",
       "      <th>73</th>\n",
       "      <td>HIL</td>\n",
       "      <td>4</td>\n",
       "      <td>336245060</td>\n",
       "    </tr>\n",
       "    <tr>\n",
       "      <th>88</th>\n",
       "      <td>DAD</td>\n",
       "      <td>4</td>\n",
       "      <td>33142</td>\n",
       "    </tr>\n",
       "    <tr>\n",
       "      <th>92</th>\n",
       "      <td>HIL</td>\n",
       "      <td>4</td>\n",
       "      <td>33615</td>\n",
       "    </tr>\n",
       "    <tr>\n",
       "      <th>101</th>\n",
       "      <td>DAD</td>\n",
       "      <td>4</td>\n",
       "      <td>33165</td>\n",
       "    </tr>\n",
       "    <tr>\n",
       "      <th>118</th>\n",
       "      <td>DAD</td>\n",
       "      <td>4</td>\n",
       "      <td>33182</td>\n",
       "    </tr>\n",
       "    <tr>\n",
       "      <th>121</th>\n",
       "      <td>DAD</td>\n",
       "      <td>4</td>\n",
       "      <td>33186</td>\n",
       "    </tr>\n",
       "    <tr>\n",
       "      <th>124</th>\n",
       "      <td>ORA</td>\n",
       "      <td>4</td>\n",
       "      <td>34787</td>\n",
       "    </tr>\n",
       "    <tr>\n",
       "      <th>126</th>\n",
       "      <td>BRO</td>\n",
       "      <td>4</td>\n",
       "      <td>33027</td>\n",
       "    </tr>\n",
       "    <tr>\n",
       "      <th>127</th>\n",
       "      <td>BRO</td>\n",
       "      <td>4</td>\n",
       "      <td>33025</td>\n",
       "    </tr>\n",
       "    <tr>\n",
       "      <th>128</th>\n",
       "      <td>DAD</td>\n",
       "      <td>4</td>\n",
       "      <td>33035</td>\n",
       "    </tr>\n",
       "    <tr>\n",
       "      <th>146</th>\n",
       "      <td>DAD</td>\n",
       "      <td>4</td>\n",
       "      <td>33185</td>\n",
       "    </tr>\n",
       "    <tr>\n",
       "      <th>149</th>\n",
       "      <td>DAD</td>\n",
       "      <td>4</td>\n",
       "      <td>33174</td>\n",
       "    </tr>\n",
       "    <tr>\n",
       "      <th>150</th>\n",
       "      <td>BRE</td>\n",
       "      <td>4</td>\n",
       "      <td>329095415</td>\n",
       "    </tr>\n",
       "    <tr>\n",
       "      <th>160</th>\n",
       "      <td>BRO</td>\n",
       "      <td>4</td>\n",
       "      <td>33351</td>\n",
       "    </tr>\n",
       "    <tr>\n",
       "      <th>165</th>\n",
       "      <td>DAD</td>\n",
       "      <td>4</td>\n",
       "      <td>33012</td>\n",
       "    </tr>\n",
       "    <tr>\n",
       "      <th>167</th>\n",
       "      <td>DAD</td>\n",
       "      <td>4</td>\n",
       "      <td>33156</td>\n",
       "    </tr>\n",
       "    <tr>\n",
       "      <th>185</th>\n",
       "      <td>DAD</td>\n",
       "      <td>4</td>\n",
       "      <td>33157</td>\n",
       "    </tr>\n",
       "    <tr>\n",
       "      <th>186</th>\n",
       "      <td>DAD</td>\n",
       "      <td>4</td>\n",
       "      <td>33176</td>\n",
       "    </tr>\n",
       "    <tr>\n",
       "      <th>188</th>\n",
       "      <td>SEM</td>\n",
       "      <td>4</td>\n",
       "      <td>32708</td>\n",
       "    </tr>\n",
       "    <tr>\n",
       "      <th>208</th>\n",
       "      <td>DAD</td>\n",
       "      <td>4</td>\n",
       "      <td>33018</td>\n",
       "    </tr>\n",
       "    <tr>\n",
       "      <th>...</th>\n",
       "      <td>...</td>\n",
       "      <td>...</td>\n",
       "      <td>...</td>\n",
       "    </tr>\n",
       "    <tr>\n",
       "      <th>99827</th>\n",
       "      <td>ORA</td>\n",
       "      <td>4</td>\n",
       "      <td>32839</td>\n",
       "    </tr>\n",
       "    <tr>\n",
       "      <th>99832</th>\n",
       "      <td>GAD</td>\n",
       "      <td>4</td>\n",
       "      <td>32351</td>\n",
       "    </tr>\n",
       "    <tr>\n",
       "      <th>99833</th>\n",
       "      <td>HIL</td>\n",
       "      <td>4</td>\n",
       "      <td>33579</td>\n",
       "    </tr>\n",
       "    <tr>\n",
       "      <th>99836</th>\n",
       "      <td>BRE</td>\n",
       "      <td>4</td>\n",
       "      <td>32909</td>\n",
       "    </tr>\n",
       "    <tr>\n",
       "      <th>99839</th>\n",
       "      <td>SEM</td>\n",
       "      <td>4</td>\n",
       "      <td>32779</td>\n",
       "    </tr>\n",
       "    <tr>\n",
       "      <th>99852</th>\n",
       "      <td>OSC</td>\n",
       "      <td>4</td>\n",
       "      <td>34741</td>\n",
       "    </tr>\n",
       "    <tr>\n",
       "      <th>99853</th>\n",
       "      <td>DAD</td>\n",
       "      <td>4</td>\n",
       "      <td>33165</td>\n",
       "    </tr>\n",
       "    <tr>\n",
       "      <th>99869</th>\n",
       "      <td>BRE</td>\n",
       "      <td>4</td>\n",
       "      <td>32907</td>\n",
       "    </tr>\n",
       "    <tr>\n",
       "      <th>99870</th>\n",
       "      <td>DAD</td>\n",
       "      <td>4</td>\n",
       "      <td>33125</td>\n",
       "    </tr>\n",
       "    <tr>\n",
       "      <th>99874</th>\n",
       "      <td>ORA</td>\n",
       "      <td>4</td>\n",
       "      <td>32807</td>\n",
       "    </tr>\n",
       "    <tr>\n",
       "      <th>99876</th>\n",
       "      <td>DAD</td>\n",
       "      <td>4</td>\n",
       "      <td>33018</td>\n",
       "    </tr>\n",
       "    <tr>\n",
       "      <th>99890</th>\n",
       "      <td>DAD</td>\n",
       "      <td>4</td>\n",
       "      <td>33018</td>\n",
       "    </tr>\n",
       "    <tr>\n",
       "      <th>99891</th>\n",
       "      <td>DAD</td>\n",
       "      <td>4</td>\n",
       "      <td>33032</td>\n",
       "    </tr>\n",
       "    <tr>\n",
       "      <th>99895</th>\n",
       "      <td>DAD</td>\n",
       "      <td>4</td>\n",
       "      <td>33135</td>\n",
       "    </tr>\n",
       "    <tr>\n",
       "      <th>99904</th>\n",
       "      <td>DAD</td>\n",
       "      <td>4</td>\n",
       "      <td>33155</td>\n",
       "    </tr>\n",
       "    <tr>\n",
       "      <th>99911</th>\n",
       "      <td>PAS</td>\n",
       "      <td>4</td>\n",
       "      <td>33544</td>\n",
       "    </tr>\n",
       "    <tr>\n",
       "      <th>99917</th>\n",
       "      <td>DAD</td>\n",
       "      <td>4</td>\n",
       "      <td>331572764</td>\n",
       "    </tr>\n",
       "    <tr>\n",
       "      <th>99921</th>\n",
       "      <td>ORA</td>\n",
       "      <td>4</td>\n",
       "      <td>32712</td>\n",
       "    </tr>\n",
       "    <tr>\n",
       "      <th>99922</th>\n",
       "      <td>BRO</td>\n",
       "      <td>4</td>\n",
       "      <td>330632448</td>\n",
       "    </tr>\n",
       "    <tr>\n",
       "      <th>99926</th>\n",
       "      <td>DAD</td>\n",
       "      <td>4</td>\n",
       "      <td>33012</td>\n",
       "    </tr>\n",
       "    <tr>\n",
       "      <th>99928</th>\n",
       "      <td>DAD</td>\n",
       "      <td>4</td>\n",
       "      <td>33125</td>\n",
       "    </tr>\n",
       "    <tr>\n",
       "      <th>99930</th>\n",
       "      <td>ORA</td>\n",
       "      <td>4</td>\n",
       "      <td>32822</td>\n",
       "    </tr>\n",
       "    <tr>\n",
       "      <th>99933</th>\n",
       "      <td>DAD</td>\n",
       "      <td>4</td>\n",
       "      <td>33174</td>\n",
       "    </tr>\n",
       "    <tr>\n",
       "      <th>99939</th>\n",
       "      <td>ORA</td>\n",
       "      <td>4</td>\n",
       "      <td>32816</td>\n",
       "    </tr>\n",
       "    <tr>\n",
       "      <th>99948</th>\n",
       "      <td>BRO</td>\n",
       "      <td>4</td>\n",
       "      <td>333301900</td>\n",
       "    </tr>\n",
       "    <tr>\n",
       "      <th>99966</th>\n",
       "      <td>DAD</td>\n",
       "      <td>4</td>\n",
       "      <td>33126</td>\n",
       "    </tr>\n",
       "    <tr>\n",
       "      <th>99969</th>\n",
       "      <td>DAD</td>\n",
       "      <td>4</td>\n",
       "      <td>33055</td>\n",
       "    </tr>\n",
       "    <tr>\n",
       "      <th>99972</th>\n",
       "      <td>HIL</td>\n",
       "      <td>4</td>\n",
       "      <td>33626</td>\n",
       "    </tr>\n",
       "    <tr>\n",
       "      <th>99976</th>\n",
       "      <td>DAD</td>\n",
       "      <td>4</td>\n",
       "      <td>33178</td>\n",
       "    </tr>\n",
       "    <tr>\n",
       "      <th>99997</th>\n",
       "      <td>DAD</td>\n",
       "      <td>4</td>\n",
       "      <td>33193</td>\n",
       "    </tr>\n",
       "  </tbody>\n",
       "</table>\n",
       "<p>16181 rows × 3 columns</p>\n",
       "</div>"
      ],
      "text/plain": [
       "      District  Hispanic        Zip\n",
       "25         DAD         4      33144\n",
       "30         DAD         4      33165\n",
       "33         ORA         4      32822\n",
       "34         HIL         4      33617\n",
       "40         POL         4      33860\n",
       "41         DAD         4      33142\n",
       "44         PAL         4      33472\n",
       "49         BRO         4  330276013\n",
       "57         CLL         4      34114\n",
       "70         HIL         4  335104160\n",
       "73         HIL         4  336245060\n",
       "88         DAD         4      33142\n",
       "92         HIL         4      33615\n",
       "101        DAD         4      33165\n",
       "118        DAD         4      33182\n",
       "121        DAD         4      33186\n",
       "124        ORA         4      34787\n",
       "126        BRO         4      33027\n",
       "127        BRO         4      33025\n",
       "128        DAD         4      33035\n",
       "146        DAD         4      33185\n",
       "149        DAD         4      33174\n",
       "150        BRE         4  329095415\n",
       "160        BRO         4      33351\n",
       "165        DAD         4      33012\n",
       "167        DAD         4      33156\n",
       "185        DAD         4      33157\n",
       "186        DAD         4      33176\n",
       "188        SEM         4      32708\n",
       "208        DAD         4      33018\n",
       "...        ...       ...        ...\n",
       "99827      ORA         4      32839\n",
       "99832      GAD         4      32351\n",
       "99833      HIL         4      33579\n",
       "99836      BRE         4      32909\n",
       "99839      SEM         4      32779\n",
       "99852      OSC         4      34741\n",
       "99853      DAD         4      33165\n",
       "99869      BRE         4      32907\n",
       "99870      DAD         4      33125\n",
       "99874      ORA         4      32807\n",
       "99876      DAD         4      33018\n",
       "99890      DAD         4      33018\n",
       "99891      DAD         4      33032\n",
       "99895      DAD         4      33135\n",
       "99904      DAD         4      33155\n",
       "99911      PAS         4      33544\n",
       "99917      DAD         4  331572764\n",
       "99921      ORA         4      32712\n",
       "99922      BRO         4  330632448\n",
       "99926      DAD         4      33012\n",
       "99928      DAD         4      33125\n",
       "99930      ORA         4      32822\n",
       "99933      DAD         4      33174\n",
       "99939      ORA         4      32816\n",
       "99948      BRO         4  333301900\n",
       "99966      DAD         4      33126\n",
       "99969      DAD         4      33055\n",
       "99972      HIL         4      33626\n",
       "99976      DAD         4      33178\n",
       "99997      DAD         4      33193\n",
       "\n",
       "[16181 rows x 3 columns]"
      ]
     },
     "execution_count": 33,
     "metadata": {},
     "output_type": "execute_result"
    }
   ],
   "source": [
    "hispanics"
   ]
  },
  {
   "cell_type": "code",
   "execution_count": null,
   "metadata": {
    "collapsed": true
   },
   "outputs": [],
   "source": []
  },
  {
   "cell_type": "code",
   "execution_count": 38,
   "metadata": {},
   "outputs": [],
   "source": [
    "#newdf.head()\n",
    "total = newdf.groupby('District', as_index=False).agg({\"Race\": \"count\"})"
   ]
  },
  {
   "cell_type": "code",
   "execution_count": 37,
   "metadata": {},
   "outputs": [],
   "source": [
    "#newdf.head()\n",
    "hispanics = hispanics.groupby('District', as_index=False).agg({\"Hispanic\": \"count\"})"
   ]
  },
  {
   "cell_type": "code",
   "execution_count": 39,
   "metadata": {
    "collapsed": true
   },
   "outputs": [],
   "source": [
    "result = pd.merge(hispanics, total, on='District')"
   ]
  },
  {
   "cell_type": "code",
   "execution_count": 45,
   "metadata": {},
   "outputs": [],
   "source": [
    "result['PercentHispanic'] = result['Hispanic']/result['Race']"
   ]
  },
  {
   "cell_type": "code",
   "execution_count": 47,
   "metadata": {},
   "outputs": [],
   "source": [
    "result.to_csv(\"District_percent_Hispanic\")"
   ]
  },
  {
   "cell_type": "code",
   "execution_count": 49,
   "metadata": {
    "collapsed": true
   },
   "outputs": [],
   "source": [
    "hispanics = reg[reg[\"Race\"]== 4]\n",
    "hispanics = pd.DataFrame({\"Hispanic\":hispanics['Race'], \"Zip\": hispanics[\"zip\"], \"District\" : hispanics[\"district\"]})\n",
    "total = newdf.groupby('Zip', as_index=False).agg({\"Race\": \"count\"})\n",
    "hispanics = hispanics.groupby('Zip', as_index=False).agg({\"Hispanic\": \"count\"})\n",
    "result = pd.merge(hispanics, total, on='Zip')\n",
    "result['PercentHispanic'] = result['Hispanic']/result['Race']\n",
    "result['Zip'] = result.Zip.str[0:5]"
   ]
  },
  {
   "cell_type": "code",
   "execution_count": 64,
   "metadata": {},
   "outputs": [],
   "source": [
    "result['Zip'] = result.Zip.str[0:5]"
   ]
  },
  {
   "cell_type": "code",
   "execution_count": 69,
   "metadata": {},
   "outputs": [
    {
     "data": {
      "text/plain": [
       "789"
      ]
     },
     "execution_count": 69,
     "metadata": {},
     "output_type": "execute_result"
    }
   ],
   "source": [
    "len(result['Zip'].unique())"
   ]
  },
  {
   "cell_type": "code",
   "execution_count": 65,
   "metadata": {},
   "outputs": [],
   "source": [
    "result.to_csv(\"zip_percent_Hispanic.csv\", sep=',')"
   ]
  },
  {
   "cell_type": "markdown",
   "metadata": {},
   "source": [
    "# VIZ"
   ]
  },
  {
   "cell_type": "code",
   "execution_count": 116,
   "metadata": {},
   "outputs": [
    {
     "name": "stderr",
     "output_type": "stream",
     "text": [
      "/anaconda/lib/python3.6/site-packages/IPython/core/interactiveshell.py:2717: DtypeWarning: Columns (8,10,14) have mixed types. Specify dtype option on import or set low_memory=False.\n",
      "  interactivity=interactivity, compiler=compiler, result=result)\n"
     ]
    }
   ],
   "source": [
    "reg = pd.read_csv(\"FINALDOC2016.csv\", sep=\"\\t\") "
   ]
  },
  {
   "cell_type": "code",
   "execution_count": 122,
   "metadata": {},
   "outputs": [],
   "source": [
    "remove = (['Unnamed: 0', 'Unnamed: 0.1', 'FIRST_NAME', 'GEN12', 'GEN16',\n",
    "       'LAST_NAME', 'dob', 'electiondate', 'female', 'general',\n",
    "       'party', 'regyear', 'typeofvote', 'unamed'])\n",
    "\n",
    "reg.drop(remove, axis = 1, inplace = True)"
   ]
  },
  {
   "cell_type": "code",
   "execution_count": 124,
   "metadata": {
    "collapsed": true
   },
   "outputs": [],
   "source": [
    "racename = pd.read_csv(\"_race_name_ID_.csv\", sep=\"\\t\") "
   ]
  },
  {
   "cell_type": "code",
   "execution_count": 127,
   "metadata": {},
   "outputs": [],
   "source": [
    "racename['id'] = racename['2']"
   ]
  },
  {
   "cell_type": "code",
   "execution_count": 129,
   "metadata": {},
   "outputs": [],
   "source": [
    "datamodelwRACE = pd.merge(reg, racename, on='id', how='inner')"
   ]
  },
  {
   "cell_type": "code",
   "execution_count": 130,
   "metadata": {
    "collapsed": true
   },
   "outputs": [],
   "source": [
    "datamodelwRACE['Race'] = datamodelwRACE['19']"
   ]
  },
  {
   "cell_type": "code",
   "execution_count": 132,
   "metadata": {},
   "outputs": [],
   "source": [
    "Nonwhite = datamodelwRACE[datamodelwRACE[\"Race\"]!= 5]\n",
    "\n",
    "#Nonwhite.columns\n"
   ]
  },
  {
   "cell_type": "code",
   "execution_count": 138,
   "metadata": {},
   "outputs": [
    {
     "data": {
      "text/plain": [
       "Index(['district', 'id', 'zip', 'Unnamed: 0', '2', '3', '4', '19', 'Race',\n",
       "       'minority'],\n",
       "      dtype='object')"
      ]
     },
     "execution_count": 138,
     "metadata": {},
     "output_type": "execute_result"
    }
   ],
   "source": [
    "Nonwhite.columns"
   ]
  },
  {
   "cell_type": "code",
   "execution_count": 135,
   "metadata": {},
   "outputs": [
    {
     "name": "stderr",
     "output_type": "stream",
     "text": [
      "/anaconda/lib/python3.6/site-packages/ipykernel_launcher.py:1: SettingWithCopyWarning: \n",
      "A value is trying to be set on a copy of a slice from a DataFrame.\n",
      "Try using .loc[row_indexer,col_indexer] = value instead\n",
      "\n",
      "See the caveats in the documentation: http://pandas.pydata.org/pandas-docs/stable/indexing.html#indexing-view-versus-copy\n",
      "  \"\"\"Entry point for launching an IPython kernel.\n"
     ]
    }
   ],
   "source": [
    "Nonwhite['zip'] = Nonwhite.zip.str[0:5]\n",
    "datamodelwRACE['zip'] = datamodelwRACE.zip.str[0:5]"
   ]
  },
  {
   "cell_type": "code",
   "execution_count": 137,
   "metadata": {},
   "outputs": [
    {
     "name": "stderr",
     "output_type": "stream",
     "text": [
      "/anaconda/lib/python3.6/site-packages/ipykernel_launcher.py:1: SettingWithCopyWarning: \n",
      "A value is trying to be set on a copy of a slice from a DataFrame.\n",
      "Try using .loc[row_indexer,col_indexer] = value instead\n",
      "\n",
      "See the caveats in the documentation: http://pandas.pydata.org/pandas-docs/stable/indexing.html#indexing-view-versus-copy\n",
      "  \"\"\"Entry point for launching an IPython kernel.\n"
     ]
    }
   ],
   "source": [
    "Nonwhite['minority'] = Nonwhite['Race'] "
   ]
  },
  {
   "cell_type": "code",
   "execution_count": 139,
   "metadata": {},
   "outputs": [],
   "source": [
    "datamodelwRACE = datamodelwRACE.groupby('zip', as_index=False).agg({\"Race\": \"count\"})\n",
    "Nonwhite = Nonwhite.groupby('zip', as_index=False).agg({\"minority\": \"count\"})\n"
   ]
  },
  {
   "cell_type": "code",
   "execution_count": 141,
   "metadata": {},
   "outputs": [],
   "source": [
    "result = pd.merge(Nonwhite, datamodelwRACE, on='zip')\n",
    "result['PercentNonwhite'] = result['minority']/result['Race']"
   ]
  },
  {
   "cell_type": "code",
   "execution_count": 142,
   "metadata": {},
   "outputs": [
    {
     "data": {
      "text/html": [
       "<div>\n",
       "<style scoped>\n",
       "    .dataframe tbody tr th:only-of-type {\n",
       "        vertical-align: middle;\n",
       "    }\n",
       "\n",
       "    .dataframe tbody tr th {\n",
       "        vertical-align: top;\n",
       "    }\n",
       "\n",
       "    .dataframe thead th {\n",
       "        text-align: right;\n",
       "    }\n",
       "</style>\n",
       "<table border=\"1\" class=\"dataframe\">\n",
       "  <thead>\n",
       "    <tr style=\"text-align: right;\">\n",
       "      <th></th>\n",
       "      <th>zip</th>\n",
       "      <th>minority</th>\n",
       "      <th>Race</th>\n",
       "      <th>PercentNonwhite</th>\n",
       "    </tr>\n",
       "  </thead>\n",
       "  <tbody>\n",
       "    <tr>\n",
       "      <th>0</th>\n",
       "      <td>*</td>\n",
       "      <td>11260</td>\n",
       "      <td>49728</td>\n",
       "      <td>0.226432</td>\n",
       "    </tr>\n",
       "    <tr>\n",
       "      <th>1</th>\n",
       "      <td>32000</td>\n",
       "      <td>1</td>\n",
       "      <td>2</td>\n",
       "      <td>0.500000</td>\n",
       "    </tr>\n",
       "    <tr>\n",
       "      <th>2</th>\n",
       "      <td>32003</td>\n",
       "      <td>2968</td>\n",
       "      <td>19320</td>\n",
       "      <td>0.153623</td>\n",
       "    </tr>\n",
       "    <tr>\n",
       "      <th>3</th>\n",
       "      <td>32008</td>\n",
       "      <td>126</td>\n",
       "      <td>3065</td>\n",
       "      <td>0.041109</td>\n",
       "    </tr>\n",
       "    <tr>\n",
       "      <th>4</th>\n",
       "      <td>32009</td>\n",
       "      <td>109</td>\n",
       "      <td>2032</td>\n",
       "      <td>0.053642</td>\n",
       "    </tr>\n",
       "    <tr>\n",
       "      <th>5</th>\n",
       "      <td>32011</td>\n",
       "      <td>756</td>\n",
       "      <td>9201</td>\n",
       "      <td>0.082165</td>\n",
       "    </tr>\n",
       "    <tr>\n",
       "      <th>6</th>\n",
       "      <td>32024</td>\n",
       "      <td>1284</td>\n",
       "      <td>10571</td>\n",
       "      <td>0.121464</td>\n",
       "    </tr>\n",
       "    <tr>\n",
       "      <th>7</th>\n",
       "      <td>32025</td>\n",
       "      <td>1836</td>\n",
       "      <td>9438</td>\n",
       "      <td>0.194533</td>\n",
       "    </tr>\n",
       "    <tr>\n",
       "      <th>8</th>\n",
       "      <td>32033</td>\n",
       "      <td>388</td>\n",
       "      <td>3221</td>\n",
       "      <td>0.120459</td>\n",
       "    </tr>\n",
       "    <tr>\n",
       "      <th>9</th>\n",
       "      <td>32034</td>\n",
       "      <td>2504</td>\n",
       "      <td>24679</td>\n",
       "      <td>0.101463</td>\n",
       "    </tr>\n",
       "    <tr>\n",
       "      <th>10</th>\n",
       "      <td>32038</td>\n",
       "      <td>663</td>\n",
       "      <td>5208</td>\n",
       "      <td>0.127304</td>\n",
       "    </tr>\n",
       "    <tr>\n",
       "      <th>11</th>\n",
       "      <td>32040</td>\n",
       "      <td>368</td>\n",
       "      <td>4380</td>\n",
       "      <td>0.084018</td>\n",
       "    </tr>\n",
       "    <tr>\n",
       "      <th>12</th>\n",
       "      <td>32043</td>\n",
       "      <td>2534</td>\n",
       "      <td>19027</td>\n",
       "      <td>0.133179</td>\n",
       "    </tr>\n",
       "    <tr>\n",
       "      <th>13</th>\n",
       "      <td>32044</td>\n",
       "      <td>73</td>\n",
       "      <td>1000</td>\n",
       "      <td>0.073000</td>\n",
       "    </tr>\n",
       "    <tr>\n",
       "      <th>14</th>\n",
       "      <td>32046</td>\n",
       "      <td>453</td>\n",
       "      <td>5450</td>\n",
       "      <td>0.083119</td>\n",
       "    </tr>\n",
       "    <tr>\n",
       "      <th>15</th>\n",
       "      <td>32052</td>\n",
       "      <td>1064</td>\n",
       "      <td>3403</td>\n",
       "      <td>0.312665</td>\n",
       "    </tr>\n",
       "    <tr>\n",
       "      <th>16</th>\n",
       "      <td>32053</td>\n",
       "      <td>486</td>\n",
       "      <td>1911</td>\n",
       "      <td>0.254317</td>\n",
       "    </tr>\n",
       "    <tr>\n",
       "      <th>17</th>\n",
       "      <td>32054</td>\n",
       "      <td>656</td>\n",
       "      <td>5655</td>\n",
       "      <td>0.116004</td>\n",
       "    </tr>\n",
       "    <tr>\n",
       "      <th>18</th>\n",
       "      <td>32055</td>\n",
       "      <td>2647</td>\n",
       "      <td>8157</td>\n",
       "      <td>0.324507</td>\n",
       "    </tr>\n",
       "    <tr>\n",
       "      <th>19</th>\n",
       "      <td>32058</td>\n",
       "      <td>373</td>\n",
       "      <td>2158</td>\n",
       "      <td>0.172845</td>\n",
       "    </tr>\n",
       "    <tr>\n",
       "      <th>20</th>\n",
       "      <td>32059</td>\n",
       "      <td>167</td>\n",
       "      <td>1429</td>\n",
       "      <td>0.116865</td>\n",
       "    </tr>\n",
       "    <tr>\n",
       "      <th>21</th>\n",
       "      <td>32060</td>\n",
       "      <td>1214</td>\n",
       "      <td>11199</td>\n",
       "      <td>0.108403</td>\n",
       "    </tr>\n",
       "    <tr>\n",
       "      <th>22</th>\n",
       "      <td>32061</td>\n",
       "      <td>6</td>\n",
       "      <td>163</td>\n",
       "      <td>0.036810</td>\n",
       "    </tr>\n",
       "    <tr>\n",
       "      <th>23</th>\n",
       "      <td>32062</td>\n",
       "      <td>142</td>\n",
       "      <td>1500</td>\n",
       "      <td>0.094667</td>\n",
       "    </tr>\n",
       "    <tr>\n",
       "      <th>24</th>\n",
       "      <td>32063</td>\n",
       "      <td>846</td>\n",
       "      <td>7003</td>\n",
       "      <td>0.120805</td>\n",
       "    </tr>\n",
       "    <tr>\n",
       "      <th>25</th>\n",
       "      <td>32064</td>\n",
       "      <td>1116</td>\n",
       "      <td>2783</td>\n",
       "      <td>0.401006</td>\n",
       "    </tr>\n",
       "    <tr>\n",
       "      <th>26</th>\n",
       "      <td>32065</td>\n",
       "      <td>7337</td>\n",
       "      <td>20697</td>\n",
       "      <td>0.354496</td>\n",
       "    </tr>\n",
       "    <tr>\n",
       "      <th>27</th>\n",
       "      <td>32066</td>\n",
       "      <td>299</td>\n",
       "      <td>2836</td>\n",
       "      <td>0.105430</td>\n",
       "    </tr>\n",
       "    <tr>\n",
       "      <th>28</th>\n",
       "      <td>32068</td>\n",
       "      <td>5472</td>\n",
       "      <td>31761</td>\n",
       "      <td>0.172287</td>\n",
       "    </tr>\n",
       "    <tr>\n",
       "      <th>29</th>\n",
       "      <td>32071</td>\n",
       "      <td>156</td>\n",
       "      <td>2109</td>\n",
       "      <td>0.073969</td>\n",
       "    </tr>\n",
       "    <tr>\n",
       "      <th>...</th>\n",
       "      <td>...</td>\n",
       "      <td>...</td>\n",
       "      <td>...</td>\n",
       "      <td>...</td>\n",
       "    </tr>\n",
       "    <tr>\n",
       "      <th>967</th>\n",
       "      <td>34772</td>\n",
       "      <td>6678</td>\n",
       "      <td>16183</td>\n",
       "      <td>0.412655</td>\n",
       "    </tr>\n",
       "    <tr>\n",
       "      <th>968</th>\n",
       "      <td>34773</td>\n",
       "      <td>429</td>\n",
       "      <td>2097</td>\n",
       "      <td>0.204578</td>\n",
       "    </tr>\n",
       "    <tr>\n",
       "      <th>969</th>\n",
       "      <td>34785</td>\n",
       "      <td>1659</td>\n",
       "      <td>6609</td>\n",
       "      <td>0.251021</td>\n",
       "    </tr>\n",
       "    <tr>\n",
       "      <th>970</th>\n",
       "      <td>34786</td>\n",
       "      <td>6920</td>\n",
       "      <td>22826</td>\n",
       "      <td>0.303163</td>\n",
       "    </tr>\n",
       "    <tr>\n",
       "      <th>971</th>\n",
       "      <td>34787</td>\n",
       "      <td>12265</td>\n",
       "      <td>35240</td>\n",
       "      <td>0.348042</td>\n",
       "    </tr>\n",
       "    <tr>\n",
       "      <th>972</th>\n",
       "      <td>34788</td>\n",
       "      <td>1030</td>\n",
       "      <td>10421</td>\n",
       "      <td>0.098839</td>\n",
       "    </tr>\n",
       "    <tr>\n",
       "      <th>973</th>\n",
       "      <td>34797</td>\n",
       "      <td>114</td>\n",
       "      <td>913</td>\n",
       "      <td>0.124863</td>\n",
       "    </tr>\n",
       "    <tr>\n",
       "      <th>974</th>\n",
       "      <td>34945</td>\n",
       "      <td>348</td>\n",
       "      <td>2362</td>\n",
       "      <td>0.147333</td>\n",
       "    </tr>\n",
       "    <tr>\n",
       "      <th>975</th>\n",
       "      <td>34946</td>\n",
       "      <td>2052</td>\n",
       "      <td>3425</td>\n",
       "      <td>0.599124</td>\n",
       "    </tr>\n",
       "    <tr>\n",
       "      <th>976</th>\n",
       "      <td>34947</td>\n",
       "      <td>4213</td>\n",
       "      <td>5592</td>\n",
       "      <td>0.753398</td>\n",
       "    </tr>\n",
       "    <tr>\n",
       "      <th>977</th>\n",
       "      <td>34949</td>\n",
       "      <td>392</td>\n",
       "      <td>5738</td>\n",
       "      <td>0.068316</td>\n",
       "    </tr>\n",
       "    <tr>\n",
       "      <th>978</th>\n",
       "      <td>34950</td>\n",
       "      <td>4364</td>\n",
       "      <td>6186</td>\n",
       "      <td>0.705464</td>\n",
       "    </tr>\n",
       "    <tr>\n",
       "      <th>979</th>\n",
       "      <td>34951</td>\n",
       "      <td>1289</td>\n",
       "      <td>8827</td>\n",
       "      <td>0.146029</td>\n",
       "    </tr>\n",
       "    <tr>\n",
       "      <th>980</th>\n",
       "      <td>34952</td>\n",
       "      <td>5585</td>\n",
       "      <td>24257</td>\n",
       "      <td>0.230243</td>\n",
       "    </tr>\n",
       "    <tr>\n",
       "      <th>981</th>\n",
       "      <td>34953</td>\n",
       "      <td>15715</td>\n",
       "      <td>36927</td>\n",
       "      <td>0.425569</td>\n",
       "    </tr>\n",
       "    <tr>\n",
       "      <th>982</th>\n",
       "      <td>34956</td>\n",
       "      <td>1298</td>\n",
       "      <td>2552</td>\n",
       "      <td>0.508621</td>\n",
       "    </tr>\n",
       "    <tr>\n",
       "      <th>983</th>\n",
       "      <td>34957</td>\n",
       "      <td>1197</td>\n",
       "      <td>15452</td>\n",
       "      <td>0.077466</td>\n",
       "    </tr>\n",
       "    <tr>\n",
       "      <th>984</th>\n",
       "      <td>34972</td>\n",
       "      <td>1935</td>\n",
       "      <td>6698</td>\n",
       "      <td>0.288892</td>\n",
       "    </tr>\n",
       "    <tr>\n",
       "      <th>985</th>\n",
       "      <td>34974</td>\n",
       "      <td>1343</td>\n",
       "      <td>11482</td>\n",
       "      <td>0.116966</td>\n",
       "    </tr>\n",
       "    <tr>\n",
       "      <th>986</th>\n",
       "      <td>34981</td>\n",
       "      <td>572</td>\n",
       "      <td>2275</td>\n",
       "      <td>0.251429</td>\n",
       "    </tr>\n",
       "    <tr>\n",
       "      <th>987</th>\n",
       "      <td>34982</td>\n",
       "      <td>3315</td>\n",
       "      <td>12976</td>\n",
       "      <td>0.255472</td>\n",
       "    </tr>\n",
       "    <tr>\n",
       "      <th>988</th>\n",
       "      <td>34983</td>\n",
       "      <td>7726</td>\n",
       "      <td>22855</td>\n",
       "      <td>0.338044</td>\n",
       "    </tr>\n",
       "    <tr>\n",
       "      <th>989</th>\n",
       "      <td>34984</td>\n",
       "      <td>2881</td>\n",
       "      <td>8761</td>\n",
       "      <td>0.328844</td>\n",
       "    </tr>\n",
       "    <tr>\n",
       "      <th>990</th>\n",
       "      <td>34986</td>\n",
       "      <td>4822</td>\n",
       "      <td>18296</td>\n",
       "      <td>0.263555</td>\n",
       "    </tr>\n",
       "    <tr>\n",
       "      <th>991</th>\n",
       "      <td>34987</td>\n",
       "      <td>1384</td>\n",
       "      <td>6310</td>\n",
       "      <td>0.219334</td>\n",
       "    </tr>\n",
       "    <tr>\n",
       "      <th>992</th>\n",
       "      <td>34990</td>\n",
       "      <td>1637</td>\n",
       "      <td>21300</td>\n",
       "      <td>0.076854</td>\n",
       "    </tr>\n",
       "    <tr>\n",
       "      <th>993</th>\n",
       "      <td>34994</td>\n",
       "      <td>1547</td>\n",
       "      <td>9542</td>\n",
       "      <td>0.162125</td>\n",
       "    </tr>\n",
       "    <tr>\n",
       "      <th>994</th>\n",
       "      <td>34996</td>\n",
       "      <td>466</td>\n",
       "      <td>7568</td>\n",
       "      <td>0.061575</td>\n",
       "    </tr>\n",
       "    <tr>\n",
       "      <th>995</th>\n",
       "      <td>34997</td>\n",
       "      <td>3220</td>\n",
       "      <td>26692</td>\n",
       "      <td>0.120635</td>\n",
       "    </tr>\n",
       "    <tr>\n",
       "      <th>996</th>\n",
       "      <td>99999</td>\n",
       "      <td>375</td>\n",
       "      <td>1008</td>\n",
       "      <td>0.372024</td>\n",
       "    </tr>\n",
       "  </tbody>\n",
       "</table>\n",
       "<p>997 rows × 4 columns</p>\n",
       "</div>"
      ],
      "text/plain": [
       "       zip  minority   Race  PercentNonwhite\n",
       "0        *     11260  49728         0.226432\n",
       "1    32000         1      2         0.500000\n",
       "2    32003      2968  19320         0.153623\n",
       "3    32008       126   3065         0.041109\n",
       "4    32009       109   2032         0.053642\n",
       "5    32011       756   9201         0.082165\n",
       "6    32024      1284  10571         0.121464\n",
       "7    32025      1836   9438         0.194533\n",
       "8    32033       388   3221         0.120459\n",
       "9    32034      2504  24679         0.101463\n",
       "10   32038       663   5208         0.127304\n",
       "11   32040       368   4380         0.084018\n",
       "12   32043      2534  19027         0.133179\n",
       "13   32044        73   1000         0.073000\n",
       "14   32046       453   5450         0.083119\n",
       "15   32052      1064   3403         0.312665\n",
       "16   32053       486   1911         0.254317\n",
       "17   32054       656   5655         0.116004\n",
       "18   32055      2647   8157         0.324507\n",
       "19   32058       373   2158         0.172845\n",
       "20   32059       167   1429         0.116865\n",
       "21   32060      1214  11199         0.108403\n",
       "22   32061         6    163         0.036810\n",
       "23   32062       142   1500         0.094667\n",
       "24   32063       846   7003         0.120805\n",
       "25   32064      1116   2783         0.401006\n",
       "26   32065      7337  20697         0.354496\n",
       "27   32066       299   2836         0.105430\n",
       "28   32068      5472  31761         0.172287\n",
       "29   32071       156   2109         0.073969\n",
       "..     ...       ...    ...              ...\n",
       "967  34772      6678  16183         0.412655\n",
       "968  34773       429   2097         0.204578\n",
       "969  34785      1659   6609         0.251021\n",
       "970  34786      6920  22826         0.303163\n",
       "971  34787     12265  35240         0.348042\n",
       "972  34788      1030  10421         0.098839\n",
       "973  34797       114    913         0.124863\n",
       "974  34945       348   2362         0.147333\n",
       "975  34946      2052   3425         0.599124\n",
       "976  34947      4213   5592         0.753398\n",
       "977  34949       392   5738         0.068316\n",
       "978  34950      4364   6186         0.705464\n",
       "979  34951      1289   8827         0.146029\n",
       "980  34952      5585  24257         0.230243\n",
       "981  34953     15715  36927         0.425569\n",
       "982  34956      1298   2552         0.508621\n",
       "983  34957      1197  15452         0.077466\n",
       "984  34972      1935   6698         0.288892\n",
       "985  34974      1343  11482         0.116966\n",
       "986  34981       572   2275         0.251429\n",
       "987  34982      3315  12976         0.255472\n",
       "988  34983      7726  22855         0.338044\n",
       "989  34984      2881   8761         0.328844\n",
       "990  34986      4822  18296         0.263555\n",
       "991  34987      1384   6310         0.219334\n",
       "992  34990      1637  21300         0.076854\n",
       "993  34994      1547   9542         0.162125\n",
       "994  34996       466   7568         0.061575\n",
       "995  34997      3220  26692         0.120635\n",
       "996  99999       375   1008         0.372024\n",
       "\n",
       "[997 rows x 4 columns]"
      ]
     },
     "execution_count": 142,
     "metadata": {},
     "output_type": "execute_result"
    }
   ],
   "source": [
    "result"
   ]
  },
  {
   "cell_type": "code",
   "execution_count": 144,
   "metadata": {
    "collapsed": true
   },
   "outputs": [],
   "source": [
    "result.to_csv(\"zip_percent_Nonwhitezip0000.csv\", sep=',')"
   ]
  },
  {
   "cell_type": "code",
   "execution_count": 146,
   "metadata": {},
   "outputs": [
    {
     "data": {
      "text/plain": [
       "11483600"
      ]
     },
     "execution_count": 146,
     "metadata": {},
     "output_type": "execute_result"
    }
   ],
   "source": []
  },
  {
   "cell_type": "code",
   "execution_count": 23,
   "metadata": {},
   "outputs": [
    {
     "name": "stdout",
     "output_type": "stream",
     "text": [
      "Index(['FIRST_NAME', 'GEN16', 'LAST_NAME', 'district', 'dob', 'electiondate',\n",
      "       'female', 'id', 'party', 'regyear', 'typeofvote', 'zip', 'Prediction',\n",
      "       'Race', 'age'],\n",
      "      dtype='object') [2, 0, 2, 0, 431, 16297, 10, 0, 0, 0, 16297, 5, 2, 0, 431]\n"
     ]
    }
   ],
   "source": [
    "print(reg.columns, reg.isnull().sum(axis=0).tolist())"
   ]
  },
  {
   "cell_type": "code",
   "execution_count": null,
   "metadata": {
    "collapsed": true
   },
   "outputs": [],
   "source": [
    "## 431 DOB are Nan or missing of 100K"
   ]
  },
  {
   "cell_type": "code",
   "execution_count": 10,
   "metadata": {
    "collapsed": true
   },
   "outputs": [],
   "source": [
    "reg['femaleis1'] = 0\n",
    "\n",
    "reg.loc[(reg['female'] == \"F\"),'femaleis1'] = \"1\""
   ]
  },
  {
   "cell_type": "code",
   "execution_count": 26,
   "metadata": {},
   "outputs": [
    {
     "data": {
      "text/html": [
       "<div>\n",
       "<style scoped>\n",
       "    .dataframe tbody tr th:only-of-type {\n",
       "        vertical-align: middle;\n",
       "    }\n",
       "\n",
       "    .dataframe tbody tr th {\n",
       "        vertical-align: top;\n",
       "    }\n",
       "\n",
       "    .dataframe thead th {\n",
       "        text-align: right;\n",
       "    }\n",
       "</style>\n",
       "<table border=\"1\" class=\"dataframe\">\n",
       "  <thead>\n",
       "    <tr style=\"text-align: right;\">\n",
       "      <th></th>\n",
       "      <th>FIRST_NAME</th>\n",
       "      <th>GEN16</th>\n",
       "      <th>LAST_NAME</th>\n",
       "      <th>district</th>\n",
       "      <th>dob</th>\n",
       "      <th>electiondate</th>\n",
       "      <th>female</th>\n",
       "      <th>id</th>\n",
       "      <th>party</th>\n",
       "      <th>regyear</th>\n",
       "      <th>typeofvote</th>\n",
       "      <th>zip</th>\n",
       "      <th>Prediction</th>\n",
       "      <th>Race</th>\n",
       "      <th>age</th>\n",
       "    </tr>\n",
       "  </thead>\n",
       "  <tbody>\n",
       "    <tr>\n",
       "      <th>0</th>\n",
       "      <td>Peter</td>\n",
       "      <td>1.0</td>\n",
       "      <td>Smith</td>\n",
       "      <td>MRT</td>\n",
       "      <td>1950-08-17 00:00:00</td>\n",
       "      <td>11/08/2016</td>\n",
       "      <td>M</td>\n",
       "      <td>111768698</td>\n",
       "      <td>REP</td>\n",
       "      <td>06/13/2000</td>\n",
       "      <td>E</td>\n",
       "      <td>34997</td>\n",
       "      <td>Jewish</td>\n",
       "      <td>5</td>\n",
       "      <td>67.0</td>\n",
       "    </tr>\n",
       "    <tr>\n",
       "      <th>1</th>\n",
       "      <td>MELANIE</td>\n",
       "      <td>1.0</td>\n",
       "      <td>HERTL</td>\n",
       "      <td>CLA</td>\n",
       "      <td>1982-01-14 00:00:00</td>\n",
       "      <td>11/08/2016</td>\n",
       "      <td>F</td>\n",
       "      <td>102865764</td>\n",
       "      <td>REP</td>\n",
       "      <td>01/09/2001</td>\n",
       "      <td>Y</td>\n",
       "      <td>32073</td>\n",
       "      <td>Western European</td>\n",
       "      <td>5</td>\n",
       "      <td>35.0</td>\n",
       "    </tr>\n",
       "    <tr>\n",
       "      <th>2</th>\n",
       "      <td>Nigel</td>\n",
       "      <td>0.0</td>\n",
       "      <td>Williams</td>\n",
       "      <td>HIL</td>\n",
       "      <td>1997-05-13 00:00:00</td>\n",
       "      <td>NaN</td>\n",
       "      <td>M</td>\n",
       "      <td>122514241</td>\n",
       "      <td>DEM</td>\n",
       "      <td>05/15/2015</td>\n",
       "      <td>NaN</td>\n",
       "      <td>336124352</td>\n",
       "      <td>Western European</td>\n",
       "      <td>3</td>\n",
       "      <td>20.0</td>\n",
       "    </tr>\n",
       "    <tr>\n",
       "      <th>3</th>\n",
       "      <td>RYAN</td>\n",
       "      <td>1.0</td>\n",
       "      <td>STIMERS</td>\n",
       "      <td>MON</td>\n",
       "      <td>1974-12-01 00:00:00</td>\n",
       "      <td>11/08/2016</td>\n",
       "      <td>M</td>\n",
       "      <td>113936692</td>\n",
       "      <td>NPA</td>\n",
       "      <td>12/18/2001</td>\n",
       "      <td>E</td>\n",
       "      <td>33040</td>\n",
       "      <td>Western European</td>\n",
       "      <td>5</td>\n",
       "      <td>43.0</td>\n",
       "    </tr>\n",
       "    <tr>\n",
       "      <th>4</th>\n",
       "      <td>Benny</td>\n",
       "      <td>1.0</td>\n",
       "      <td>Bennett</td>\n",
       "      <td>BAK</td>\n",
       "      <td>1965-09-06 00:00:00</td>\n",
       "      <td>11/08/2016</td>\n",
       "      <td>M</td>\n",
       "      <td>100592058</td>\n",
       "      <td>REP</td>\n",
       "      <td>11/17/1983</td>\n",
       "      <td>Y</td>\n",
       "      <td>32087</td>\n",
       "      <td>Western European</td>\n",
       "      <td>5</td>\n",
       "      <td>52.0</td>\n",
       "    </tr>\n",
       "  </tbody>\n",
       "</table>\n",
       "</div>"
      ],
      "text/plain": [
       "  FIRST_NAME  GEN16 LAST_NAME district                  dob electiondate  \\\n",
       "0      Peter    1.0     Smith      MRT  1950-08-17 00:00:00   11/08/2016   \n",
       "1    MELANIE    1.0     HERTL      CLA  1982-01-14 00:00:00   11/08/2016   \n",
       "2      Nigel    0.0  Williams      HIL  1997-05-13 00:00:00          NaN   \n",
       "3       RYAN    1.0   STIMERS      MON  1974-12-01 00:00:00   11/08/2016   \n",
       "4      Benny    1.0   Bennett      BAK  1965-09-06 00:00:00   11/08/2016   \n",
       "\n",
       "  female         id party     regyear typeofvote        zip        Prediction  \\\n",
       "0      M  111768698   REP  06/13/2000          E      34997            Jewish   \n",
       "1      F  102865764   REP  01/09/2001          Y      32073  Western European   \n",
       "2      M  122514241   DEM  05/15/2015        NaN  336124352  Western European   \n",
       "3      M  113936692   NPA  12/18/2001          E      33040  Western European   \n",
       "4      M  100592058   REP  11/17/1983          Y      32087  Western European   \n",
       "\n",
       "   Race   age  \n",
       "0     5  67.0  \n",
       "1     5  35.0  \n",
       "2     3  20.0  \n",
       "3     5  43.0  \n",
       "4     5  52.0  "
      ]
     },
     "execution_count": 26,
     "metadata": {},
     "output_type": "execute_result"
    }
   ],
   "source": [
    "reg.head()"
   ]
  },
  {
   "cell_type": "code",
   "execution_count": 27,
   "metadata": {
    "collapsed": true
   },
   "outputs": [],
   "source": [
    "remove = ['FIRST_NAME', 'LAST_NAME', 'dob', 'electiondate',\n",
    "       'female', 'id', 'regyear', 'typeofvote', 'zip']\n",
    "        \n",
    "reg.drop(remove, axis = 1, inplace = True)"
   ]
  },
  {
   "cell_type": "code",
   "execution_count": 38,
   "metadata": {},
   "outputs": [
    {
     "data": {
      "text/html": [
       "<div>\n",
       "<style scoped>\n",
       "    .dataframe tbody tr th:only-of-type {\n",
       "        vertical-align: middle;\n",
       "    }\n",
       "\n",
       "    .dataframe tbody tr th {\n",
       "        vertical-align: top;\n",
       "    }\n",
       "\n",
       "    .dataframe thead th {\n",
       "        text-align: right;\n",
       "    }\n",
       "</style>\n",
       "<table border=\"1\" class=\"dataframe\">\n",
       "  <thead>\n",
       "    <tr style=\"text-align: right;\">\n",
       "      <th></th>\n",
       "      <th>GEN16</th>\n",
       "      <th>district</th>\n",
       "      <th>party</th>\n",
       "      <th>Prediction</th>\n",
       "      <th>Race</th>\n",
       "      <th>age</th>\n",
       "    </tr>\n",
       "  </thead>\n",
       "  <tbody>\n",
       "    <tr>\n",
       "      <th>0</th>\n",
       "      <td>1.0</td>\n",
       "      <td>MRT</td>\n",
       "      <td>REP</td>\n",
       "      <td>Jewish</td>\n",
       "      <td>5</td>\n",
       "      <td>67.0</td>\n",
       "    </tr>\n",
       "    <tr>\n",
       "      <th>1</th>\n",
       "      <td>1.0</td>\n",
       "      <td>CLA</td>\n",
       "      <td>REP</td>\n",
       "      <td>Western European</td>\n",
       "      <td>5</td>\n",
       "      <td>35.0</td>\n",
       "    </tr>\n",
       "    <tr>\n",
       "      <th>2</th>\n",
       "      <td>0.0</td>\n",
       "      <td>HIL</td>\n",
       "      <td>DEM</td>\n",
       "      <td>Western European</td>\n",
       "      <td>3</td>\n",
       "      <td>20.0</td>\n",
       "    </tr>\n",
       "    <tr>\n",
       "      <th>3</th>\n",
       "      <td>1.0</td>\n",
       "      <td>MON</td>\n",
       "      <td>NPA</td>\n",
       "      <td>Western European</td>\n",
       "      <td>5</td>\n",
       "      <td>43.0</td>\n",
       "    </tr>\n",
       "    <tr>\n",
       "      <th>4</th>\n",
       "      <td>1.0</td>\n",
       "      <td>BAK</td>\n",
       "      <td>REP</td>\n",
       "      <td>Western European</td>\n",
       "      <td>5</td>\n",
       "      <td>52.0</td>\n",
       "    </tr>\n",
       "  </tbody>\n",
       "</table>\n",
       "</div>"
      ],
      "text/plain": [
       "   GEN16 district party        Prediction  Race   age\n",
       "0    1.0      MRT   REP            Jewish     5  67.0\n",
       "1    1.0      CLA   REP  Western European     5  35.0\n",
       "2    0.0      HIL   DEM  Western European     3  20.0\n",
       "3    1.0      MON   NPA  Western European     5  43.0\n",
       "4    1.0      BAK   REP  Western European     5  52.0"
      ]
     },
     "execution_count": 38,
     "metadata": {},
     "output_type": "execute_result"
    }
   ],
   "source": [
    "reg.head()"
   ]
  },
  {
   "cell_type": "code",
   "execution_count": 50,
   "metadata": {
    "collapsed": true
   },
   "outputs": [],
   "source": [
    "reg1 = reg.dropna(axis=0)"
   ]
  },
  {
   "cell_type": "code",
   "execution_count": 51,
   "metadata": {},
   "outputs": [
    {
     "name": "stdout",
     "output_type": "stream",
     "text": [
      "Index(['GEN16', 'district', 'party', 'Prediction', 'Race', 'age'], dtype='object') [0, 0, 0, 0, 0, 0]\n"
     ]
    }
   ],
   "source": [
    "\n",
    "print(reg1.columns, reg1.isnull().sum(axis=0).tolist())"
   ]
  },
  {
   "cell_type": "code",
   "execution_count": 52,
   "metadata": {
    "collapsed": true
   },
   "outputs": [],
   "source": [
    "\n",
    "datamodel1 = pd.get_dummies(reg1, columns=['district','party', \"Prediction\", \"Race\"])"
   ]
  },
  {
   "cell_type": "code",
   "execution_count": 53,
   "metadata": {},
   "outputs": [
    {
     "data": {
      "text/plain": [
       "Index(['GEN16', 'age', 'district_ALA', 'district_BAK', 'district_BAY',\n",
       "       'district_BRA', 'district_BRE', 'district_BRO', 'district_CAL',\n",
       "       'district_CHA', 'district_CIT', 'district_CLA', 'district_CLL',\n",
       "       'district_CLM', 'district_DAD', 'district_DES', 'district_DIX',\n",
       "       'district_DUV', 'district_ESC', 'district_FLA', 'district_FRA',\n",
       "       'district_GAD', 'district_GIL', 'district_GLA', 'district_GUL',\n",
       "       'district_HAM', 'district_HAR', 'district_HEN', 'district_HER',\n",
       "       'district_HIG', 'district_HIL', 'district_HOL', 'district_IND',\n",
       "       'district_JAC', 'district_JEF', 'district_LAF', 'district_LAK',\n",
       "       'district_LEE', 'district_LEO', 'district_LEV', 'district_LIB',\n",
       "       'district_MAD', 'district_MAN', 'district_MON', 'district_MRN',\n",
       "       'district_MRT', 'district_NAS', 'district_OKA', 'district_OKE',\n",
       "       'district_ORA', 'district_OSC', 'district_PAL', 'district_PAS',\n",
       "       'district_PIN', 'district_POL', 'district_PUT', 'district_SAN',\n",
       "       'district_SAR', 'district_SEM', 'district_STJ', 'district_STL',\n",
       "       'district_SUM', 'district_SUW', 'district_TAY', 'district_UNI',\n",
       "       'district_VOL', 'district_WAK', 'district_WAL', 'district_WAS',\n",
       "       'party_AIP', 'party_CPF', 'party_DEM', 'party_ECO', 'party_GRE',\n",
       "       'party_IDP', 'party_INT', 'party_LPF', 'party_NPA', 'party_REF',\n",
       "       'party_REP', 'Prediction_African', 'Prediction_East Asian',\n",
       "       'Prediction_Eastern European', 'Prediction_Hispanic',\n",
       "       'Prediction_Indian', 'Prediction_Jewish', 'Prediction_Muslim/Arabic',\n",
       "       'Prediction_Western European', 'Race_1', 'Race_2', 'Race_3', 'Race_4',\n",
       "       'Race_5', 'Race_6', 'Race_7', 'Race_9'],\n",
       "      dtype='object')"
      ]
     },
     "execution_count": 53,
     "metadata": {},
     "output_type": "execute_result"
    }
   ],
   "source": [
    "datamodel1.columns"
   ]
  },
  {
   "cell_type": "code",
   "execution_count": 55,
   "metadata": {
    "collapsed": true
   },
   "outputs": [],
   "source": [
    "\n",
    "msk = np.random.rand(len(datamodel1)) < 0.5\n",
    "train = datamodel1[msk]\n",
    "test = datamodel1[~msk]\n",
    "\n",
    "y_train = train['GEN16']\n",
    "y_test = test['GEN16']\n",
    "X_train = train.drop(['GEN16'], axis = 1)\n",
    "X_test = test.drop(['GEN16'], axis = 1)"
   ]
  },
  {
   "cell_type": "code",
   "execution_count": 56,
   "metadata": {},
   "outputs": [
    {
     "name": "stdout",
     "output_type": "stream",
     "text": [
      "0.836471923428\n"
     ]
    }
   ],
   "source": [
    "print(np.sum(datamodel1[\"GEN16\"])/len(datamodel1[\"GEN16\"]))"
   ]
  },
  {
   "cell_type": "code",
   "execution_count": null,
   "metadata": {
    "collapsed": true
   },
   "outputs": [],
   "source": []
  },
  {
   "cell_type": "code",
   "execution_count": 36,
   "metadata": {},
   "outputs": [
    {
     "data": {
      "text/plain": [
       "Index(['GEN16', 'age', 'district_ALA', 'district_BAK', 'district_BAY',\n",
       "       'district_BRA', 'district_BRE', 'district_BRO', 'district_CAL',\n",
       "       'district_CHA', 'district_CIT', 'district_CLA', 'district_CLL',\n",
       "       'district_CLM', 'district_DAD', 'district_DES', 'district_DIX',\n",
       "       'district_DUV', 'district_ESC', 'district_FLA', 'district_FRA',\n",
       "       'district_GAD', 'district_GIL', 'district_GLA', 'district_GUL',\n",
       "       'district_HAM', 'district_HAR', 'district_HEN', 'district_HER',\n",
       "       'district_HIG', 'district_HIL', 'district_HOL', 'district_IND',\n",
       "       'district_JAC', 'district_JEF', 'district_LAF', 'district_LAK',\n",
       "       'district_LEE', 'district_LEO', 'district_LEV', 'district_LIB',\n",
       "       'district_MAD', 'district_MAN', 'district_MON', 'district_MRN',\n",
       "       'district_MRT', 'district_NAS', 'district_OKA', 'district_OKE',\n",
       "       'district_ORA', 'district_OSC', 'district_PAL', 'district_PAS',\n",
       "       'district_PIN', 'district_POL', 'district_PUT', 'district_SAN',\n",
       "       'district_SAR', 'district_SEM', 'district_STJ', 'district_STL',\n",
       "       'district_SUM', 'district_SUW', 'district_TAY', 'district_UNI',\n",
       "       'district_VOL', 'district_WAK', 'district_WAL', 'district_WAS',\n",
       "       'party_AIP', 'party_CPF', 'party_DEM', 'party_ECO', 'party_GRE',\n",
       "       'party_IDP', 'party_INT', 'party_LPF', 'party_NPA', 'party_REF',\n",
       "       'party_REP', 'Prediction_African', 'Prediction_East Asian',\n",
       "       'Prediction_Eastern European', 'Prediction_Hispanic',\n",
       "       'Prediction_Indian', 'Prediction_Jewish', 'Prediction_Muslim/Arabic',\n",
       "       'Prediction_Western European', 'Race_1', 'Race_2', 'Race_3', 'Race_4',\n",
       "       'Race_5', 'Race_6', 'Race_7', 'Race_9'],\n",
       "      dtype='object')"
      ]
     },
     "execution_count": 36,
     "metadata": {},
     "output_type": "execute_result"
    }
   ],
   "source": [
    "datamodel1.columns"
   ]
  },
  {
   "cell_type": "code",
   "execution_count": 37,
   "metadata": {},
   "outputs": [
    {
     "ename": "ValueError",
     "evalue": "Input contains NaN, infinity or a value too large for dtype('float64').",
     "output_type": "error",
     "traceback": [
      "\u001b[0;31m---------------------------------------------------------------------------\u001b[0m",
      "\u001b[0;31mValueError\u001b[0m                                Traceback (most recent call last)",
      "\u001b[0;32m<ipython-input-37-b90a263ee1c4>\u001b[0m in \u001b[0;36m<module>\u001b[0;34m()\u001b[0m\n\u001b[1;32m      3\u001b[0m \u001b[0mcvals\u001b[0m \u001b[0;34m=\u001b[0m \u001b[0;34m[\u001b[0m\u001b[0;36m1\u001b[0m\u001b[0;34m,\u001b[0m \u001b[0;36m10\u001b[0m\u001b[0;34m,\u001b[0m \u001b[0;36m100\u001b[0m\u001b[0;34m,\u001b[0m \u001b[0;36m10000\u001b[0m\u001b[0;34m,\u001b[0m \u001b[0;36m100000\u001b[0m\u001b[0;34m]\u001b[0m\u001b[0;34m\u001b[0m\u001b[0m\n\u001b[1;32m      4\u001b[0m \u001b[0mlogit\u001b[0m \u001b[0;34m=\u001b[0m \u001b[0mLogisticRegressionCV\u001b[0m\u001b[0;34m(\u001b[0m\u001b[0mCs\u001b[0m\u001b[0;34m=\u001b[0m\u001b[0mcvals\u001b[0m\u001b[0;34m,\u001b[0m \u001b[0mpenalty\u001b[0m\u001b[0;34m=\u001b[0m\u001b[0;34m'l2'\u001b[0m\u001b[0;34m,\u001b[0m \u001b[0mcv\u001b[0m\u001b[0;34m=\u001b[0m\u001b[0;36m5\u001b[0m\u001b[0;34m,\u001b[0m \u001b[0mscoring\u001b[0m \u001b[0;34m=\u001b[0m \u001b[0;34m\"roc_auc\"\u001b[0m\u001b[0;34m)\u001b[0m\u001b[0;34m\u001b[0m\u001b[0m\n\u001b[0;32m----> 5\u001b[0;31m \u001b[0mlogit\u001b[0m\u001b[0;34m.\u001b[0m\u001b[0mfit\u001b[0m\u001b[0;34m(\u001b[0m\u001b[0mX_train\u001b[0m\u001b[0;34m,\u001b[0m \u001b[0my_train\u001b[0m\u001b[0;34m)\u001b[0m\u001b[0;34m\u001b[0m\u001b[0m\n\u001b[0m\u001b[1;32m      6\u001b[0m \u001b[0my_hat_train\u001b[0m \u001b[0;34m=\u001b[0m \u001b[0mlogit\u001b[0m\u001b[0;34m.\u001b[0m\u001b[0mpredict\u001b[0m\u001b[0;34m(\u001b[0m\u001b[0mX_train\u001b[0m\u001b[0;34m)\u001b[0m\u001b[0;34m\u001b[0m\u001b[0m\n\u001b[1;32m      7\u001b[0m \u001b[0my_hat_test\u001b[0m \u001b[0;34m=\u001b[0m \u001b[0mlogit\u001b[0m\u001b[0;34m.\u001b[0m\u001b[0mpredict\u001b[0m\u001b[0;34m(\u001b[0m\u001b[0mX_test\u001b[0m\u001b[0;34m)\u001b[0m\u001b[0;34m\u001b[0m\u001b[0m\n",
      "\u001b[0;32m/anaconda/lib/python3.6/site-packages/sklearn/linear_model/logistic.py\u001b[0m in \u001b[0;36mfit\u001b[0;34m(self, X, y, sample_weight)\u001b[0m\n\u001b[1;32m   1551\u001b[0m \u001b[0;34m\u001b[0m\u001b[0m\n\u001b[1;32m   1552\u001b[0m         X, y = check_X_y(X, y, accept_sparse='csr', dtype=np.float64,\n\u001b[0;32m-> 1553\u001b[0;31m                          order=\"C\")\n\u001b[0m\u001b[1;32m   1554\u001b[0m         \u001b[0mcheck_classification_targets\u001b[0m\u001b[0;34m(\u001b[0m\u001b[0my\u001b[0m\u001b[0;34m)\u001b[0m\u001b[0;34m\u001b[0m\u001b[0m\n\u001b[1;32m   1555\u001b[0m \u001b[0;34m\u001b[0m\u001b[0m\n",
      "\u001b[0;32m/anaconda/lib/python3.6/site-packages/sklearn/utils/validation.py\u001b[0m in \u001b[0;36mcheck_X_y\u001b[0;34m(X, y, accept_sparse, dtype, order, copy, force_all_finite, ensure_2d, allow_nd, multi_output, ensure_min_samples, ensure_min_features, y_numeric, warn_on_dtype, estimator)\u001b[0m\n\u001b[1;32m    519\u001b[0m     X = check_array(X, accept_sparse, dtype, order, copy, force_all_finite,\n\u001b[1;32m    520\u001b[0m                     \u001b[0mensure_2d\u001b[0m\u001b[0;34m,\u001b[0m \u001b[0mallow_nd\u001b[0m\u001b[0;34m,\u001b[0m \u001b[0mensure_min_samples\u001b[0m\u001b[0;34m,\u001b[0m\u001b[0;34m\u001b[0m\u001b[0m\n\u001b[0;32m--> 521\u001b[0;31m                     ensure_min_features, warn_on_dtype, estimator)\n\u001b[0m\u001b[1;32m    522\u001b[0m     \u001b[0;32mif\u001b[0m \u001b[0mmulti_output\u001b[0m\u001b[0;34m:\u001b[0m\u001b[0;34m\u001b[0m\u001b[0m\n\u001b[1;32m    523\u001b[0m         y = check_array(y, 'csr', force_all_finite=True, ensure_2d=False,\n",
      "\u001b[0;32m/anaconda/lib/python3.6/site-packages/sklearn/utils/validation.py\u001b[0m in \u001b[0;36mcheck_array\u001b[0;34m(array, accept_sparse, dtype, order, copy, force_all_finite, ensure_2d, allow_nd, ensure_min_samples, ensure_min_features, warn_on_dtype, estimator)\u001b[0m\n\u001b[1;32m    405\u001b[0m                              % (array.ndim, estimator_name))\n\u001b[1;32m    406\u001b[0m         \u001b[0;32mif\u001b[0m \u001b[0mforce_all_finite\u001b[0m\u001b[0;34m:\u001b[0m\u001b[0;34m\u001b[0m\u001b[0m\n\u001b[0;32m--> 407\u001b[0;31m             \u001b[0m_assert_all_finite\u001b[0m\u001b[0;34m(\u001b[0m\u001b[0marray\u001b[0m\u001b[0;34m)\u001b[0m\u001b[0;34m\u001b[0m\u001b[0m\n\u001b[0m\u001b[1;32m    408\u001b[0m \u001b[0;34m\u001b[0m\u001b[0m\n\u001b[1;32m    409\u001b[0m     \u001b[0mshape_repr\u001b[0m \u001b[0;34m=\u001b[0m \u001b[0m_shape_repr\u001b[0m\u001b[0;34m(\u001b[0m\u001b[0marray\u001b[0m\u001b[0;34m.\u001b[0m\u001b[0mshape\u001b[0m\u001b[0;34m)\u001b[0m\u001b[0;34m\u001b[0m\u001b[0m\n",
      "\u001b[0;32m/anaconda/lib/python3.6/site-packages/sklearn/utils/validation.py\u001b[0m in \u001b[0;36m_assert_all_finite\u001b[0;34m(X)\u001b[0m\n\u001b[1;32m     56\u001b[0m             and not np.isfinite(X).all()):\n\u001b[1;32m     57\u001b[0m         raise ValueError(\"Input contains NaN, infinity\"\n\u001b[0;32m---> 58\u001b[0;31m                          \" or a value too large for %r.\" % X.dtype)\n\u001b[0m\u001b[1;32m     59\u001b[0m \u001b[0;34m\u001b[0m\u001b[0m\n\u001b[1;32m     60\u001b[0m \u001b[0;34m\u001b[0m\u001b[0m\n",
      "\u001b[0;31mValueError\u001b[0m: Input contains NaN, infinity or a value too large for dtype('float64')."
     ]
    }
   ],
   "source": [
    "#Log Regression using LRCV\n",
    "#cross validation values\n",
    "cvals = [1, 10, 100, 10000, 100000]\n",
    "logit = LogisticRegressionCV(Cs=cvals, penalty='l2', cv=5, scoring = \"roc_auc\")\n",
    "logit.fit(X_train, y_train)\n",
    "y_hat_train = logit.predict(X_train)\n",
    "y_hat_test = logit.predict(X_test)\n",
    "#####"
   ]
  },
  {
   "cell_type": "code",
   "execution_count": 76,
   "metadata": {},
   "outputs": [
    {
     "data": {
      "image/png": "[encoded data removed]",
      "text/plain": [
       "<matplotlib.figure.Figure at 0x110e55a90>"
      ]
     },
     "metadata": {},
     "output_type": "display_data"
    },
    {
     "name": "stdout",
     "output_type": "stream",
     "text": [
      "The Area under the curve is:  0.688462240461\n"
     ]
    }
   ],
   "source": [
    "preds = logit.predict_proba(X_test)[:,1]\n",
    "fpr, tpr, thresholds = metrics.roc_curve(y_test, preds)\n",
    "fpr_2, tpr_2, thresholds_2 = metrics.roc_curve(y_test, [0 for y in y_test])\n",
    "roc_auc_2 = metrics.auc(fpr_2, tpr_2)\n",
    "plt.figure(figsize=(20,10))\n",
    "lw = 2\n",
    "roc_auc = metrics.auc(fpr, tpr)\n",
    "plt.plot(fpr, tpr, color='darkorange',\n",
    "         lw=lw, label='ROC curve (area = %0.2f) LogReg' % roc_auc)\n",
    "plt.plot([0], [0], marker='o', markersize=10, lw = 0, color=\"red\", label ='ROC curve (area = 0) Naive Classifier')\n",
    "plt.plot([0, 1], [0, 1], color='navy', lw=lw, linestyle='--')\n",
    "plt.xlim([-0.02, 1.0])\n",
    "plt.ylim([-0.02, 1.05])\n",
    "plt.xlabel('False Positive Rate')\n",
    "plt.ylabel('True Positive Rate')\n",
    "plt.title('Receiver operating characteristic')\n",
    "plt.legend(loc=\"lower right\", prop={'size':20})\n",
    "plt.show() \n",
    "print(\"The Area under the curve is: \" , roc_auc)"
   ]
  },
  {
   "cell_type": "code",
   "execution_count": 77,
   "metadata": {},
   "outputs": [
    {
     "name": "stdout",
     "output_type": "stream",
     "text": [
      "the first 26 components explain 0.900 of variance\n"
     ]
    }
   ],
   "source": [
    "pca = PCA()\n",
    "pca.fit(X_train)\n",
    "var_c = np.cumsum(pca.explained_variance_ratio_)\n",
    "\n",
    "n_components_pca = np.sum(var_c<0.9)\n",
    "print(\"the first %i components explain %0.3f of variance\" % (n_components_pca, var_c[n_components_pca]))\n",
    "X_train_pca = pca.transform(X_train)[:,:n_components_pca]\n",
    "X_test_pca = pca.transform(X_test)[:,:n_components_pca]\n",
    "logregpca = LogisticRegressionCV(Cs=cvals, penalty='l2', cv=5, fit_intercept=True, scoring='roc_auc')\n",
    "logregpca.fit(X_train_pca, y_train)\n",
    "y_hat_pca_train = logregpca.predict_proba(X_train_pca)[:,1]\n",
    "y_hat_pca_test = logregpca.predict_proba(X_test_pca)[:,1] \n",
    "##### \n"
   ]
  },
  {
   "cell_type": "code",
   "execution_count": 78,
   "metadata": {},
   "outputs": [
    {
     "data": {
      "image/png": "[encoded data removed]",
      "text/plain": [
       "<matplotlib.figure.Figure at 0x123a67d30>"
      ]
     },
     "metadata": {},
     "output_type": "display_data"
    }
   ],
   "source": [
    "preds = logregpca.predict_proba(X_test_pca)[:,1]\n",
    "fpr, tpr, thresholds = metrics.roc_curve(y_test, preds)\n",
    "fpr_2, tpr_2, thresholds_2 = metrics.roc_curve(y_test, [0 for y in y_test])\n",
    "roc_auc_2 = metrics.auc(fpr_2, tpr_2)\n",
    "plt.figure(figsize=(20,10))\n",
    "lw = 2\n",
    "roc_auc = metrics.auc(fpr, tpr)\n",
    "plt.plot(fpr, tpr, color='darkorange',\n",
    "         lw=lw, label='ROC curve (area = %0.2f) LogReg' % roc_auc)\n",
    "plt.plot([0], [0], marker='o', markersize=10, lw = 0, color=\"red\", label ='ROC curve (area = 0) Naive Classifier')\n",
    "plt.plot([0, 1], [0, 1], color='navy', lw=lw, linestyle='--')\n",
    "plt.xlim([-0.02, 1.0])\n",
    "plt.ylim([-0.02, 1.05])\n",
    "plt.xlabel('False Positive Rate')\n",
    "plt.ylabel('True Positive Rate')\n",
    "plt.title('Receiver operating characteristic')\n",
    "plt.legend(loc=\"lower right\", prop={'size':20})\n",
    "plt.show() "
   ]
  },
  {
   "cell_type": "markdown",
   "metadata": {},
   "source": [
    "### Assumptions of Logistic Regression\n",
    "Logistic Regression Assumptions\n",
    "\n",
    "Binary logistic regression requires the dependent variable to be binary.\n",
    "For a binary regression, the factor level 1 of the dependent variable should represent the desired outcome.\n",
    "Only the meaningful variables should be included.\n",
    "The independent variables should be independent of each other. That is, the model should have little or no multicollinearity.\n",
    "The independent variables are linearly related to the log odds.\n",
    "Logistic regression requires quite large sample sizes.\n",
    "\n",
    "\n",
    "Because logistic regression uses MLE rather than OLS, it avoids many\n",
    "of the typical assumptions tested in statistical analysis.\n",
    "Does not assume normality of variables (both DV and IVs).\n",
    "Does not assume linearity between DV and IVs.\n",
    "Does not assume homoscedasticity.\n",
    "Does not assume normal errors.\n",
    "MLE allows more flexibility in the data and analysis because it has\n",
    "fewer restrictions."
   ]
  },
  {
   "cell_type": "code",
   "execution_count": 57,
   "metadata": {
    "collapsed": true
   },
   "outputs": [],
   "source": [
    "\n",
    "showupandvoted = train[train['GEN16']==1]\n",
    "noshow = train[train['GEN16']==0]\n",
    "showupandvoted = showupandvoted.sample(8109)\n",
    "\n",
    "frames = [noshow, showupandvoted] \n",
    "train_even = pd.concat(frames)\n",
    "test = test.sample(8109)\n",
    "\n",
    "train= train_even\n",
    "test = test.sample(8109)"
   ]
  },
  {
   "cell_type": "code",
   "execution_count": 86,
   "metadata": {},
   "outputs": [
    {
     "data": {
      "text/plain": [
       "8191"
      ]
     },
     "execution_count": 86,
     "metadata": {},
     "output_type": "execute_result"
    }
   ],
   "source": [
    "len(train[train['GEN16']==0])"
   ]
  },
  {
   "cell_type": "code",
   "execution_count": 87,
   "metadata": {},
   "outputs": [
    {
     "name": "stdout",
     "output_type": "stream",
     "text": [
      "0.4974846625766871 8109 8191\n"
     ]
    }
   ],
   "source": [
    "print((len(train[train[\"GEN16\"]==1])/len(train)), len(train[train[\"GEN16\"]==1]), len(train[train[\"GEN16\"]==0]))"
   ]
  },
  {
   "cell_type": "code",
   "execution_count": 88,
   "metadata": {
    "collapsed": true
   },
   "outputs": [],
   "source": [
    "y_train = train['GEN16']\n",
    "y_test = test['GEN16']\n",
    "X_train = train.drop(['GEN16'], axis = 1)\n",
    "X_test = test.drop(['GEN16'], axis = 1)"
   ]
  },
  {
   "cell_type": "code",
   "execution_count": 89,
   "metadata": {},
   "outputs": [
    {
     "data": {
      "image/png": "[encoded data removed]",
      "text/plain": [
       "<matplotlib.figure.Figure at 0x1135954e0>"
      ]
     },
     "metadata": {},
     "output_type": "display_data"
    },
    {
     "name": "stdout",
     "output_type": "stream",
     "text": [
      "The Area under the curve is:  0.752639898656\n"
     ]
    }
   ],
   "source": [
    "#Log Regression using LRCV\n",
    "#cross validation values\n",
    "cvals = [1, 10, 100, 10000, 100000]\n",
    "logit = LogisticRegressionCV(Cs=cvals, penalty='l2', cv=5, scoring = \"roc_auc\")\n",
    "logit.fit(X_train, y_train)\n",
    "y_hat_train = logit.predict(X_train)\n",
    "y_hat_test = logit.predict(X_test)\n",
    "#####\n",
    "preds = logit.predict_proba(X_test)[:,1]\n",
    "fpr, tpr, thresholds = metrics.roc_curve(y_test, preds)\n",
    "fpr_2, tpr_2, thresholds_2 = metrics.roc_curve(y_test, [0 for y in y_test])\n",
    "roc_auc_2 = metrics.auc(fpr_2, tpr_2)\n",
    "plt.figure(figsize=(20,10))\n",
    "lw = 2\n",
    "roc_auc = metrics.auc(fpr, tpr)\n",
    "plt.plot(fpr, tpr, color='darkorange',\n",
    "         lw=lw, label='ROC curve (area = %0.2f) LogReg' % roc_auc)\n",
    "plt.plot([0], [0], marker='o', markersize=10, lw = 0, color=\"red\", label ='ROC curve (area = 0) Naive Classifier')\n",
    "plt.plot([0, 1], [0, 1], color='navy', lw=lw, linestyle='--')\n",
    "plt.xlim([-0.02, 1.0])\n",
    "plt.ylim([-0.02, 1.05])\n",
    "plt.xlabel('False Positive Rate')\n",
    "plt.ylabel('True Positive Rate')\n",
    "plt.title('Receiver operating characteristic')\n",
    "plt.legend(loc=\"lower right\", prop={'size':20})\n",
    "plt.show() \n",
    "print(\"The Area under the curve is: \" , roc_auc)"
   ]
  },
  {
   "cell_type": "code",
   "execution_count": 65,
   "metadata": {},
   "outputs": [
    {
     "data": {
      "text/html": [
       "<div>\n",
       "<style scoped>\n",
       "    .dataframe tbody tr th:only-of-type {\n",
       "        vertical-align: middle;\n",
       "    }\n",
       "\n",
       "    .dataframe tbody tr th {\n",
       "        vertical-align: top;\n",
       "    }\n",
       "\n",
       "    .dataframe thead th {\n",
       "        text-align: right;\n",
       "    }\n",
       "</style>\n",
       "<table border=\"1\" class=\"dataframe\">\n",
       "  <thead>\n",
       "    <tr style=\"text-align: right;\">\n",
       "      <th></th>\n",
       "      <th>GEN16</th>\n",
       "      <th>district</th>\n",
       "      <th>party</th>\n",
       "      <th>Race</th>\n",
       "      <th>age</th>\n",
       "    </tr>\n",
       "  </thead>\n",
       "  <tbody>\n",
       "    <tr>\n",
       "      <th>0</th>\n",
       "      <td>1.0</td>\n",
       "      <td>MRT</td>\n",
       "      <td>REP</td>\n",
       "      <td>5</td>\n",
       "      <td>67.0</td>\n",
       "    </tr>\n",
       "    <tr>\n",
       "      <th>1</th>\n",
       "      <td>1.0</td>\n",
       "      <td>CLA</td>\n",
       "      <td>REP</td>\n",
       "      <td>5</td>\n",
       "      <td>35.0</td>\n",
       "    </tr>\n",
       "    <tr>\n",
       "      <th>2</th>\n",
       "      <td>0.0</td>\n",
       "      <td>HIL</td>\n",
       "      <td>DEM</td>\n",
       "      <td>3</td>\n",
       "      <td>20.0</td>\n",
       "    </tr>\n",
       "    <tr>\n",
       "      <th>3</th>\n",
       "      <td>1.0</td>\n",
       "      <td>MON</td>\n",
       "      <td>NPA</td>\n",
       "      <td>5</td>\n",
       "      <td>43.0</td>\n",
       "    </tr>\n",
       "    <tr>\n",
       "      <th>4</th>\n",
       "      <td>1.0</td>\n",
       "      <td>BAK</td>\n",
       "      <td>REP</td>\n",
       "      <td>5</td>\n",
       "      <td>52.0</td>\n",
       "    </tr>\n",
       "  </tbody>\n",
       "</table>\n",
       "</div>"
      ],
      "text/plain": [
       "   GEN16 district party  Race   age\n",
       "0    1.0      MRT   REP     5  67.0\n",
       "1    1.0      CLA   REP     5  35.0\n",
       "2    0.0      HIL   DEM     3  20.0\n",
       "3    1.0      MON   NPA     5  43.0\n",
       "4    1.0      BAK   REP     5  52.0"
      ]
     },
     "execution_count": 65,
     "metadata": {},
     "output_type": "execute_result"
    }
   ],
   "source": [
    "reg1.head()"
   ]
  },
  {
   "cell_type": "code",
   "execution_count": 64,
   "metadata": {
    "collapsed": true
   },
   "outputs": [],
   "source": [
    "del reg1['Prediction']"
   ]
  },
  {
   "cell_type": "code",
   "execution_count": 66,
   "metadata": {},
   "outputs": [
    {
     "name": "stdout",
     "output_type": "stream",
     "text": [
      "Index(['GEN16', 'district', 'party', 'Race', 'age'], dtype='object') [0, 0, 0, 0, 0]\n"
     ]
    }
   ],
   "source": [
    "#reg1 = reg.dropna(axis=0)\n",
    "print(reg1.columns, reg1.isnull().sum(axis=0).tolist())\n"
   ]
  },
  {
   "cell_type": "code",
   "execution_count": 67,
   "metadata": {
    "collapsed": true
   },
   "outputs": [],
   "source": [
    "datamodel1 = pd.get_dummies(reg1, columns=['district','party', \"Race\"])\n"
   ]
  },
  {
   "cell_type": "code",
   "execution_count": 68,
   "metadata": {
    "collapsed": true
   },
   "outputs": [],
   "source": [
    "msk = np.random.rand(len(datamodel1)) < 0.5\n",
    "train = datamodel1[msk]\n",
    "test = datamodel1[~msk]\n",
    "\n",
    "\n",
    "showupandvoted = train[train['GEN16']==1]\n",
    "noshow = train[train['GEN16']==0]\n",
    "showupandvoted = showupandvoted.sample(8109)\n",
    "\n",
    "frames = [noshow, showupandvoted] \n",
    "train_even = pd.concat(frames)\n",
    "test = test.sample(8109)\n",
    "\n",
    "train= train_even\n",
    "test = test.sample(8109)"
   ]
  },
  {
   "cell_type": "code",
   "execution_count": 69,
   "metadata": {},
   "outputs": [
    {
     "name": "stdout",
     "output_type": "stream",
     "text": [
      "0.4974846625766871 8109 8191\n"
     ]
    }
   ],
   "source": [
    "print((len(train[train[\"GEN16\"]==1])/len(train)), len(train[train[\"GEN16\"]==1]), len(train[train[\"GEN16\"]==0]))"
   ]
  },
  {
   "cell_type": "code",
   "execution_count": 75,
   "metadata": {
    "collapsed": true
   },
   "outputs": [],
   "source": [
    "y_train = train['GEN16']\n",
    "y_test = test['GEN16']\n",
    "X_train = train.drop(['GEN16'], axis = 1)\n",
    "X_test = test.drop(['GEN16'], axis = 1)"
   ]
  },
  {
   "cell_type": "code",
   "execution_count": 76,
   "metadata": {},
   "outputs": [
    {
     "data": {
      "text/plain": [
       "0.49748466257668711"
      ]
     },
     "execution_count": 76,
     "metadata": {},
     "output_type": "execute_result"
    }
   ],
   "source": [
    "(y_train.sum())/len(y_train)"
   ]
  },
  {
   "cell_type": "code",
   "execution_count": 77,
   "metadata": {},
   "outputs": [
    {
     "data": {
      "image/png": "[encoded data removed]",
      "text/plain": [
       "<matplotlib.figure.Figure at 0x112d1a240>"
      ]
     },
     "metadata": {},
     "output_type": "display_data"
    },
    {
     "name": "stdout",
     "output_type": "stream",
     "text": [
      "The Area under the curve is:  0.752639898656\n"
     ]
    }
   ],
   "source": [
    "#Log Regression using LRCV\n",
    "#cross validation values\n",
    "cvals = [1, 10, 100, 10000, 100000]\n",
    "logit = LogisticRegressionCV(Cs=cvals, penalty='l2', cv=5, scoring = \"roc_auc\")\n",
    "logit.fit(X_train, y_train)\n",
    "y_hat_train = logit.predict(X_train)\n",
    "y_hat_test = logit.predict(X_test)\n",
    "#####\n",
    "preds = logit.predict_proba(X_test)[:,1]\n",
    "fpr, tpr, thresholds = metrics.roc_curve(y_test, preds)\n",
    "fpr_2, tpr_2, thresholds_2 = metrics.roc_curve(y_test, [0 for y in y_test])\n",
    "roc_auc_2 = metrics.auc(fpr_2, tpr_2)\n",
    "plt.figure(figsize=(20,10))\n",
    "lw = 2\n",
    "roc_auc = metrics.auc(fpr, tpr)\n",
    "plt.plot(fpr, tpr, color='darkorange',\n",
    "         lw=lw, label='ROC curve (area = %0.2f) LogReg' % roc_auc)\n",
    "plt.plot([0], [0], marker='o', markersize=10, lw = 0, color=\"red\", label ='ROC curve (area = 0) Naive Classifier')\n",
    "plt.plot([0, 1], [0, 1], color='navy', lw=lw, linestyle='--')\n",
    "plt.xlim([-0.02, 1.0])\n",
    "plt.ylim([-0.02, 1.05])\n",
    "plt.xlabel('False Positive Rate')\n",
    "plt.ylabel('True Positive Rate')\n",
    "plt.title('Receiver operating characteristic')\n",
    "plt.legend(loc=\"lower right\", prop={'size':20})\n",
    "plt.show() \n",
    "print(\"The Area under the curve is: \" , roc_auc)"
   ]
  },
  {
   "cell_type": "code",
   "execution_count": null,
   "metadata": {
    "collapsed": true
   },
   "outputs": [],
   "source": []
  }
 ],
 "metadata": {
  "kernelspec": {
   "display_name": "Python 3",
   "language": "python",
   "name": "python3"
  },
  "language_info": {
   "codemirror_mode": {
    "name": "ipython",
    "version": 3
   },
   "file_extension": ".py",
   "mimetype": "text/x-python",
   "name": "python",
   "nbconvert_exporter": "python",
   "pygments_lexer": "ipython3",
   "version": "3.6.1"
  }
 },
 "nbformat": 4,
 "nbformat_minor": 2
}
